{
 "cells": [
  {
   "attachments": {},
   "cell_type": "markdown",
   "metadata": {},
   "source": [
    "## EDA"
   ]
  },
  {
   "cell_type": "code",
   "execution_count": 182,
   "metadata": {},
   "outputs": [],
   "source": [
    "import numpy as np\n",
    "import matplotlib.pyplot as plt\n",
    "%matplotlib inline\n",
    "import seaborn as sns\n",
    "sns.set()\n",
    "import pandas as pd"
   ]
  },
  {
   "cell_type": "code",
   "execution_count": 146,
   "metadata": {},
   "outputs": [],
   "source": [
    "# Importa los datasets de score, titles y all\n",
    "score = pd.read_parquet('processed_data/score.parquet')\n",
    "titles = pd.read_parquet('processed_data/titles.parquet')\n",
    "S = pd.read_parquet('processed_data/S.parquet')\n",
    "all = pd.read_parquet('processed_data/all.parquet')"
   ]
  },
  {
   "cell_type": "code",
   "execution_count": 152,
   "metadata": {},
   "outputs": [
    {
     "name": "stdout",
     "output_type": "stream",
     "text": [
      "(11024289, 4)\n"
     ]
    },
    {
     "data": {
      "text/html": [
       "<div>\n",
       "<style scoped>\n",
       "    .dataframe tbody tr th:only-of-type {\n",
       "        vertical-align: middle;\n",
       "    }\n",
       "\n",
       "    .dataframe tbody tr th {\n",
       "        vertical-align: top;\n",
       "    }\n",
       "\n",
       "    .dataframe thead th {\n",
       "        text-align: right;\n",
       "    }\n",
       "</style>\n",
       "<table border=\"1\" class=\"dataframe\">\n",
       "  <thead>\n",
       "    <tr style=\"text-align: right;\">\n",
       "      <th></th>\n",
       "      <th>movieId</th>\n",
       "      <th>platform</th>\n",
       "    </tr>\n",
       "  </thead>\n",
       "  <tbody>\n",
       "    <tr>\n",
       "      <th>count</th>\n",
       "      <td>11024289</td>\n",
       "      <td>11024289</td>\n",
       "    </tr>\n",
       "    <tr>\n",
       "      <th>unique</th>\n",
       "      <td>22998</td>\n",
       "      <td>4</td>\n",
       "    </tr>\n",
       "    <tr>\n",
       "      <th>top</th>\n",
       "      <td>as4197</td>\n",
       "      <td>amazon</td>\n",
       "    </tr>\n",
       "    <tr>\n",
       "      <th>freq</th>\n",
       "      <td>576</td>\n",
       "      <td>4631850</td>\n",
       "    </tr>\n",
       "  </tbody>\n",
       "</table>\n",
       "</div>"
      ],
      "text/plain": [
       "         movieId  platform\n",
       "count   11024289  11024289\n",
       "unique     22998         4\n",
       "top       as4197    amazon\n",
       "freq         576   4631850"
      ]
     },
     "execution_count": 152,
     "metadata": {},
     "output_type": "execute_result"
    }
   ],
   "source": [
    "print(score.shape)\n",
    "score.describe(exclude='number')"
   ]
  },
  {
   "cell_type": "code",
   "execution_count": 171,
   "metadata": {},
   "outputs": [],
   "source": [
    "N_scores = score['movieId'].count()         # 11024289 puntuaciones\n",
    "N_titles_id = score['movieId'].nunique()    # 22998 id de titulos en score\n",
    "most_scored_id = score['movieId'].mode()    # as4197 id de titulo mas puntuado\n",
    "most_scored_p = score['platform'].mode()    # amazon es la plataforma con mas titulos puntuados"
   ]
  },
  {
   "cell_type": "code",
   "execution_count": 155,
   "metadata": {},
   "outputs": [
    {
     "data": {
      "text/html": [
       "<div>\n",
       "<style scoped>\n",
       "    .dataframe tbody tr th:only-of-type {\n",
       "        vertical-align: middle;\n",
       "    }\n",
       "\n",
       "    .dataframe tbody tr th {\n",
       "        vertical-align: top;\n",
       "    }\n",
       "\n",
       "    .dataframe thead th {\n",
       "        text-align: right;\n",
       "    }\n",
       "</style>\n",
       "<table border=\"1\" class=\"dataframe\">\n",
       "  <thead>\n",
       "    <tr style=\"text-align: right;\">\n",
       "      <th></th>\n",
       "      <th>release_year</th>\n",
       "      <th>duration_int</th>\n",
       "    </tr>\n",
       "  </thead>\n",
       "  <tbody>\n",
       "    <tr>\n",
       "      <th>count</th>\n",
       "      <td>22998.000000</td>\n",
       "      <td>22998.000000</td>\n",
       "    </tr>\n",
       "    <tr>\n",
       "      <th>mean</th>\n",
       "      <td>2010.811244</td>\n",
       "      <td>65.710584</td>\n",
       "    </tr>\n",
       "    <tr>\n",
       "      <th>std</th>\n",
       "      <td>15.401142</td>\n",
       "      <td>51.760868</td>\n",
       "    </tr>\n",
       "    <tr>\n",
       "      <th>min</th>\n",
       "      <td>1920.000000</td>\n",
       "      <td>0.000000</td>\n",
       "    </tr>\n",
       "    <tr>\n",
       "      <th>25%</th>\n",
       "      <td>2010.000000</td>\n",
       "      <td>3.000000</td>\n",
       "    </tr>\n",
       "    <tr>\n",
       "      <th>50%</th>\n",
       "      <td>2016.000000</td>\n",
       "      <td>83.000000</td>\n",
       "    </tr>\n",
       "    <tr>\n",
       "      <th>75%</th>\n",
       "      <td>2019.000000</td>\n",
       "      <td>101.000000</td>\n",
       "    </tr>\n",
       "    <tr>\n",
       "      <th>max</th>\n",
       "      <td>2021.000000</td>\n",
       "      <td>601.000000</td>\n",
       "    </tr>\n",
       "  </tbody>\n",
       "</table>\n",
       "</div>"
      ],
      "text/plain": [
       "       release_year  duration_int\n",
       "count  22998.000000  22998.000000\n",
       "mean    2010.811244     65.710584\n",
       "std       15.401142     51.760868\n",
       "min     1920.000000      0.000000\n",
       "25%     2010.000000      3.000000\n",
       "50%     2016.000000     83.000000\n",
       "75%     2019.000000    101.000000\n",
       "max     2021.000000    601.000000"
      ]
     },
     "execution_count": 155,
     "metadata": {},
     "output_type": "execute_result"
    }
   ],
   "source": [
    "titles.describe()"
   ]
  },
  {
   "cell_type": "code",
   "execution_count": 153,
   "metadata": {},
   "outputs": [
    {
     "name": "stdout",
     "output_type": "stream",
     "text": [
      "(22998, 13)\n"
     ]
    },
    {
     "data": {
      "text/html": [
       "<div>\n",
       "<style scoped>\n",
       "    .dataframe tbody tr th:only-of-type {\n",
       "        vertical-align: middle;\n",
       "    }\n",
       "\n",
       "    .dataframe tbody tr th {\n",
       "        vertical-align: top;\n",
       "    }\n",
       "\n",
       "    .dataframe thead th {\n",
       "        text-align: right;\n",
       "    }\n",
       "</style>\n",
       "<table border=\"1\" class=\"dataframe\">\n",
       "  <thead>\n",
       "    <tr style=\"text-align: right;\">\n",
       "      <th></th>\n",
       "      <th>id</th>\n",
       "      <th>platform</th>\n",
       "      <th>type</th>\n",
       "      <th>title</th>\n",
       "      <th>director</th>\n",
       "      <th>cast</th>\n",
       "      <th>country</th>\n",
       "      <th>date_added</th>\n",
       "      <th>duration_type</th>\n",
       "      <th>listed_in</th>\n",
       "      <th>description</th>\n",
       "    </tr>\n",
       "  </thead>\n",
       "  <tbody>\n",
       "    <tr>\n",
       "      <th>count</th>\n",
       "      <td>22998</td>\n",
       "      <td>22998</td>\n",
       "      <td>22998</td>\n",
       "      <td>22998</td>\n",
       "      <td>22998</td>\n",
       "      <td>22998</td>\n",
       "      <td>22998</td>\n",
       "      <td>13444</td>\n",
       "      <td>22516</td>\n",
       "      <td>22998</td>\n",
       "      <td>22998</td>\n",
       "    </tr>\n",
       "    <tr>\n",
       "      <th>unique</th>\n",
       "      <td>22998</td>\n",
       "      <td>4</td>\n",
       "      <td>2</td>\n",
       "      <td>22042</td>\n",
       "      <td>10096</td>\n",
       "      <td>16745</td>\n",
       "      <td>887</td>\n",
       "      <td>2003</td>\n",
       "      <td>2</td>\n",
       "      <td>1687</td>\n",
       "      <td>22670</td>\n",
       "    </tr>\n",
       "    <tr>\n",
       "      <th>top</th>\n",
       "      <td>as1</td>\n",
       "      <td>amazon</td>\n",
       "      <td>movie</td>\n",
       "      <td>married at first sight</td>\n",
       "      <td>nan</td>\n",
       "      <td>nan</td>\n",
       "      <td>nan</td>\n",
       "      <td>2019-11-12 00:00:00</td>\n",
       "      <td>min</td>\n",
       "      <td>drama</td>\n",
       "      <td>1</td>\n",
       "    </tr>\n",
       "    <tr>\n",
       "      <th>freq</th>\n",
       "      <td>1</td>\n",
       "      <td>9668</td>\n",
       "      <td>16481</td>\n",
       "      <td>4</td>\n",
       "      <td>8259</td>\n",
       "      <td>5321</td>\n",
       "      <td>11499</td>\n",
       "      <td>724</td>\n",
       "      <td>15999</td>\n",
       "      <td>1061</td>\n",
       "      <td>15</td>\n",
       "    </tr>\n",
       "    <tr>\n",
       "      <th>first</th>\n",
       "      <td>NaN</td>\n",
       "      <td>NaN</td>\n",
       "      <td>NaN</td>\n",
       "      <td>NaN</td>\n",
       "      <td>NaN</td>\n",
       "      <td>NaN</td>\n",
       "      <td>NaN</td>\n",
       "      <td>2006-07-14 00:00:00</td>\n",
       "      <td>NaN</td>\n",
       "      <td>NaN</td>\n",
       "      <td>NaN</td>\n",
       "    </tr>\n",
       "    <tr>\n",
       "      <th>last</th>\n",
       "      <td>NaN</td>\n",
       "      <td>NaN</td>\n",
       "      <td>NaN</td>\n",
       "      <td>NaN</td>\n",
       "      <td>NaN</td>\n",
       "      <td>NaN</td>\n",
       "      <td>NaN</td>\n",
       "      <td>2021-11-26 00:00:00</td>\n",
       "      <td>NaN</td>\n",
       "      <td>NaN</td>\n",
       "      <td>NaN</td>\n",
       "    </tr>\n",
       "  </tbody>\n",
       "</table>\n",
       "</div>"
      ],
      "text/plain": [
       "           id platform   type                   title director   cast country  \\\n",
       "count   22998    22998  22998                   22998    22998  22998   22998   \n",
       "unique  22998        4      2                   22042    10096  16745     887   \n",
       "top       as1   amazon  movie  married at first sight      nan    nan     nan   \n",
       "freq        1     9668  16481                       4     8259   5321   11499   \n",
       "first     NaN      NaN    NaN                     NaN      NaN    NaN     NaN   \n",
       "last      NaN      NaN    NaN                     NaN      NaN    NaN     NaN   \n",
       "\n",
       "                 date_added duration_type listed_in description  \n",
       "count                 13444         22516     22998       22998  \n",
       "unique                 2003             2      1687       22670  \n",
       "top     2019-11-12 00:00:00           min     drama           1  \n",
       "freq                    724         15999      1061          15  \n",
       "first   2006-07-14 00:00:00           NaN       NaN         NaN  \n",
       "last    2021-11-26 00:00:00           NaN       NaN         NaN  "
      ]
     },
     "execution_count": 153,
     "metadata": {},
     "output_type": "execute_result"
    }
   ],
   "source": [
    "print(titles.shape)\n",
    "titles.describe(exclude='number') # No coinciden los encabezados de ambos datasets para movieId e id"
   ]
  },
  {
   "cell_type": "code",
   "execution_count": 172,
   "metadata": {},
   "outputs": [],
   "source": [
    "min_year_t = titles['release_year'].min()   # 1920 es el anio de lanzamiento mas antiguo\n",
    "max_year_t = titles['release_year'].min()   # 2021 es el anio de lanzamiento mas reciente"
   ]
  },
  {
   "cell_type": "code",
   "execution_count": 192,
   "metadata": {},
   "outputs": [
    {
     "data": {
      "text/plain": [
       "Text(0, 0.5, 'Ratio of missing values')"
      ]
     },
     "execution_count": 192,
     "metadata": {},
     "output_type": "execute_result"
    },
    {
     "data": {
      "image/png": "[encoded data removed]",
      "text/plain": [
       "<Figure size 800x550 with 1 Axes>"
      ]
     },
     "metadata": {},
     "output_type": "display_data"
    }
   ],
   "source": [
    "# Visualiza valores faltantes en porcentajes por columna\n",
    "titles.isna().mean().sort_values().plot(kind='bar')\n",
    "plt.title('Ratio of missing values by column')\n",
    "plt.xlabel('Columns')\n",
    "plt.ylabel('Ratio of missing values')"
   ]
  },
  {
   "cell_type": "code",
   "execution_count": 187,
   "metadata": {},
   "outputs": [
    {
     "data": {
      "text/plain": [
       "<Figure size 400x400 with 0 Axes>"
      ]
     },
     "metadata": {},
     "output_type": "display_data"
    },
    {
     "data": {
      "image/png": "[encoded data removed]",
      "text/plain": [
       "<Figure size 800x550 with 1 Axes>"
      ]
     },
     "metadata": {},
     "output_type": "display_data"
    }
   ],
   "source": [
    "# Peliculas por plataforma\n",
    "moviesByP = score.groupby('platform').agg(pd.Series({'movieId': 'count'}))\n",
    "\n",
    "fig = plt.figure(figsize=(4,4))\n",
    "fig, ax = plt.subplots()\n",
    "plt.bar(moviesByP.index, moviesByP['movieId'].values)\n",
    "ax.set_xlabel('Platform')\n",
    "ax.set_ylabel('Number of titles')\n",
    "ax.set_title('Titles per platform')\n",
    "plt.show()"
   ]
  },
  {
   "cell_type": "code",
   "execution_count": 147,
   "metadata": {},
   "outputs": [
    {
     "data": {
      "text/html": [
       "<div>\n",
       "<style scoped>\n",
       "    .dataframe tbody tr th:only-of-type {\n",
       "        vertical-align: middle;\n",
       "    }\n",
       "\n",
       "    .dataframe tbody tr th {\n",
       "        vertical-align: top;\n",
       "    }\n",
       "\n",
       "    .dataframe thead th {\n",
       "        text-align: right;\n",
       "    }\n",
       "</style>\n",
       "<table border=\"1\" class=\"dataframe\">\n",
       "  <thead>\n",
       "    <tr style=\"text-align: right;\">\n",
       "      <th></th>\n",
       "      <th></th>\n",
       "      <th>userId</th>\n",
       "      <th>score</th>\n",
       "    </tr>\n",
       "    <tr>\n",
       "      <th>movieId</th>\n",
       "      <th>platform</th>\n",
       "      <th></th>\n",
       "      <th></th>\n",
       "    </tr>\n",
       "  </thead>\n",
       "  <tbody>\n",
       "    <tr>\n",
       "      <th>as1</th>\n",
       "      <th>amazon</th>\n",
       "      <td>99178.623506</td>\n",
       "      <td>3.467131</td>\n",
       "    </tr>\n",
       "    <tr>\n",
       "      <th>as10</th>\n",
       "      <th>amazon</th>\n",
       "      <td>92915.883041</td>\n",
       "      <td>3.439571</td>\n",
       "    </tr>\n",
       "  </tbody>\n",
       "</table>\n",
       "</div>"
      ],
      "text/plain": [
       "                        userId     score\n",
       "movieId platform                        \n",
       "as1     amazon    99178.623506  3.467131\n",
       "as10    amazon    92915.883041  3.439571"
      ]
     },
     "execution_count": 147,
     "metadata": {},
     "output_type": "execute_result"
    }
   ],
   "source": [
    "# Score agrupado por pelicula (min = 3.3, max = 3.72)\n",
    "scoreByP = all.groupby(by=['movieId','platform']).mean()\n",
    "maxAvgScore = scoreByP['score'].max()\n",
    "minAvgScore = scoreByP['score'].min()\n",
    "scoreByP.head(2)"
   ]
  },
  {
   "cell_type": "code",
   "execution_count": 148,
   "metadata": {},
   "outputs": [
    {
     "name": "stdout",
     "output_type": "stream",
     "text": [
      "users: 115077\n"
     ]
    },
    {
     "data": {
      "text/html": [
       "<div>\n",
       "<style scoped>\n",
       "    .dataframe tbody tr th:only-of-type {\n",
       "        vertical-align: middle;\n",
       "    }\n",
       "\n",
       "    .dataframe tbody tr th {\n",
       "        vertical-align: top;\n",
       "    }\n",
       "\n",
       "    .dataframe thead th {\n",
       "        text-align: right;\n",
       "    }\n",
       "</style>\n",
       "<table border=\"1\" class=\"dataframe\">\n",
       "  <thead>\n",
       "    <tr style=\"text-align: right;\">\n",
       "      <th></th>\n",
       "      <th>movieId</th>\n",
       "      <th>score</th>\n",
       "      <th>platform</th>\n",
       "    </tr>\n",
       "    <tr>\n",
       "      <th>userId</th>\n",
       "      <th></th>\n",
       "      <th></th>\n",
       "      <th></th>\n",
       "    </tr>\n",
       "  </thead>\n",
       "  <tbody>\n",
       "    <tr>\n",
       "      <th>270892</th>\n",
       "      <td>75</td>\n",
       "      <td>75</td>\n",
       "      <td>75</td>\n",
       "    </tr>\n",
       "    <tr>\n",
       "      <th>270893</th>\n",
       "      <td>190</td>\n",
       "      <td>190</td>\n",
       "      <td>190</td>\n",
       "    </tr>\n",
       "    <tr>\n",
       "      <th>270894</th>\n",
       "      <td>148</td>\n",
       "      <td>148</td>\n",
       "      <td>148</td>\n",
       "    </tr>\n",
       "    <tr>\n",
       "      <th>270895</th>\n",
       "      <td>20</td>\n",
       "      <td>20</td>\n",
       "      <td>20</td>\n",
       "    </tr>\n",
       "    <tr>\n",
       "      <th>270896</th>\n",
       "      <td>260</td>\n",
       "      <td>260</td>\n",
       "      <td>260</td>\n",
       "    </tr>\n",
       "  </tbody>\n",
       "</table>\n",
       "</div>"
      ],
      "text/plain": [
       "        movieId  score  platform\n",
       "userId                          \n",
       "270892       75     75        75\n",
       "270893      190    190       190\n",
       "270894      148    148       148\n",
       "270895       20     20        20\n",
       "270896      260    260       260"
      ]
     },
     "execution_count": 148,
     "metadata": {},
     "output_type": "execute_result"
    }
   ],
   "source": [
    "# Usuarios únicos 115077\n",
    "print('users:',len(score['userId'].unique()))\n",
    "usersAmount = len(score['userId'].unique())\n",
    "# Calificaciones de películas por usuario\n",
    "scoresByUser = score.groupby(['userId']).count()\n",
    "scoresByUser.tail()"
   ]
  },
  {
   "cell_type": "code",
   "execution_count": 54,
   "metadata": {},
   "outputs": [
    {
     "data": {
      "image/png": "[encoded data removed]",
      "text/plain": [
       "<Figure size 640x480 with 1 Axes>"
      ]
     },
     "metadata": {},
     "output_type": "display_data"
    }
   ],
   "source": [
    "# Distribucion de calificaciones por usuario\n",
    "plt.hist(scoresByUser.score, log= True)\n",
    "plt.title('Scores distribution by userId')  \n",
    "plt.ylabel(\"Scores Amount\")      # Adjust the label of the y-axis\n",
    "plt.xlabel(\"Users Id\")              # # Adjust the label of the x-axis\n",
    "plt.show()"
   ]
  },
  {
   "cell_type": "code",
   "execution_count": 55,
   "metadata": {},
   "outputs": [
    {
     "data": {
      "image/png": "[encoded data removed]",
      "text/plain": [
       "<Figure size 640x480 with 1 Axes>"
      ]
     },
     "metadata": {},
     "output_type": "display_data"
    }
   ],
   "source": [
    "# Distribución de las cantidades de calificaciones\n",
    "score['score'].hist()\n",
    "plt.title('Scores distribution by score')\n",
    "plt.ylabel(\"Scores Amount\")      # Adjust the label of the y-axis\n",
    "plt.xlabel(\"Score\")              # Adjust the label of the x-axis\n",
    "plt.show()"
   ]
  },
  {
   "cell_type": "code",
   "execution_count": 56,
   "metadata": {},
   "outputs": [
    {
     "name": "stdout",
     "output_type": "stream",
     "text": [
      "movies: 22998\n"
     ]
    },
    {
     "data": {
      "text/html": [
       "<div>\n",
       "<style scoped>\n",
       "    .dataframe tbody tr th:only-of-type {\n",
       "        vertical-align: middle;\n",
       "    }\n",
       "\n",
       "    .dataframe tbody tr th {\n",
       "        vertical-align: top;\n",
       "    }\n",
       "\n",
       "    .dataframe thead th {\n",
       "        text-align: right;\n",
       "    }\n",
       "</style>\n",
       "<table border=\"1\" class=\"dataframe\">\n",
       "  <thead>\n",
       "    <tr style=\"text-align: right;\">\n",
       "      <th></th>\n",
       "      <th>userId</th>\n",
       "      <th>score</th>\n",
       "      <th>platform</th>\n",
       "    </tr>\n",
       "    <tr>\n",
       "      <th>movieId</th>\n",
       "      <th></th>\n",
       "      <th></th>\n",
       "      <th></th>\n",
       "    </tr>\n",
       "  </thead>\n",
       "  <tbody>\n",
       "    <tr>\n",
       "      <th>as1</th>\n",
       "      <td>502</td>\n",
       "      <td>502</td>\n",
       "      <td>502</td>\n",
       "    </tr>\n",
       "    <tr>\n",
       "      <th>as10</th>\n",
       "      <td>513</td>\n",
       "      <td>513</td>\n",
       "      <td>513</td>\n",
       "    </tr>\n",
       "  </tbody>\n",
       "</table>\n",
       "</div>"
      ],
      "text/plain": [
       "         userId  score  platform\n",
       "movieId                         \n",
       "as1         502    502       502\n",
       "as10        513    513       513"
      ]
     },
     "execution_count": 56,
     "metadata": {},
     "output_type": "execute_result"
    }
   ],
   "source": [
    "# Calificaciones por pelicula\n",
    "print('movies:',len(score['movieId'].unique()))     # Cantidad de peliculas/series: 22998\n",
    "scoresByMovie = score.groupby(['movieId']).count()  # Agrupar por peliculas/series  \n",
    "maxAmountScores = scoresByMovie['score'].max()      # Agrupacion maxima: 576\n",
    "scoresByMovie.head(2)"
   ]
  },
  {
   "cell_type": "code",
   "execution_count": 58,
   "metadata": {},
   "outputs": [
    {
     "name": "stdout",
     "output_type": "stream",
     "text": [
      "movieId with maximum amount of scores: as4197\n",
      "movieId with minimum amount of scores: as4940\n"
     ]
    }
   ],
   "source": [
    "# Peliculas/series con mas y menos calificaciones\n",
    "idx_max = scoresByMovie['userId'].idxmax()                  # Index de maxima cantidad de scores (576): as4197\n",
    "print('movieId with maximum amount of scores:',idx_max) \n",
    "maxAmountScores = scoresByMovie['score'].max()              # Maxima cantidad de scores: 576\n",
    "movieIdMaxAmountScores = idx_max                            # movieId con maxima cantidad de scores: as4197\n",
    "idx_min = scoresByMovie['userId'].idxmin()                  # Index de minimo Id de usuario (396): as4940\n",
    "print('movieId with minimum amount of scores:',idx_min)\n",
    "minAmountScores = scoresByMovie['score'].min()              # Minima cantidad de scores: 396\n",
    "movieIdMinAmountScores = idx_min                            # movieId con minima cantidad de scores: as4940"
   ]
  },
  {
   "cell_type": "code",
   "execution_count": 149,
   "metadata": {},
   "outputs": [
    {
     "data": {
      "text/html": [
       "<div>\n",
       "<style scoped>\n",
       "    .dataframe tbody tr th:only-of-type {\n",
       "        vertical-align: middle;\n",
       "    }\n",
       "\n",
       "    .dataframe tbody tr th {\n",
       "        vertical-align: top;\n",
       "    }\n",
       "\n",
       "    .dataframe thead th {\n",
       "        text-align: right;\n",
       "    }\n",
       "</style>\n",
       "<table border=\"1\" class=\"dataframe\">\n",
       "  <thead>\n",
       "    <tr style=\"text-align: right;\">\n",
       "      <th></th>\n",
       "      <th>viewed</th>\n",
       "    </tr>\n",
       "    <tr>\n",
       "      <th>movieId</th>\n",
       "      <th></th>\n",
       "    </tr>\n",
       "  </thead>\n",
       "  <tbody>\n",
       "    <tr>\n",
       "      <th>as4197</th>\n",
       "      <td>576</td>\n",
       "    </tr>\n",
       "    <tr>\n",
       "      <th>as9065</th>\n",
       "      <td>560</td>\n",
       "    </tr>\n",
       "    <tr>\n",
       "      <th>ns7279</th>\n",
       "      <td>558</td>\n",
       "    </tr>\n",
       "    <tr>\n",
       "      <th>as848</th>\n",
       "      <td>558</td>\n",
       "    </tr>\n",
       "    <tr>\n",
       "      <th>hs2360</th>\n",
       "      <td>556</td>\n",
       "    </tr>\n",
       "  </tbody>\n",
       "</table>\n",
       "</div>"
      ],
      "text/plain": [
       "         viewed\n",
       "movieId        \n",
       "as4197      576\n",
       "as9065      560\n",
       "ns7279      558\n",
       "as848       558\n",
       "hs2360      556"
      ]
     },
     "execution_count": 149,
     "metadata": {},
     "output_type": "execute_result"
    }
   ],
   "source": [
    "# Viewed: Peliculas/series ordenadas por mas a menos cantidad de calificaciones\n",
    "Viewed = all.groupby(['movieId']).count()\n",
    "Viewed.sort_values('userId', ascending = False, inplace = True)\n",
    "Viewed['viewed'] = Viewed['userId']\n",
    "Viewed.drop(columns = ['userId','score','platform','title'], inplace = True)\n",
    "Viewed.head(3)"
   ]
  },
  {
   "cell_type": "code",
   "execution_count": 150,
   "metadata": {},
   "outputs": [
    {
     "ename": "KeyError",
     "evalue": "\"None of ['movieId'] are in the columns\"",
     "output_type": "error",
     "traceback": [
      "\u001b[0;31m---------------------------------------------------------------------------\u001b[0m",
      "\u001b[0;31mKeyError\u001b[0m                                  Traceback (most recent call last)",
      "Cell \u001b[0;32mIn[150], line 2\u001b[0m\n\u001b[1;32m      1\u001b[0m \u001b[39m# Agrega los title al Viewed\u001b[39;00m\n\u001b[0;32m----> 2\u001b[0m titles \u001b[39m=\u001b[39m titles\u001b[39m.\u001b[39;49mset_index(\u001b[39m'\u001b[39;49m\u001b[39mmovieId\u001b[39;49m\u001b[39m'\u001b[39;49m)\n\u001b[1;32m      3\u001b[0m Viewed[\u001b[39m'\u001b[39m\u001b[39mtitle\u001b[39m\u001b[39m'\u001b[39m] \u001b[39m=\u001b[39m titles\u001b[39m.\u001b[39mloc[Viewed\u001b[39m.\u001b[39mindex]\u001b[39m.\u001b[39mtitle\n\u001b[1;32m      4\u001b[0m Viewed\n",
      "File \u001b[0;32m~/Documents/GitHub/PI_ML_OPS/venv/lib/python3.10/site-packages/pandas/util/_decorators.py:331\u001b[0m, in \u001b[0;36mdeprecate_nonkeyword_arguments.<locals>.decorate.<locals>.wrapper\u001b[0;34m(*args, **kwargs)\u001b[0m\n\u001b[1;32m    325\u001b[0m \u001b[39mif\u001b[39;00m \u001b[39mlen\u001b[39m(args) \u001b[39m>\u001b[39m num_allow_args:\n\u001b[1;32m    326\u001b[0m     warnings\u001b[39m.\u001b[39mwarn(\n\u001b[1;32m    327\u001b[0m         msg\u001b[39m.\u001b[39mformat(arguments\u001b[39m=\u001b[39m_format_argument_list(allow_args)),\n\u001b[1;32m    328\u001b[0m         \u001b[39mFutureWarning\u001b[39;00m,\n\u001b[1;32m    329\u001b[0m         stacklevel\u001b[39m=\u001b[39mfind_stack_level(),\n\u001b[1;32m    330\u001b[0m     )\n\u001b[0;32m--> 331\u001b[0m \u001b[39mreturn\u001b[39;00m func(\u001b[39m*\u001b[39;49margs, \u001b[39m*\u001b[39;49m\u001b[39m*\u001b[39;49mkwargs)\n",
      "File \u001b[0;32m~/Documents/GitHub/PI_ML_OPS/venv/lib/python3.10/site-packages/pandas/core/frame.py:6012\u001b[0m, in \u001b[0;36mDataFrame.set_index\u001b[0;34m(self, keys, drop, append, inplace, verify_integrity)\u001b[0m\n\u001b[1;32m   6009\u001b[0m                 missing\u001b[39m.\u001b[39mappend(col)\n\u001b[1;32m   6011\u001b[0m \u001b[39mif\u001b[39;00m missing:\n\u001b[0;32m-> 6012\u001b[0m     \u001b[39mraise\u001b[39;00m \u001b[39mKeyError\u001b[39;00m(\u001b[39mf\u001b[39m\u001b[39m\"\u001b[39m\u001b[39mNone of \u001b[39m\u001b[39m{\u001b[39;00mmissing\u001b[39m}\u001b[39;00m\u001b[39m are in the columns\u001b[39m\u001b[39m\"\u001b[39m)\n\u001b[1;32m   6014\u001b[0m \u001b[39mif\u001b[39;00m inplace:\n\u001b[1;32m   6015\u001b[0m     frame \u001b[39m=\u001b[39m \u001b[39mself\u001b[39m\n",
      "\u001b[0;31mKeyError\u001b[0m: \"None of ['movieId'] are in the columns\""
     ]
    }
   ],
   "source": [
    "# Agrega los title al Viewed\n",
    "titles = titles.set_index('movieId')\n",
    "Viewed['title'] = titles.loc[Viewed.index].title\n",
    "Viewed"
   ]
  },
  {
   "cell_type": "code",
   "execution_count": 61,
   "metadata": {},
   "outputs": [
    {
     "name": "stdout",
     "output_type": "stream",
     "text": [
      "Movie with Maximum amount of scores: from other worlds\n",
      "Movie with Minimum amount of scores: mitzi (nbc 1968)\n"
     ]
    }
   ],
   "source": [
    "movieMaxAmountScores = Viewed.loc[movieIdMaxAmountScores, 'title'] \n",
    "movieMinAmountScores = Viewed.loc[movieIdMinAmountScores, 'title'] \n",
    "print('Movie with Maximum amount of scores:',movieMaxAmountScores)\n",
    "print('Movie with Minimum amount of scores:',movieMinAmountScores)"
   ]
  },
  {
   "cell_type": "code",
   "execution_count": 62,
   "metadata": {},
   "outputs": [
    {
     "data": {
      "image/png": "[encoded data removed]",
      "text/plain": [
       "<Figure size 600x300 with 1 Axes>"
      ]
     },
     "metadata": {},
     "output_type": "display_data"
    }
   ],
   "source": [
    "# Grafica la cantidad de vistas\n",
    "plt.figure(figsize = (6,3))\n",
    "Viewed.viewed[Viewed.viewed<600].hist(log = True)\n",
    "plt.title('Distribution for amount of views')\n",
    "plt.show()"
   ]
  },
  {
   "attachments": {},
   "cell_type": "markdown",
   "metadata": {},
   "source": [
    "## Conclusiones"
   ]
  },
  {
   "cell_type": "code",
   "execution_count": null,
   "metadata": {},
   "outputs": [],
   "source": [
    "# df_title.to_csv('data/df_title.csv', index=False)"
   ]
  },
  {
   "cell_type": "code",
   "execution_count": 64,
   "metadata": {},
   "outputs": [
    {
     "name": "stdout",
     "output_type": "stream",
     "text": [
      "EDA conclusions:\n",
      "Users amount: 115077\n",
      "Scores amount: 11024288\n",
      "Maximum Average Score (by platform) 3.5866666666666664\n",
      "Minimum Average Score (by platform) 3.1799163179916317\n",
      "Maximum amount of scores in a movie: 576\n",
      "Minimum amount of scores in a movie: 396\n",
      "Movie Id with maximum amount of scores: as4197\n",
      "Movie Id with minimum amount of scores: as4940\n",
      "Movie with Maximum amount of scores: from other worlds\n",
      "Movie with Minimum amount of scores: mitzi (nbc 1968)\n"
     ]
    }
   ],
   "source": [
    "print('EDA conclusions:')\n",
    "print('Users amount:',usersAmount)\n",
    "print('Movies amount:',movies_amount)\n",
    "print('Scores amount:',scores_amount)\n",
    "print('Maximum Average Score (by platform)',maxAvgScore)\n",
    "print('Minimum Average Score (by platform)',minAvgScore)\n",
    "print('Maximum amount of scores in a movie:', maxAmountScores)\n",
    "print('Minimum amount of scores in a movie:', minAmountScores)\n",
    "print('Movie Id with maximum amount of scores:',movieIdMaxAmountScores)\n",
    "print('Movie Id with minimum amount of scores:',movieIdMinAmountScores)\n",
    "print('Movie with Maximum amount of scores:',movieMaxAmountScores)\n",
    "print('Movie with Minimum amount of scores:',movieMinAmountScores)"
   ]
  }
 ],
 "metadata": {
  "kernelspec": {
   "display_name": "venv",
   "language": "python",
   "name": "python3"
  },
  "language_info": {
   "codemirror_mode": {
    "name": "ipython",
    "version": 3
   },
   "file_extension": ".py",
   "mimetype": "text/x-python",
   "name": "python",
   "nbconvert_exporter": "python",
   "pygments_lexer": "ipython3",
   "version": "3.10.10"
  },
  "orig_nbformat": 4
 },
 "nbformat": 4,
 "nbformat_minor": 2
}
