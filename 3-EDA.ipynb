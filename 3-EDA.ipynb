{
 "cells": [
  {
   "cell_type": "code",
   "execution_count": 194,
   "metadata": {},
   "outputs": [],
   "source": [
    "import numpy as np\n",
    "import matplotlib.pyplot as plt\n",
    "import seaborn as sns\n",
    "sns.set()\n",
    "\n",
    "import pandas as pd\n",
    "\n",
    "import gc #garbage collector"
   ]
  },
  {
   "cell_type": "code",
   "execution_count": 195,
   "metadata": {},
   "outputs": [],
   "source": [
    "# Importa los datasets de score y titles\n",
    "score = pd.read_csv('ignore/score.csv')\n",
    "titles = pd.read_csv('data/all.csv')"
   ]
  },
  {
   "cell_type": "code",
   "execution_count": 196,
   "metadata": {},
   "outputs": [
    {
     "name": "stdout",
     "output_type": "stream",
     "text": [
      "(11024289, 7)\n"
     ]
    },
    {
     "data": {
      "text/html": [
       "<div>\n",
       "<style scoped>\n",
       "    .dataframe tbody tr th:only-of-type {\n",
       "        vertical-align: middle;\n",
       "    }\n",
       "\n",
       "    .dataframe tbody tr th {\n",
       "        vertical-align: top;\n",
       "    }\n",
       "\n",
       "    .dataframe thead th {\n",
       "        text-align: right;\n",
       "    }\n",
       "</style>\n",
       "<table border=\"1\" class=\"dataframe\">\n",
       "  <thead>\n",
       "    <tr style=\"text-align: right;\">\n",
       "      <th></th>\n",
       "      <th>index</th>\n",
       "      <th>userId</th>\n",
       "      <th>score</th>\n",
       "      <th>timestamp</th>\n",
       "      <th>movieId</th>\n",
       "      <th>year</th>\n",
       "      <th>platform</th>\n",
       "    </tr>\n",
       "  </thead>\n",
       "  <tbody>\n",
       "    <tr>\n",
       "      <th>11024287</th>\n",
       "      <td>1499998</td>\n",
       "      <td>124380</td>\n",
       "      <td>4.5</td>\n",
       "      <td>1196787089</td>\n",
       "      <td>ns7881</td>\n",
       "      <td>2007</td>\n",
       "      <td>n</td>\n",
       "    </tr>\n",
       "    <tr>\n",
       "      <th>11024288</th>\n",
       "      <td>1499999</td>\n",
       "      <td>124380</td>\n",
       "      <td>1.5</td>\n",
       "      <td>1196785847</td>\n",
       "      <td>as883</td>\n",
       "      <td>2007</td>\n",
       "      <td>a</td>\n",
       "    </tr>\n",
       "  </tbody>\n",
       "</table>\n",
       "</div>"
      ],
      "text/plain": [
       "            index  userId  score   timestamp movieId  year platform\n",
       "11024287  1499998  124380    4.5  1196787089  ns7881  2007        n\n",
       "11024288  1499999  124380    1.5  1196785847   as883  2007        a"
      ]
     },
     "execution_count": 196,
     "metadata": {},
     "output_type": "execute_result"
    }
   ],
   "source": [
    "print(score.shape)\n",
    "score.tail(2)"
   ]
  },
  {
   "cell_type": "code",
   "execution_count": 197,
   "metadata": {},
   "outputs": [
    {
     "data": {
      "text/html": [
       "<div>\n",
       "<style scoped>\n",
       "    .dataframe tbody tr th:only-of-type {\n",
       "        vertical-align: middle;\n",
       "    }\n",
       "\n",
       "    .dataframe tbody tr th {\n",
       "        vertical-align: top;\n",
       "    }\n",
       "\n",
       "    .dataframe thead th {\n",
       "        text-align: right;\n",
       "    }\n",
       "</style>\n",
       "<table border=\"1\" class=\"dataframe\">\n",
       "  <thead>\n",
       "    <tr style=\"text-align: right;\">\n",
       "      <th></th>\n",
       "      <th>id</th>\n",
       "      <th>platform</th>\n",
       "      <th>type</th>\n",
       "      <th>title</th>\n",
       "      <th>director</th>\n",
       "      <th>cast</th>\n",
       "      <th>country</th>\n",
       "      <th>date_added</th>\n",
       "      <th>release_year</th>\n",
       "      <th>duration_int</th>\n",
       "      <th>duration_type</th>\n",
       "      <th>listed_in</th>\n",
       "      <th>description</th>\n",
       "    </tr>\n",
       "  </thead>\n",
       "  <tbody>\n",
       "    <tr>\n",
       "      <th>22996</th>\n",
       "      <td>ns8806</td>\n",
       "      <td>netflix</td>\n",
       "      <td>movie</td>\n",
       "      <td>zoom</td>\n",
       "      <td>peter hewitt</td>\n",
       "      <td>tim allen, courteney cox, chevy chase, kate ma...</td>\n",
       "      <td>united states</td>\n",
       "      <td>2020-01-11</td>\n",
       "      <td>2006</td>\n",
       "      <td>88</td>\n",
       "      <td>min</td>\n",
       "      <td>children &amp; family movies, comedies</td>\n",
       "      <td>dragged from civilian life, a former superhero...</td>\n",
       "    </tr>\n",
       "    <tr>\n",
       "      <th>22997</th>\n",
       "      <td>ns8807</td>\n",
       "      <td>netflix</td>\n",
       "      <td>movie</td>\n",
       "      <td>zubaan</td>\n",
       "      <td>mozez singh</td>\n",
       "      <td>vicky kaushal, sarah-jane dias, raaghav chanan...</td>\n",
       "      <td>india</td>\n",
       "      <td>2019-03-02</td>\n",
       "      <td>2015</td>\n",
       "      <td>111</td>\n",
       "      <td>min</td>\n",
       "      <td>dramas, international movies, music &amp; musicals</td>\n",
       "      <td>a scrappy but poor boy worms his way into a ty...</td>\n",
       "    </tr>\n",
       "  </tbody>\n",
       "</table>\n",
       "</div>"
      ],
      "text/plain": [
       "           id platform   type   title      director  \\\n",
       "22996  ns8806  netflix  movie    zoom  peter hewitt   \n",
       "22997  ns8807  netflix  movie  zubaan   mozez singh   \n",
       "\n",
       "                                                    cast        country  \\\n",
       "22996  tim allen, courteney cox, chevy chase, kate ma...  united states   \n",
       "22997  vicky kaushal, sarah-jane dias, raaghav chanan...          india   \n",
       "\n",
       "       date_added  release_year  duration_int duration_type  \\\n",
       "22996  2020-01-11          2006            88           min   \n",
       "22997  2019-03-02          2015           111           min   \n",
       "\n",
       "                                            listed_in  \\\n",
       "22996              children & family movies, comedies   \n",
       "22997  dramas, international movies, music & musicals   \n",
       "\n",
       "                                             description  \n",
       "22996  dragged from civilian life, a former superhero...  \n",
       "22997  a scrappy but poor boy worms his way into a ty...  "
      ]
     },
     "execution_count": 197,
     "metadata": {},
     "output_type": "execute_result"
    }
   ],
   "source": [
    "titles.tail(2) # No coinciden los encabezados de ambos datasets para movieId e id"
   ]
  },
  {
   "cell_type": "code",
   "execution_count": 198,
   "metadata": {},
   "outputs": [
    {
     "data": {
      "text/html": [
       "<div>\n",
       "<style scoped>\n",
       "    .dataframe tbody tr th:only-of-type {\n",
       "        vertical-align: middle;\n",
       "    }\n",
       "\n",
       "    .dataframe tbody tr th {\n",
       "        vertical-align: top;\n",
       "    }\n",
       "\n",
       "    .dataframe thead th {\n",
       "        text-align: right;\n",
       "    }\n",
       "</style>\n",
       "<table border=\"1\" class=\"dataframe\">\n",
       "  <thead>\n",
       "    <tr style=\"text-align: right;\">\n",
       "      <th></th>\n",
       "      <th>movieId</th>\n",
       "      <th>title</th>\n",
       "    </tr>\n",
       "  </thead>\n",
       "  <tbody>\n",
       "    <tr>\n",
       "      <th>22996</th>\n",
       "      <td>ns8806</td>\n",
       "      <td>zoom</td>\n",
       "    </tr>\n",
       "    <tr>\n",
       "      <th>22997</th>\n",
       "      <td>ns8807</td>\n",
       "      <td>zubaan</td>\n",
       "    </tr>\n",
       "  </tbody>\n",
       "</table>\n",
       "</div>"
      ],
      "text/plain": [
       "      movieId   title\n",
       "22996  ns8806    zoom\n",
       "22997  ns8807  zubaan"
      ]
     },
     "execution_count": 198,
     "metadata": {},
     "output_type": "execute_result"
    }
   ],
   "source": [
    "\n",
    "# Filtra las columnas userId, movieId y score del dataset score y las columnas id y title del dataset title.\n",
    "score = score[['userId','movieId','score','platform']]\n",
    "titles = titles[['id','title']]\n",
    "titles = titles.rename(columns={'id':'movieId'}) # Cambia el nombre para que haya coincidencia\n",
    "df_title = titles[['movieId','title']]\n",
    "df_title.tail(2)"
   ]
  },
  {
   "cell_type": "code",
   "execution_count": 139,
   "metadata": {},
   "outputs": [
    {
     "data": {
      "text/html": [
       "<div>\n",
       "<style scoped>\n",
       "    .dataframe tbody tr th:only-of-type {\n",
       "        vertical-align: middle;\n",
       "    }\n",
       "\n",
       "    .dataframe tbody tr th {\n",
       "        vertical-align: top;\n",
       "    }\n",
       "\n",
       "    .dataframe thead th {\n",
       "        text-align: right;\n",
       "    }\n",
       "</style>\n",
       "<table border=\"1\" class=\"dataframe\">\n",
       "  <thead>\n",
       "    <tr style=\"text-align: right;\">\n",
       "      <th></th>\n",
       "      <th>userId</th>\n",
       "      <th>movieId</th>\n",
       "      <th>score</th>\n",
       "      <th>platform</th>\n",
       "      <th>title</th>\n",
       "    </tr>\n",
       "  </thead>\n",
       "  <tbody>\n",
       "    <tr>\n",
       "      <th>11024287</th>\n",
       "      <td>124380</td>\n",
       "      <td>ns7881</td>\n",
       "      <td>4.5</td>\n",
       "      <td>n</td>\n",
       "      <td>rocky ii</td>\n",
       "    </tr>\n",
       "    <tr>\n",
       "      <th>11024288</th>\n",
       "      <td>124380</td>\n",
       "      <td>as883</td>\n",
       "      <td>1.5</td>\n",
       "      <td>a</td>\n",
       "      <td>storm boy</td>\n",
       "    </tr>\n",
       "  </tbody>\n",
       "</table>\n",
       "</div>"
      ],
      "text/plain": [
       "          userId movieId  score platform      title\n",
       "11024287  124380  ns7881    4.5        n   rocky ii\n",
       "11024288  124380   as883    1.5        a  storm boy"
      ]
     },
     "execution_count": 139,
     "metadata": {},
     "output_type": "execute_result"
    }
   ],
   "source": [
    "# Unifica los datasets\n",
    "df = pd.merge(score,titles,how='left',on='movieId')\n",
    "scores_amount = len(df)-1\n",
    "df.tail(2)"
   ]
  },
  {
   "cell_type": "code",
   "execution_count": 126,
   "metadata": {},
   "outputs": [
    {
     "name": "stderr",
     "output_type": "stream",
     "text": [
      "/var/folders/qr/g6x89n_d48j570j5qt_7mrhr0000gn/T/ipykernel_87483/1053466509.py:2: FutureWarning: The default value of numeric_only in DataFrameGroupBy.mean is deprecated. In a future version, numeric_only will default to False. Either specify numeric_only or select only columns which should be valid for the function.\n",
      "  scoreByP = df.groupby(by=['movieId','platform']).mean()\n"
     ]
    },
    {
     "data": {
      "text/html": [
       "<div>\n",
       "<style scoped>\n",
       "    .dataframe tbody tr th:only-of-type {\n",
       "        vertical-align: middle;\n",
       "    }\n",
       "\n",
       "    .dataframe tbody tr th {\n",
       "        vertical-align: top;\n",
       "    }\n",
       "\n",
       "    .dataframe thead th {\n",
       "        text-align: right;\n",
       "    }\n",
       "</style>\n",
       "<table border=\"1\" class=\"dataframe\">\n",
       "  <thead>\n",
       "    <tr style=\"text-align: right;\">\n",
       "      <th></th>\n",
       "      <th></th>\n",
       "      <th>userId</th>\n",
       "      <th>score</th>\n",
       "    </tr>\n",
       "    <tr>\n",
       "      <th>movieId</th>\n",
       "      <th>platform</th>\n",
       "      <th></th>\n",
       "      <th></th>\n",
       "    </tr>\n",
       "  </thead>\n",
       "  <tbody>\n",
       "    <tr>\n",
       "      <th>as1</th>\n",
       "      <th>a</th>\n",
       "      <td>99178.623506</td>\n",
       "      <td>3.467131</td>\n",
       "    </tr>\n",
       "    <tr>\n",
       "      <th>as10</th>\n",
       "      <th>a</th>\n",
       "      <td>92915.883041</td>\n",
       "      <td>3.439571</td>\n",
       "    </tr>\n",
       "  </tbody>\n",
       "</table>\n",
       "</div>"
      ],
      "text/plain": [
       "                        userId     score\n",
       "movieId platform                        \n",
       "as1     a         99178.623506  3.467131\n",
       "as10    a         92915.883041  3.439571"
      ]
     },
     "execution_count": 126,
     "metadata": {},
     "output_type": "execute_result"
    }
   ],
   "source": [
    "# Score por plataforma y por pelicula (min = 3.3, max = 3.72)\n",
    "scoreByP = df.groupby(by=['movieId','platform']).mean()\n",
    "maxAvgScore = scoreByP['score'].max()\n",
    "minAvgScore = scoreByP['score'].min()\n",
    "scoreByP.head(2)"
   ]
  },
  {
   "cell_type": "code",
   "execution_count": 116,
   "metadata": {},
   "outputs": [
    {
     "ename": "TypeError",
     "evalue": "Cannot index by location index with a non-integer key",
     "output_type": "error",
     "traceback": [
      "\u001b[0;31m---------------------------------------------------------------------------\u001b[0m",
      "\u001b[0;31mTypeError\u001b[0m                                 Traceback (most recent call last)",
      "Cell \u001b[0;32mIn[116], line 2\u001b[0m\n\u001b[1;32m      1\u001b[0m id_max \u001b[39m=\u001b[39m scoreByP[\u001b[39m'\u001b[39m\u001b[39mscore\u001b[39m\u001b[39m'\u001b[39m]\u001b[39m.\u001b[39midxmax()[\u001b[39m0\u001b[39m]\n\u001b[0;32m----> 2\u001b[0m movie \u001b[39m=\u001b[39m df\u001b[39m.\u001b[39;49miloc[id_max]\u001b[39m.\u001b[39mtitle\n\u001b[1;32m      4\u001b[0m \u001b[39m# idx_max = df['userId'].idxmax() # 9524029\u001b[39;00m\n\u001b[1;32m      5\u001b[0m \u001b[39m# movieMaxAmountScores = df.loc[idx_max].title\u001b[39;00m\n\u001b[1;32m      6\u001b[0m \n\u001b[1;32m      7\u001b[0m \u001b[39m# scoreByP['score'].idxmax()[0]\u001b[39;00m\n",
      "File \u001b[0;32m~/Documents/GitHub/PI_ML_OPS/venv/lib/python3.10/site-packages/pandas/core/indexing.py:1073\u001b[0m, in \u001b[0;36m_LocationIndexer.__getitem__\u001b[0;34m(self, key)\u001b[0m\n\u001b[1;32m   1070\u001b[0m axis \u001b[39m=\u001b[39m \u001b[39mself\u001b[39m\u001b[39m.\u001b[39maxis \u001b[39mor\u001b[39;00m \u001b[39m0\u001b[39m\n\u001b[1;32m   1072\u001b[0m maybe_callable \u001b[39m=\u001b[39m com\u001b[39m.\u001b[39mapply_if_callable(key, \u001b[39mself\u001b[39m\u001b[39m.\u001b[39mobj)\n\u001b[0;32m-> 1073\u001b[0m \u001b[39mreturn\u001b[39;00m \u001b[39mself\u001b[39;49m\u001b[39m.\u001b[39;49m_getitem_axis(maybe_callable, axis\u001b[39m=\u001b[39;49maxis)\n",
      "File \u001b[0;32m~/Documents/GitHub/PI_ML_OPS/venv/lib/python3.10/site-packages/pandas/core/indexing.py:1622\u001b[0m, in \u001b[0;36m_iLocIndexer._getitem_axis\u001b[0;34m(self, key, axis)\u001b[0m\n\u001b[1;32m   1620\u001b[0m key \u001b[39m=\u001b[39m item_from_zerodim(key)\n\u001b[1;32m   1621\u001b[0m \u001b[39mif\u001b[39;00m \u001b[39mnot\u001b[39;00m is_integer(key):\n\u001b[0;32m-> 1622\u001b[0m     \u001b[39mraise\u001b[39;00m \u001b[39mTypeError\u001b[39;00m(\u001b[39m\"\u001b[39m\u001b[39mCannot index by location index with a non-integer key\u001b[39m\u001b[39m\"\u001b[39m)\n\u001b[1;32m   1624\u001b[0m \u001b[39m# validate the location\u001b[39;00m\n\u001b[1;32m   1625\u001b[0m \u001b[39mself\u001b[39m\u001b[39m.\u001b[39m_validate_integer(key, axis)\n",
      "\u001b[0;31mTypeError\u001b[0m: Cannot index by location index with a non-integer key"
     ]
    }
   ],
   "source": [
    "id_max = scoreByP['score'].idxmax()[0]\n",
    "movie = df.iloc[id_max].title\n",
    "\n",
    "# idx_max = df['userId'].idxmax() # 9524029\n",
    "# movieMaxAmountScores = df.loc[idx_max].title\n",
    "\n",
    "# scoreByP['score'].idxmax()[0]"
   ]
  },
  {
   "cell_type": "code",
   "execution_count": 87,
   "metadata": {},
   "outputs": [
    {
     "name": "stdout",
     "output_type": "stream",
     "text": [
      "users: 115077\n"
     ]
    },
    {
     "data": {
      "text/html": [
       "<div>\n",
       "<style scoped>\n",
       "    .dataframe tbody tr th:only-of-type {\n",
       "        vertical-align: middle;\n",
       "    }\n",
       "\n",
       "    .dataframe tbody tr th {\n",
       "        vertical-align: top;\n",
       "    }\n",
       "\n",
       "    .dataframe thead th {\n",
       "        text-align: right;\n",
       "    }\n",
       "</style>\n",
       "<table border=\"1\" class=\"dataframe\">\n",
       "  <thead>\n",
       "    <tr style=\"text-align: right;\">\n",
       "      <th></th>\n",
       "      <th>movieId</th>\n",
       "      <th>score</th>\n",
       "      <th>platform</th>\n",
       "    </tr>\n",
       "    <tr>\n",
       "      <th>userId</th>\n",
       "      <th></th>\n",
       "      <th></th>\n",
       "      <th></th>\n",
       "    </tr>\n",
       "  </thead>\n",
       "  <tbody>\n",
       "    <tr>\n",
       "      <th>270892</th>\n",
       "      <td>75</td>\n",
       "      <td>75</td>\n",
       "      <td>75</td>\n",
       "    </tr>\n",
       "    <tr>\n",
       "      <th>270893</th>\n",
       "      <td>190</td>\n",
       "      <td>190</td>\n",
       "      <td>190</td>\n",
       "    </tr>\n",
       "    <tr>\n",
       "      <th>270894</th>\n",
       "      <td>148</td>\n",
       "      <td>148</td>\n",
       "      <td>148</td>\n",
       "    </tr>\n",
       "    <tr>\n",
       "      <th>270895</th>\n",
       "      <td>20</td>\n",
       "      <td>20</td>\n",
       "      <td>20</td>\n",
       "    </tr>\n",
       "    <tr>\n",
       "      <th>270896</th>\n",
       "      <td>260</td>\n",
       "      <td>260</td>\n",
       "      <td>260</td>\n",
       "    </tr>\n",
       "  </tbody>\n",
       "</table>\n",
       "</div>"
      ],
      "text/plain": [
       "        movieId  score  platform\n",
       "userId                          \n",
       "270892       75     75        75\n",
       "270893      190    190       190\n",
       "270894      148    148       148\n",
       "270895       20     20        20\n",
       "270896      260    260       260"
      ]
     },
     "execution_count": 87,
     "metadata": {},
     "output_type": "execute_result"
    }
   ],
   "source": [
    "# Usuarios únicos 115077\n",
    "print('users:',len(score['userId'].unique()))\n",
    "usersAmount = len(score['userId'].unique())\n",
    "# Calificaciones de películas por usuario\n",
    "scoresByUser = score.groupby(['userId']).count()\n",
    "scoresByUser.tail()"
   ]
  },
  {
   "cell_type": "code",
   "execution_count": 95,
   "metadata": {},
   "outputs": [
    {
     "data": {
      "image/png": "[encoded data removed]",
      "text/plain": [
       "<Figure size 640x480 with 1 Axes>"
      ]
     },
     "metadata": {},
     "output_type": "display_data"
    }
   ],
   "source": [
    "# Distribucion de calificaciones por usuario\n",
    "plt.hist(scoresByUser.score, log= True)\n",
    "plt.title('Scores distribution by userId')  \n",
    "plt.ylabel(\"Scores Amount\")      # Adjust the label of the y-axis\n",
    "plt.xlabel(\"Users Id\")              # # Adjust the label of the x-axis\n",
    "plt.show()"
   ]
  },
  {
   "cell_type": "code",
   "execution_count": 96,
   "metadata": {},
   "outputs": [
    {
     "data": {
      "image/png": "[encoded data removed]",
      "text/plain": [
       "<Figure size 640x480 with 1 Axes>"
      ]
     },
     "metadata": {},
     "output_type": "display_data"
    }
   ],
   "source": [
    "# Distribución de las cantidades de calificaciones\n",
    "score['score'].hist()\n",
    "plt.title('Scores distribution by score')\n",
    "plt.ylabel(\"Scores Amount\")      # Adjust the label of the y-axis\n",
    "plt.xlabel(\"Score\")              # # Adjust the label of the x-axis\n",
    "plt.show()"
   ]
  },
  {
   "cell_type": "code",
   "execution_count": 146,
   "metadata": {},
   "outputs": [
    {
     "name": "stdout",
     "output_type": "stream",
     "text": [
      "movies: 22998\n"
     ]
    },
    {
     "data": {
      "text/html": [
       "<div>\n",
       "<style scoped>\n",
       "    .dataframe tbody tr th:only-of-type {\n",
       "        vertical-align: middle;\n",
       "    }\n",
       "\n",
       "    .dataframe tbody tr th {\n",
       "        vertical-align: top;\n",
       "    }\n",
       "\n",
       "    .dataframe thead th {\n",
       "        text-align: right;\n",
       "    }\n",
       "</style>\n",
       "<table border=\"1\" class=\"dataframe\">\n",
       "  <thead>\n",
       "    <tr style=\"text-align: right;\">\n",
       "      <th></th>\n",
       "      <th>userId</th>\n",
       "      <th>score</th>\n",
       "      <th>platform</th>\n",
       "    </tr>\n",
       "    <tr>\n",
       "      <th>movieId</th>\n",
       "      <th></th>\n",
       "      <th></th>\n",
       "      <th></th>\n",
       "    </tr>\n",
       "  </thead>\n",
       "  <tbody>\n",
       "    <tr>\n",
       "      <th>as1</th>\n",
       "      <td>502</td>\n",
       "      <td>502</td>\n",
       "      <td>502</td>\n",
       "    </tr>\n",
       "    <tr>\n",
       "      <th>as10</th>\n",
       "      <td>513</td>\n",
       "      <td>513</td>\n",
       "      <td>513</td>\n",
       "    </tr>\n",
       "  </tbody>\n",
       "</table>\n",
       "</div>"
      ],
      "text/plain": [
       "         userId  score  platform\n",
       "movieId                         \n",
       "as1         502    502       502\n",
       "as10        513    513       513"
      ]
     },
     "execution_count": 146,
     "metadata": {},
     "output_type": "execute_result"
    }
   ],
   "source": [
    "# Calificaciones por pelicula\n",
    "print('movies:',len(score['movieId'].unique()))     # Cantidad de peliculas/series: 22998\n",
    "scoresByMovie = score.groupby(['movieId']).count()  # Agrupar por peliculas/series  \n",
    "maxAmountScores = scoresByMovie['score'].max()      # Agrupacion maxima: 576\n",
    "scoresByMovie.head(2)"
   ]
  },
  {
   "cell_type": "code",
   "execution_count": 170,
   "metadata": {},
   "outputs": [
    {
     "name": "stdout",
     "output_type": "stream",
     "text": [
      "movieId with maximum amount of scores: as4197\n",
      "movieId with minimum amount of scores: as4940\n"
     ]
    }
   ],
   "source": [
    "# Peliculas/series con mas y menos calificaciones\n",
    "idx_max = scoresByMovie['userId'].idxmax()                  # Index de maxima cantidad de scores (576): as4197\n",
    "print('movieId with maximum amount of scores:',idx_max) \n",
    "maxAmountScores = scoresByMovie['score'].max()              # Maxima cantidad de scores: 576\n",
    "movieIdMaxAmountScores = idx_max                            # movieId con maxima cantidad de scores: as4197\n",
    "idx_min = scoresByMovie['userId'].idxmin()                  # Index de minimo Id de usuario (396): as4940\n",
    "print('movieId with minimum amount of scores:',idx_min)\n",
    "minAmountScores = scoresByMovie['score'].min()              # Minima cantidad de scores: 396\n",
    "movieIdMinAmountScores = idx_min                            # movieId con minima cantidad de scores: as4940"
   ]
  },
  {
   "cell_type": "code",
   "execution_count": 166,
   "metadata": {},
   "outputs": [
    {
     "data": {
      "text/html": [
       "<div>\n",
       "<style scoped>\n",
       "    .dataframe tbody tr th:only-of-type {\n",
       "        vertical-align: middle;\n",
       "    }\n",
       "\n",
       "    .dataframe tbody tr th {\n",
       "        vertical-align: top;\n",
       "    }\n",
       "\n",
       "    .dataframe thead th {\n",
       "        text-align: right;\n",
       "    }\n",
       "</style>\n",
       "<table border=\"1\" class=\"dataframe\">\n",
       "  <thead>\n",
       "    <tr style=\"text-align: right;\">\n",
       "      <th></th>\n",
       "      <th>viewed</th>\n",
       "    </tr>\n",
       "    <tr>\n",
       "      <th>movieId</th>\n",
       "      <th></th>\n",
       "    </tr>\n",
       "  </thead>\n",
       "  <tbody>\n",
       "    <tr>\n",
       "      <th>as4197</th>\n",
       "      <td>576</td>\n",
       "    </tr>\n",
       "    <tr>\n",
       "      <th>as9065</th>\n",
       "      <td>560</td>\n",
       "    </tr>\n",
       "    <tr>\n",
       "      <th>ns7279</th>\n",
       "      <td>558</td>\n",
       "    </tr>\n",
       "    <tr>\n",
       "      <th>as848</th>\n",
       "      <td>558</td>\n",
       "    </tr>\n",
       "    <tr>\n",
       "      <th>hs2360</th>\n",
       "      <td>556</td>\n",
       "    </tr>\n",
       "  </tbody>\n",
       "</table>\n",
       "</div>"
      ],
      "text/plain": [
       "         viewed\n",
       "movieId        \n",
       "as4197      576\n",
       "as9065      560\n",
       "ns7279      558\n",
       "as848       558\n",
       "hs2360      556"
      ]
     },
     "execution_count": 166,
     "metadata": {},
     "output_type": "execute_result"
    }
   ],
   "source": [
    "# df_v: Peliculas/series ordenadas por mas a menos calificaciones\n",
    "df_v = df.groupby(['movieId']).count()\n",
    "df_v.sort_values('userId', ascending = False, inplace = True)\n",
    "df_v['viewed'] = df_v['userId']\n",
    "df_v.drop(columns = ['userId','score','platform','title'], inplace = True)\n",
    "df_v.head()"
   ]
  },
  {
   "cell_type": "code",
   "execution_count": 167,
   "metadata": {},
   "outputs": [
    {
     "data": {
      "text/html": [
       "<div>\n",
       "<style scoped>\n",
       "    .dataframe tbody tr th:only-of-type {\n",
       "        vertical-align: middle;\n",
       "    }\n",
       "\n",
       "    .dataframe tbody tr th {\n",
       "        vertical-align: top;\n",
       "    }\n",
       "\n",
       "    .dataframe thead th {\n",
       "        text-align: right;\n",
       "    }\n",
       "</style>\n",
       "<table border=\"1\" class=\"dataframe\">\n",
       "  <thead>\n",
       "    <tr style=\"text-align: right;\">\n",
       "      <th></th>\n",
       "      <th>viewed</th>\n",
       "      <th>title</th>\n",
       "    </tr>\n",
       "    <tr>\n",
       "      <th>movieId</th>\n",
       "      <th></th>\n",
       "      <th></th>\n",
       "    </tr>\n",
       "  </thead>\n",
       "  <tbody>\n",
       "    <tr>\n",
       "      <th>as4197</th>\n",
       "      <td>576</td>\n",
       "      <td>from other worlds</td>\n",
       "    </tr>\n",
       "    <tr>\n",
       "      <th>as9065</th>\n",
       "      <td>560</td>\n",
       "      <td>the organization</td>\n",
       "    </tr>\n",
       "    <tr>\n",
       "      <th>ns7279</th>\n",
       "      <td>558</td>\n",
       "      <td>leapfrog: sing-along, read-along</td>\n",
       "    </tr>\n",
       "    <tr>\n",
       "      <th>as848</th>\n",
       "      <td>558</td>\n",
       "      <td>superbook</td>\n",
       "    </tr>\n",
       "    <tr>\n",
       "      <th>hs2360</th>\n",
       "      <td>556</td>\n",
       "      <td>dietland</td>\n",
       "    </tr>\n",
       "    <tr>\n",
       "      <th>...</th>\n",
       "      <td>...</td>\n",
       "      <td>...</td>\n",
       "    </tr>\n",
       "    <tr>\n",
       "      <th>hs599</th>\n",
       "      <td>404</td>\n",
       "      <td>dave</td>\n",
       "    </tr>\n",
       "    <tr>\n",
       "      <th>ns6535</th>\n",
       "      <td>402</td>\n",
       "      <td>cop and a half: new recruit</td>\n",
       "    </tr>\n",
       "    <tr>\n",
       "      <th>hs1711</th>\n",
       "      <td>401</td>\n",
       "      <td>i am alone</td>\n",
       "    </tr>\n",
       "    <tr>\n",
       "      <th>ns2144</th>\n",
       "      <td>399</td>\n",
       "      <td>rob schneider: asian momma, mexican kids</td>\n",
       "    </tr>\n",
       "    <tr>\n",
       "      <th>as4940</th>\n",
       "      <td>396</td>\n",
       "      <td>mitzi (nbc 1968)</td>\n",
       "    </tr>\n",
       "  </tbody>\n",
       "</table>\n",
       "<p>22998 rows × 2 columns</p>\n",
       "</div>"
      ],
      "text/plain": [
       "         viewed                                     title\n",
       "movieId                                                  \n",
       "as4197      576                         from other worlds\n",
       "as9065      560                          the organization\n",
       "ns7279      558          leapfrog: sing-along, read-along\n",
       "as848       558                                 superbook\n",
       "hs2360      556                                  dietland\n",
       "...         ...                                       ...\n",
       "hs599       404                                      dave\n",
       "ns6535      402               cop and a half: new recruit\n",
       "hs1711      401                                i am alone\n",
       "ns2144      399  rob schneider: asian momma, mexican kids\n",
       "as4940      396                          mitzi (nbc 1968)\n",
       "\n",
       "[22998 rows x 2 columns]"
      ]
     },
     "execution_count": 167,
     "metadata": {},
     "output_type": "execute_result"
    }
   ],
   "source": [
    "# Agrega los title al df_v\n",
    "titles = titles.set_index('movieId')\n",
    "df_v['title'] = titles.loc[df_v.index].title\n",
    "df_v"
   ]
  },
  {
   "cell_type": "code",
   "execution_count": 183,
   "metadata": {},
   "outputs": [
    {
     "name": "stdout",
     "output_type": "stream",
     "text": [
      "Movie with Maximum amount of scores: from other worlds\n",
      "Movie with Minimum amount of scores: mitzi (nbc 1968)\n"
     ]
    }
   ],
   "source": [
    "movieMaxAmountScores = df_v.loc[movieIdMaxAmountScores, 'title'] \n",
    "movieMinAmountScores = df_v.loc[movieIdMinAmountScores, 'title'] \n",
    "print('Movie with Maximum amount of scores:',movieMaxAmountScores)\n",
    "print('Movie with Minimum amount of scores:',movieMinAmountScores)"
   ]
  },
  {
   "cell_type": "code",
   "execution_count": 130,
   "metadata": {},
   "outputs": [
    {
     "data": {
      "image/png": "[encoded data removed]",
      "text/plain": [
       "<Figure size 600x300 with 1 Axes>"
      ]
     },
     "metadata": {},
     "output_type": "display_data"
    }
   ],
   "source": [
    "# Grafica la cantidad de vistas\n",
    "plt.figure(figsize = (6,3))\n",
    "df_v.viewed[df_v.viewed<600].hist(log = True)\n",
    "plt.title('Distribution for amount of views')\n",
    "plt.show()"
   ]
  },
  {
   "cell_type": "code",
   "execution_count": 200,
   "metadata": {},
   "outputs": [],
   "source": [
    "df.to_csv('data/merge.csv', index=False)"
   ]
  },
  {
   "cell_type": "code",
   "execution_count": 201,
   "metadata": {},
   "outputs": [],
   "source": [
    "df_title.to_csv('data/df_title.csv', index=False)"
   ]
  },
  {
   "cell_type": "code",
   "execution_count": 171,
   "metadata": {},
   "outputs": [
    {
     "name": "stdout",
     "output_type": "stream",
     "text": [
      "EDA conclusions:\n",
      "Scores amount: 11024288\n",
      "Maximum Average Score (by platform) 3.7245119305856833\n",
      "Minimum Average Score (by platform) 3.3364779874213837\n",
      "Users amount: 115077\n",
      "Maximum amount of scores in a movie: 576\n",
      "Minimum amount of scores in a movie: 396\n",
      "Movie Id with maximum amount of scores: as4197\n",
      "Movie Id with minimum amount of scores: as4940\n"
     ]
    }
   ],
   "source": [
    "print('EDA conclusions:')\n",
    "print('Scores amount:',scores_amount)\n",
    "print('Maximum Average Score (by platform)',maxAvgScore)\n",
    "print('Minimum Average Score (by platform)',minAvgScore)\n",
    "print('Users amount:',usersAmount)\n",
    "print('Maximum amount of scores in a movie:', maxAmountScores)\n",
    "print('Minimum amount of scores in a movie:', minAmountScores)\n",
    "print('Movie Id with maximum amount of scores:',movieIdMaxAmountScores)\n",
    "print('Movie Id with minimum amount of scores:',movieIdMinAmountScores)\n",
    "print('Movie with Maximum amount of scores:',movieMaxAmountScores)\n",
    "print('Movie with Minimum amount of scores:',movieMinAmountScores)"
   ]
  },
  {
   "cell_type": "code",
   "execution_count": 190,
   "metadata": {},
   "outputs": [
    {
     "name": "stdout",
     "output_type": "stream",
     "text": [
      "Amount of movies with less than 400 views 2 ['ns2144' 'as4940']\n"
     ]
    }
   ],
   "source": [
    "# umbral = 400\n",
    "# mascara_pocos_vistos = df_v.viewed<umbral\n",
    "# peliculas_pocos_vistos = mascara_pocos_vistos[mascara_pocos_vistos].index.values\n",
    "# print('Amount of movies with less than 400 views',len(peliculas_pocos_vistos), peliculas_pocos_vistos)"
   ]
  },
  {
   "cell_type": "code",
   "execution_count": 191,
   "metadata": {},
   "outputs": [],
   "source": [
    "# mascara_descartables = df_v.index.isin(peliculas_pocos_vistos)"
   ]
  },
  {
   "cell_type": "code",
   "execution_count": 192,
   "metadata": {},
   "outputs": [
    {
     "name": "stdout",
     "output_type": "stream",
     "text": [
      "(22998, 2)\n",
      "(22996, 2)\n"
     ]
    }
   ],
   "source": [
    "# # Obsevamos cómo cambia la cantidad de registros a partir del filtrado\n",
    "\n",
    "# print(df_v.shape)\n",
    "# df1 = df_v[~mascara_descartables]\n",
    "# print(df1.shape)"
   ]
  }
 ],
 "metadata": {
  "kernelspec": {
   "display_name": "venv",
   "language": "python",
   "name": "python3"
  },
  "language_info": {
   "codemirror_mode": {
    "name": "ipython",
    "version": 3
   },
   "file_extension": ".py",
   "mimetype": "text/x-python",
   "name": "python",
   "nbconvert_exporter": "python",
   "pygments_lexer": "ipython3",
   "version": "3.10.10"
  },
  "orig_nbformat": 4
 },
 "nbformat": 4,
 "nbformat_minor": 2
}
