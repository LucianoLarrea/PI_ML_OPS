{
 "cells": [
  {
   "attachments": {},
   "cell_type": "markdown",
   "metadata": {},
   "source": [
    "## EDA"
   ]
  },
  {
   "cell_type": "code",
   "execution_count": null,
   "metadata": {},
   "outputs": [],
   "source": [
    "import numpy as np\n",
    "import matplotlib.pyplot as plt\n",
    "import seaborn as sns\n",
    "sns.set()\n",
    "import pandas as pd\n",
    "import gc #garbage collector"
   ]
  },
  {
   "cell_type": "code",
   "execution_count": null,
   "metadata": {},
   "outputs": [],
   "source": [
    "# Importa los datasets de score y titles\n",
    "score = pd.read_csv('ignore/score.csv')\n",
    "titles = pd.read_csv('data/all.csv')"
   ]
  },
  {
   "cell_type": "code",
   "execution_count": null,
   "metadata": {},
   "outputs": [],
   "source": [
    "print(score.shape)\n",
    "score.tail(2)"
   ]
  },
  {
   "cell_type": "code",
   "execution_count": null,
   "metadata": {},
   "outputs": [],
   "source": [
    "titles.tail(2) # No coinciden los encabezados de ambos datasets para movieId e id"
   ]
  },
  {
   "cell_type": "code",
   "execution_count": null,
   "metadata": {},
   "outputs": [],
   "source": [
    "\n",
    "# Filtra las columnas userId, movieId y score del dataset score y las columnas id y title del dataset title.\n",
    "score = score[['userId','movieId','score','platform']]\n",
    "titles = titles[['id','title']]\n",
    "titles = titles.rename(columns={'id':'movieId'}) # Cambia el nombre para que haya coincidencia\n",
    "df_title = titles[['movieId','title']]\n",
    "df_title.tail(2)"
   ]
  },
  {
   "cell_type": "code",
   "execution_count": null,
   "metadata": {},
   "outputs": [],
   "source": [
    "# Unifica los datasets\n",
    "df = pd.merge(score,titles,how='left',on='movieId')\n",
    "scores_amount = len(df)-1\n",
    "df.tail(2)"
   ]
  },
  {
   "cell_type": "code",
   "execution_count": null,
   "metadata": {},
   "outputs": [],
   "source": [
    "# Score por plataforma y por pelicula (min = 3.3, max = 3.72)\n",
    "scoreByP = df.groupby(by=['movieId','platform']).mean()\n",
    "maxAvgScore = scoreByP['score'].max()\n",
    "minAvgScore = scoreByP['score'].min()\n",
    "scoreByP.head(2)"
   ]
  },
  {
   "cell_type": "code",
   "execution_count": null,
   "metadata": {},
   "outputs": [],
   "source": [
    "id_max = scoreByP['score'].idxmax()[0]\n",
    "movie = df.iloc[id_max].title\n",
    "\n",
    "# idx_max = df['userId'].idxmax() # 9524029\n",
    "# movieMaxAmountScores = df.loc[idx_max].title\n",
    "\n",
    "# scoreByP['score'].idxmax()[0]"
   ]
  },
  {
   "cell_type": "code",
   "execution_count": null,
   "metadata": {},
   "outputs": [],
   "source": [
    "# Usuarios únicos 115077\n",
    "print('users:',len(score['userId'].unique()))\n",
    "usersAmount = len(score['userId'].unique())\n",
    "# Calificaciones de películas por usuario\n",
    "scoresByUser = score.groupby(['userId']).count()\n",
    "scoresByUser.tail()"
   ]
  },
  {
   "cell_type": "code",
   "execution_count": null,
   "metadata": {},
   "outputs": [],
   "source": [
    "# Distribucion de calificaciones por usuario\n",
    "plt.hist(scoresByUser.score, log= True)\n",
    "plt.title('Scores distribution by userId')  \n",
    "plt.ylabel(\"Scores Amount\")      # Adjust the label of the y-axis\n",
    "plt.xlabel(\"Users Id\")              # # Adjust the label of the x-axis\n",
    "plt.show()"
   ]
  },
  {
   "cell_type": "code",
   "execution_count": null,
   "metadata": {},
   "outputs": [],
   "source": [
    "# Distribución de las cantidades de calificaciones\n",
    "score['score'].hist()\n",
    "plt.title('Scores distribution by score')\n",
    "plt.ylabel(\"Scores Amount\")      # Adjust the label of the y-axis\n",
    "plt.xlabel(\"Score\")              # # Adjust the label of the x-axis\n",
    "plt.show()"
   ]
  },
  {
   "cell_type": "code",
   "execution_count": null,
   "metadata": {},
   "outputs": [],
   "source": [
    "# Calificaciones por pelicula\n",
    "print('movies:',len(score['movieId'].unique()))     # Cantidad de peliculas/series: 22998\n",
    "scoresByMovie = score.groupby(['movieId']).count()  # Agrupar por peliculas/series  \n",
    "maxAmountScores = scoresByMovie['score'].max()      # Agrupacion maxima: 576\n",
    "scoresByMovie.head(2)"
   ]
  },
  {
   "cell_type": "code",
   "execution_count": null,
   "metadata": {},
   "outputs": [],
   "source": [
    "# Peliculas/series con mas y menos calificaciones\n",
    "idx_max = scoresByMovie['userId'].idxmax()                  # Index de maxima cantidad de scores (576): as4197\n",
    "print('movieId with maximum amount of scores:',idx_max) \n",
    "maxAmountScores = scoresByMovie['score'].max()              # Maxima cantidad de scores: 576\n",
    "movieIdMaxAmountScores = idx_max                            # movieId con maxima cantidad de scores: as4197\n",
    "idx_min = scoresByMovie['userId'].idxmin()                  # Index de minimo Id de usuario (396): as4940\n",
    "print('movieId with minimum amount of scores:',idx_min)\n",
    "minAmountScores = scoresByMovie['score'].min()              # Minima cantidad de scores: 396\n",
    "movieIdMinAmountScores = idx_min                            # movieId con minima cantidad de scores: as4940"
   ]
  },
  {
   "cell_type": "code",
   "execution_count": null,
   "metadata": {},
   "outputs": [],
   "source": [
    "# df_v: Peliculas/series ordenadas por mas a menos calificaciones\n",
    "df_v = df.groupby(['movieId']).count()\n",
    "df_v.sort_values('userId', ascending = False, inplace = True)\n",
    "df_v['viewed'] = df_v['userId']\n",
    "df_v.drop(columns = ['userId','score','platform','title'], inplace = True)\n",
    "df_v.head()"
   ]
  },
  {
   "cell_type": "code",
   "execution_count": null,
   "metadata": {},
   "outputs": [],
   "source": [
    "# Agrega los title al df_v\n",
    "titles = titles.set_index('movieId')\n",
    "df_v['title'] = titles.loc[df_v.index].title\n",
    "df_v"
   ]
  },
  {
   "cell_type": "code",
   "execution_count": null,
   "metadata": {},
   "outputs": [],
   "source": [
    "movieMaxAmountScores = df_v.loc[movieIdMaxAmountScores, 'title'] \n",
    "movieMinAmountScores = df_v.loc[movieIdMinAmountScores, 'title'] \n",
    "print('Movie with Maximum amount of scores:',movieMaxAmountScores)\n",
    "print('Movie with Minimum amount of scores:',movieMinAmountScores)"
   ]
  },
  {
   "cell_type": "code",
   "execution_count": null,
   "metadata": {},
   "outputs": [],
   "source": [
    "# Grafica la cantidad de vistas\n",
    "plt.figure(figsize = (6,3))\n",
    "df_v.viewed[df_v.viewed<600].hist(log = True)\n",
    "plt.title('Distribution for amount of views')\n",
    "plt.show()"
   ]
  },
  {
   "attachments": {},
   "cell_type": "markdown",
   "metadata": {},
   "source": [
    "## Conclusiones"
   ]
  },
  {
   "cell_type": "code",
   "execution_count": null,
   "metadata": {},
   "outputs": [],
   "source": [
    "# df.to_csv('data/merge.csv', index=False)\n",
    "df.to_parquet('data/merge.parquet', index=False)"
   ]
  },
  {
   "cell_type": "code",
   "execution_count": null,
   "metadata": {},
   "outputs": [],
   "source": [
    "df_title.to_csv('data/df_title.csv', index=False)"
   ]
  },
  {
   "cell_type": "code",
   "execution_count": null,
   "metadata": {},
   "outputs": [],
   "source": [
    "print('EDA conclusions:')\n",
    "print('Scores amount:',scores_amount)\n",
    "print('Maximum Average Score (by platform)',maxAvgScore)\n",
    "print('Minimum Average Score (by platform)',minAvgScore)\n",
    "print('Users amount:',usersAmount)\n",
    "print('Maximum amount of scores in a movie:', maxAmountScores)\n",
    "print('Minimum amount of scores in a movie:', minAmountScores)\n",
    "print('Movie Id with maximum amount of scores:',movieIdMaxAmountScores)\n",
    "print('Movie Id with minimum amount of scores:',movieIdMinAmountScores)\n",
    "print('Movie with Maximum amount of scores:',movieMaxAmountScores)\n",
    "print('Movie with Minimum amount of scores:',movieMinAmountScores)"
   ]
  }
 ],
 "metadata": {
  "kernelspec": {
   "display_name": "venv",
   "language": "python",
   "name": "python3"
  },
  "language_info": {
   "codemirror_mode": {
    "name": "ipython",
    "version": 3
   },
   "file_extension": ".py",
   "mimetype": "text/x-python",
   "name": "python",
   "nbconvert_exporter": "python",
   "pygments_lexer": "ipython3",
   "version": "3.10.10"
  },
  "orig_nbformat": 4
 },
 "nbformat": 4,
 "nbformat_minor": 2
}
