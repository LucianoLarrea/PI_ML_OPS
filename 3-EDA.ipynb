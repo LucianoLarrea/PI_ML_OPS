{
 "cells": [
  {
   "attachments": {},
   "cell_type": "markdown",
   "metadata": {},
   "source": [
    "## EDA"
   ]
  },
  {
   "cell_type": "code",
   "execution_count": 139,
   "metadata": {},
   "outputs": [],
   "source": [
    "import numpy as np\n",
    "import matplotlib.pyplot as plt\n",
    "import seaborn as sns\n",
    "sns.set()\n",
    "import pandas as pd"
   ]
  },
  {
   "cell_type": "code",
   "execution_count": 49,
   "metadata": {},
   "outputs": [],
   "source": [
    "# Importa los datasets de score y titles\n",
    "score = pd.read_parquet('processed_data/score.parquet')\n",
    "titles = pd.read_parquet('processed_data/titles.parquet')\n",
    "S = pd.read_parquet('processed_data/S.parquet')"
   ]
  },
  {
   "cell_type": "code",
   "execution_count": 12,
   "metadata": {},
   "outputs": [
    {
     "name": "stdout",
     "output_type": "stream",
     "text": [
      "(11024289, 4)\n"
     ]
    },
    {
     "data": {
      "text/html": [
       "<div>\n",
       "<style scoped>\n",
       "    .dataframe tbody tr th:only-of-type {\n",
       "        vertical-align: middle;\n",
       "    }\n",
       "\n",
       "    .dataframe tbody tr th {\n",
       "        vertical-align: top;\n",
       "    }\n",
       "\n",
       "    .dataframe thead th {\n",
       "        text-align: right;\n",
       "    }\n",
       "</style>\n",
       "<table border=\"1\" class=\"dataframe\">\n",
       "  <thead>\n",
       "    <tr style=\"text-align: right;\">\n",
       "      <th></th>\n",
       "      <th>userId</th>\n",
       "      <th>movieId</th>\n",
       "      <th>score</th>\n",
       "      <th>platform</th>\n",
       "    </tr>\n",
       "  </thead>\n",
       "  <tbody>\n",
       "    <tr>\n",
       "      <th>11024287</th>\n",
       "      <td>124380</td>\n",
       "      <td>ns7881</td>\n",
       "      <td>4</td>\n",
       "      <td>netflix</td>\n",
       "    </tr>\n",
       "    <tr>\n",
       "      <th>11024288</th>\n",
       "      <td>124380</td>\n",
       "      <td>as883</td>\n",
       "      <td>1</td>\n",
       "      <td>amazon</td>\n",
       "    </tr>\n",
       "  </tbody>\n",
       "</table>\n",
       "</div>"
      ],
      "text/plain": [
       "          userId movieId  score platform\n",
       "11024287  124380  ns7881      4  netflix\n",
       "11024288  124380   as883      1   amazon"
      ]
     },
     "execution_count": 12,
     "metadata": {},
     "output_type": "execute_result"
    }
   ],
   "source": [
    "print(score.shape)\n",
    "score.tail(2)"
   ]
  },
  {
   "cell_type": "code",
   "execution_count": 13,
   "metadata": {},
   "outputs": [
    {
     "data": {
      "text/html": [
       "<div>\n",
       "<style scoped>\n",
       "    .dataframe tbody tr th:only-of-type {\n",
       "        vertical-align: middle;\n",
       "    }\n",
       "\n",
       "    .dataframe tbody tr th {\n",
       "        vertical-align: top;\n",
       "    }\n",
       "\n",
       "    .dataframe thead th {\n",
       "        text-align: right;\n",
       "    }\n",
       "</style>\n",
       "<table border=\"1\" class=\"dataframe\">\n",
       "  <thead>\n",
       "    <tr style=\"text-align: right;\">\n",
       "      <th></th>\n",
       "      <th>id</th>\n",
       "      <th>platform</th>\n",
       "      <th>type</th>\n",
       "      <th>title</th>\n",
       "      <th>director</th>\n",
       "      <th>cast</th>\n",
       "      <th>country</th>\n",
       "      <th>date_added</th>\n",
       "      <th>release_year</th>\n",
       "      <th>duration_int</th>\n",
       "      <th>duration_type</th>\n",
       "      <th>listed_in</th>\n",
       "      <th>description</th>\n",
       "    </tr>\n",
       "  </thead>\n",
       "  <tbody>\n",
       "    <tr>\n",
       "      <th>22996</th>\n",
       "      <td>ns8806</td>\n",
       "      <td>netflix</td>\n",
       "      <td>movie</td>\n",
       "      <td>zoom</td>\n",
       "      <td>peter hewitt</td>\n",
       "      <td>tim allen, courteney cox, chevy chase, kate ma...</td>\n",
       "      <td>united states</td>\n",
       "      <td>2020-01-11</td>\n",
       "      <td>2006</td>\n",
       "      <td>88</td>\n",
       "      <td>min</td>\n",
       "      <td>children &amp; family movies, comedies</td>\n",
       "      <td>dragged from civilian life, a former superhero...</td>\n",
       "    </tr>\n",
       "    <tr>\n",
       "      <th>22997</th>\n",
       "      <td>ns8807</td>\n",
       "      <td>netflix</td>\n",
       "      <td>movie</td>\n",
       "      <td>zubaan</td>\n",
       "      <td>mozez singh</td>\n",
       "      <td>vicky kaushal, sarah-jane dias, raaghav chanan...</td>\n",
       "      <td>india</td>\n",
       "      <td>2019-03-02</td>\n",
       "      <td>2015</td>\n",
       "      <td>111</td>\n",
       "      <td>min</td>\n",
       "      <td>dramas, international movies, music &amp; musicals</td>\n",
       "      <td>a scrappy but poor boy worms his way into a ty...</td>\n",
       "    </tr>\n",
       "  </tbody>\n",
       "</table>\n",
       "</div>"
      ],
      "text/plain": [
       "           id platform   type   title      director  \\\n",
       "22996  ns8806  netflix  movie    zoom  peter hewitt   \n",
       "22997  ns8807  netflix  movie  zubaan   mozez singh   \n",
       "\n",
       "                                                    cast        country  \\\n",
       "22996  tim allen, courteney cox, chevy chase, kate ma...  united states   \n",
       "22997  vicky kaushal, sarah-jane dias, raaghav chanan...          india   \n",
       "\n",
       "      date_added  release_year  duration_int duration_type  \\\n",
       "22996 2020-01-11          2006            88           min   \n",
       "22997 2019-03-02          2015           111           min   \n",
       "\n",
       "                                            listed_in  \\\n",
       "22996              children & family movies, comedies   \n",
       "22997  dramas, international movies, music & musicals   \n",
       "\n",
       "                                             description  \n",
       "22996  dragged from civilian life, a former superhero...  \n",
       "22997  a scrappy but poor boy worms his way into a ty...  "
      ]
     },
     "execution_count": 13,
     "metadata": {},
     "output_type": "execute_result"
    }
   ],
   "source": [
    "titles.tail(2) # No coinciden los encabezados de ambos datasets para movieId e id"
   ]
  },
  {
   "cell_type": "code",
   "execution_count": 105,
   "metadata": {},
   "outputs": [],
   "source": [
    "# Peliculas por plataforma\n",
    "\n",
    "moviesByP = score.groupby('platform').agg(pd.Series({'movieId': 'count'}))\n",
    "# moviesByP.boxplot()\n",
    "fig = plt.figure(figsize=(4,4))\n",
    "fig, ax = plt.subplots()\n",
    "plt.bar(moviesByP.index, moviesByP['movieId'].values)\n",
    "# ax.set_xlabel('Platform')\n",
    "# ax.set_ylabel('Number of titles')\n",
    "# ax.set_title('Titles per platform')\n",
    "plt.show()\n",
    "# sns.barplot(moviesByP)\n"
   ]
  },
  {
   "cell_type": "code",
   "execution_count": 142,
   "metadata": {},
   "outputs": [
    {
     "name": "stdout",
     "output_type": "stream",
     "text": [
      "<class 'pandas.core.frame.DataFrame'>\n",
      "RangeIndex: 4 entries, 0 to 3\n",
      "Data columns (total 2 columns):\n",
      " #   Column    Non-Null Count  Dtype \n",
      "---  ------    --------------  ----- \n",
      " 0   platform  4 non-null      object\n",
      " 1   movieId   4 non-null      int64 \n",
      "dtypes: int64(1), object(1)\n",
      "memory usage: 192.0+ bytes\n"
     ]
    }
   ],
   "source": [
    "titles_p =  moviesByP.reset_index()\n",
    "titles_p.info()\n"
   ]
  },
  {
   "cell_type": "code",
   "execution_count": 144,
   "metadata": {},
   "outputs": [],
   "source": [
    "#create the figure \n",
    "plt.figure(figsize=(4,4))\n",
    "\n",
    "# calculate average age\n",
    "avg_age = titles_p['movieId'].count()\n",
    "\n",
    "\n",
    "# create the plot\n",
    "plt.bar('movieId', avg_age)\n",
    "\n",
    "\n",
    "# display the plot\n",
    "plt.show()"
   ]
  },
  {
   "cell_type": "code",
   "execution_count": 134,
   "metadata": {},
   "outputs": [
    {
     "data": {
      "text/plain": [
       "array([4631850,  694790, 1472788, 4224861])"
      ]
     },
     "execution_count": 134,
     "metadata": {},
     "output_type": "execute_result"
    }
   ],
   "source": [
    "titles_p['movieId'].values"
   ]
  },
  {
   "cell_type": "code",
   "execution_count": 135,
   "metadata": {},
   "outputs": [
    {
     "data": {
      "text/plain": [
       "<BarContainer object of 4 artists>"
      ]
     },
     "execution_count": 135,
     "metadata": {},
     "output_type": "execute_result"
    }
   ],
   "source": [
    "# Make a random dataset:\n",
    "height = [4631850,  694790, 1472788, 4224861]\n",
    "bars = ['amazon', 'disney', 'hulu', 'netflix']\n",
    "\n",
    "\n",
    "# Create bars\n",
    "plt.bar(bars, height)\n"
   ]
  },
  {
   "cell_type": "code",
   "execution_count": 136,
   "metadata": {},
   "outputs": [
    {
     "data": {
      "text/plain": [
       "<Axes: title={'center': 'movieId'}>"
      ]
     },
     "execution_count": 136,
     "metadata": {},
     "output_type": "execute_result"
    }
   ],
   "source": [
    "sns.barplot(data=titles_p) # hue=\"platform\""
   ]
  },
  {
   "cell_type": "code",
   "execution_count": 103,
   "metadata": {},
   "outputs": [
    {
     "data": {
      "text/plain": [
       "array([4631850,  694790, 1472788, 4224861])"
      ]
     },
     "execution_count": 103,
     "metadata": {},
     "output_type": "execute_result"
    }
   ],
   "source": [
    "moviesByP['movieId'].values"
   ]
  },
  {
   "cell_type": "code",
   "execution_count": 29,
   "metadata": {},
   "outputs": [
    {
     "data": {
      "text/html": [
       "<div>\n",
       "<style scoped>\n",
       "    .dataframe tbody tr th:only-of-type {\n",
       "        vertical-align: middle;\n",
       "    }\n",
       "\n",
       "    .dataframe tbody tr th {\n",
       "        vertical-align: top;\n",
       "    }\n",
       "\n",
       "    .dataframe thead th {\n",
       "        text-align: right;\n",
       "    }\n",
       "</style>\n",
       "<table border=\"1\" class=\"dataframe\">\n",
       "  <thead>\n",
       "    <tr style=\"text-align: right;\">\n",
       "      <th></th>\n",
       "      <th>movieId</th>\n",
       "      <th>title</th>\n",
       "    </tr>\n",
       "  </thead>\n",
       "  <tbody>\n",
       "    <tr>\n",
       "      <th>22996</th>\n",
       "      <td>ns8806</td>\n",
       "      <td>zoom</td>\n",
       "    </tr>\n",
       "    <tr>\n",
       "      <th>22997</th>\n",
       "      <td>ns8807</td>\n",
       "      <td>zubaan</td>\n",
       "    </tr>\n",
       "  </tbody>\n",
       "</table>\n",
       "</div>"
      ],
      "text/plain": [
       "      movieId   title\n",
       "22996  ns8806    zoom\n",
       "22997  ns8807  zubaan"
      ]
     },
     "execution_count": 29,
     "metadata": {},
     "output_type": "execute_result"
    }
   ],
   "source": [
    "# Filtra las columnas userId, movieId y score del dataset score y las columnas id y title del dataset title.\n",
    "score = score[['userId','movieId','score','platform']]\n",
    "titles = titles[['id','title']]\n",
    "titles = titles.rename(columns={'id':'movieId'}) # Cambia el nombre para que haya coincidencia\n",
    "df_title = titles[['movieId','title']]\n",
    "df_title.tail(2)"
   ]
  },
  {
   "cell_type": "code",
   "execution_count": 30,
   "metadata": {},
   "outputs": [
    {
     "data": {
      "text/html": [
       "<div>\n",
       "<style scoped>\n",
       "    .dataframe tbody tr th:only-of-type {\n",
       "        vertical-align: middle;\n",
       "    }\n",
       "\n",
       "    .dataframe tbody tr th {\n",
       "        vertical-align: top;\n",
       "    }\n",
       "\n",
       "    .dataframe thead th {\n",
       "        text-align: right;\n",
       "    }\n",
       "</style>\n",
       "<table border=\"1\" class=\"dataframe\">\n",
       "  <thead>\n",
       "    <tr style=\"text-align: right;\">\n",
       "      <th></th>\n",
       "      <th>userId</th>\n",
       "      <th>movieId</th>\n",
       "      <th>score</th>\n",
       "      <th>platform</th>\n",
       "      <th>title</th>\n",
       "    </tr>\n",
       "  </thead>\n",
       "  <tbody>\n",
       "    <tr>\n",
       "      <th>11024287</th>\n",
       "      <td>124380</td>\n",
       "      <td>ns7881</td>\n",
       "      <td>4</td>\n",
       "      <td>netflix</td>\n",
       "      <td>rocky ii</td>\n",
       "    </tr>\n",
       "    <tr>\n",
       "      <th>11024288</th>\n",
       "      <td>124380</td>\n",
       "      <td>as883</td>\n",
       "      <td>1</td>\n",
       "      <td>amazon</td>\n",
       "      <td>storm boy</td>\n",
       "    </tr>\n",
       "  </tbody>\n",
       "</table>\n",
       "</div>"
      ],
      "text/plain": [
       "          userId movieId  score platform      title\n",
       "11024287  124380  ns7881      4  netflix   rocky ii\n",
       "11024288  124380   as883      1   amazon  storm boy"
      ]
     },
     "execution_count": 30,
     "metadata": {},
     "output_type": "execute_result"
    }
   ],
   "source": [
    "# Unifica los datasets en df\n",
    "df = pd.merge(score,titles,how='left',on='movieId')\n",
    "scores_amount = len(df)-1\n",
    "df.tail(2)"
   ]
  },
  {
   "cell_type": "code",
   "execution_count": 31,
   "metadata": {},
   "outputs": [
    {
     "name": "stderr",
     "output_type": "stream",
     "text": [
      "/var/folders/qr/g6x89n_d48j570j5qt_7mrhr0000gn/T/ipykernel_24249/247152141.py:2: FutureWarning: The default value of numeric_only in DataFrameGroupBy.mean is deprecated. In a future version, numeric_only will default to False. Either specify numeric_only or select only columns which should be valid for the function.\n",
      "  scoreByP = df.groupby(by=['movieId','platform']).mean()\n"
     ]
    },
    {
     "data": {
      "text/html": [
       "<div>\n",
       "<style scoped>\n",
       "    .dataframe tbody tr th:only-of-type {\n",
       "        vertical-align: middle;\n",
       "    }\n",
       "\n",
       "    .dataframe tbody tr th {\n",
       "        vertical-align: top;\n",
       "    }\n",
       "\n",
       "    .dataframe thead th {\n",
       "        text-align: right;\n",
       "    }\n",
       "</style>\n",
       "<table border=\"1\" class=\"dataframe\">\n",
       "  <thead>\n",
       "    <tr style=\"text-align: right;\">\n",
       "      <th></th>\n",
       "      <th></th>\n",
       "      <th>userId</th>\n",
       "      <th>score</th>\n",
       "    </tr>\n",
       "    <tr>\n",
       "      <th>movieId</th>\n",
       "      <th>platform</th>\n",
       "      <th></th>\n",
       "      <th></th>\n",
       "    </tr>\n",
       "  </thead>\n",
       "  <tbody>\n",
       "    <tr>\n",
       "      <th>as1</th>\n",
       "      <th>amazon</th>\n",
       "      <td>99178.623506</td>\n",
       "      <td>3.330677</td>\n",
       "    </tr>\n",
       "    <tr>\n",
       "      <th>as10</th>\n",
       "      <th>amazon</th>\n",
       "      <td>92915.883041</td>\n",
       "      <td>3.307992</td>\n",
       "    </tr>\n",
       "  </tbody>\n",
       "</table>\n",
       "</div>"
      ],
      "text/plain": [
       "                        userId     score\n",
       "movieId platform                        \n",
       "as1     amazon    99178.623506  3.330677\n",
       "as10    amazon    92915.883041  3.307992"
      ]
     },
     "execution_count": 31,
     "metadata": {},
     "output_type": "execute_result"
    }
   ],
   "source": [
    "# Score agrupado por pelicula (min = 3.3, max = 3.72)\n",
    "scoreByP = df.groupby(by=['movieId','platform']).mean()\n",
    "maxAvgScore = scoreByP['score'].max()\n",
    "minAvgScore = scoreByP['score'].min()\n",
    "scoreByP.head(2)"
   ]
  },
  {
   "cell_type": "code",
   "execution_count": 53,
   "metadata": {},
   "outputs": [
    {
     "name": "stdout",
     "output_type": "stream",
     "text": [
      "users: 115077\n"
     ]
    },
    {
     "data": {
      "text/plain": [
       "115077"
      ]
     },
     "execution_count": 53,
     "metadata": {},
     "output_type": "execute_result"
    }
   ],
   "source": [
    "# Usuarios únicos 115077\n",
    "print('users:',len(score['userId'].unique()))\n",
    "usersAmount = len(score['userId'].unique())\n",
    "# Calificaciones de películas por usuario\n",
    "scoresByUser = score.groupby(['userId']).count()\n",
    "scoresByUser.tail()"
   ]
  },
  {
   "cell_type": "code",
   "execution_count": 54,
   "metadata": {},
   "outputs": [
    {
     "data": {
      "image/png": "[encoded data removed]",
      "text/plain": [
       "<Figure size 640x480 with 1 Axes>"
      ]
     },
     "metadata": {},
     "output_type": "display_data"
    }
   ],
   "source": [
    "# Distribucion de calificaciones por usuario\n",
    "plt.hist(scoresByUser.score, log= True)\n",
    "plt.title('Scores distribution by userId')  \n",
    "plt.ylabel(\"Scores Amount\")      # Adjust the label of the y-axis\n",
    "plt.xlabel(\"Users Id\")              # # Adjust the label of the x-axis\n",
    "plt.show()"
   ]
  },
  {
   "cell_type": "code",
   "execution_count": 55,
   "metadata": {},
   "outputs": [
    {
     "data": {
      "image/png": "[encoded data removed]",
      "text/plain": [
       "<Figure size 640x480 with 1 Axes>"
      ]
     },
     "metadata": {},
     "output_type": "display_data"
    }
   ],
   "source": [
    "# Distribución de las cantidades de calificaciones\n",
    "score['score'].hist()\n",
    "plt.title('Scores distribution by score')\n",
    "plt.ylabel(\"Scores Amount\")      # Adjust the label of the y-axis\n",
    "plt.xlabel(\"Score\")              # Adjust the label of the x-axis\n",
    "plt.show()"
   ]
  },
  {
   "cell_type": "code",
   "execution_count": 56,
   "metadata": {},
   "outputs": [
    {
     "name": "stdout",
     "output_type": "stream",
     "text": [
      "movies: 22998\n"
     ]
    },
    {
     "data": {
      "text/html": [
       "<div>\n",
       "<style scoped>\n",
       "    .dataframe tbody tr th:only-of-type {\n",
       "        vertical-align: middle;\n",
       "    }\n",
       "\n",
       "    .dataframe tbody tr th {\n",
       "        vertical-align: top;\n",
       "    }\n",
       "\n",
       "    .dataframe thead th {\n",
       "        text-align: right;\n",
       "    }\n",
       "</style>\n",
       "<table border=\"1\" class=\"dataframe\">\n",
       "  <thead>\n",
       "    <tr style=\"text-align: right;\">\n",
       "      <th></th>\n",
       "      <th>userId</th>\n",
       "      <th>score</th>\n",
       "      <th>platform</th>\n",
       "    </tr>\n",
       "    <tr>\n",
       "      <th>movieId</th>\n",
       "      <th></th>\n",
       "      <th></th>\n",
       "      <th></th>\n",
       "    </tr>\n",
       "  </thead>\n",
       "  <tbody>\n",
       "    <tr>\n",
       "      <th>as1</th>\n",
       "      <td>502</td>\n",
       "      <td>502</td>\n",
       "      <td>502</td>\n",
       "    </tr>\n",
       "    <tr>\n",
       "      <th>as10</th>\n",
       "      <td>513</td>\n",
       "      <td>513</td>\n",
       "      <td>513</td>\n",
       "    </tr>\n",
       "  </tbody>\n",
       "</table>\n",
       "</div>"
      ],
      "text/plain": [
       "         userId  score  platform\n",
       "movieId                         \n",
       "as1         502    502       502\n",
       "as10        513    513       513"
      ]
     },
     "execution_count": 56,
     "metadata": {},
     "output_type": "execute_result"
    }
   ],
   "source": [
    "# Calificaciones por pelicula\n",
    "print('movies:',len(score['movieId'].unique()))     # Cantidad de peliculas/series: 22998\n",
    "scoresByMovie = score.groupby(['movieId']).count()  # Agrupar por peliculas/series  \n",
    "maxAmountScores = scoresByMovie['score'].max()      # Agrupacion maxima: 576\n",
    "scoresByMovie.head(2)"
   ]
  },
  {
   "cell_type": "code",
   "execution_count": 58,
   "metadata": {},
   "outputs": [
    {
     "name": "stdout",
     "output_type": "stream",
     "text": [
      "movieId with maximum amount of scores: as4197\n",
      "movieId with minimum amount of scores: as4940\n"
     ]
    }
   ],
   "source": [
    "# Peliculas/series con mas y menos calificaciones\n",
    "idx_max = scoresByMovie['userId'].idxmax()                  # Index de maxima cantidad de scores (576): as4197\n",
    "print('movieId with maximum amount of scores:',idx_max) \n",
    "maxAmountScores = scoresByMovie['score'].max()              # Maxima cantidad de scores: 576\n",
    "movieIdMaxAmountScores = idx_max                            # movieId con maxima cantidad de scores: as4197\n",
    "idx_min = scoresByMovie['userId'].idxmin()                  # Index de minimo Id de usuario (396): as4940\n",
    "print('movieId with minimum amount of scores:',idx_min)\n",
    "minAmountScores = scoresByMovie['score'].min()              # Minima cantidad de scores: 396\n",
    "movieIdMinAmountScores = idx_min                            # movieId con minima cantidad de scores: as4940"
   ]
  },
  {
   "cell_type": "code",
   "execution_count": 59,
   "metadata": {},
   "outputs": [
    {
     "data": {
      "text/html": [
       "<div>\n",
       "<style scoped>\n",
       "    .dataframe tbody tr th:only-of-type {\n",
       "        vertical-align: middle;\n",
       "    }\n",
       "\n",
       "    .dataframe tbody tr th {\n",
       "        vertical-align: top;\n",
       "    }\n",
       "\n",
       "    .dataframe thead th {\n",
       "        text-align: right;\n",
       "    }\n",
       "</style>\n",
       "<table border=\"1\" class=\"dataframe\">\n",
       "  <thead>\n",
       "    <tr style=\"text-align: right;\">\n",
       "      <th></th>\n",
       "      <th>viewed</th>\n",
       "    </tr>\n",
       "    <tr>\n",
       "      <th>movieId</th>\n",
       "      <th></th>\n",
       "    </tr>\n",
       "  </thead>\n",
       "  <tbody>\n",
       "    <tr>\n",
       "      <th>as4197</th>\n",
       "      <td>576</td>\n",
       "    </tr>\n",
       "    <tr>\n",
       "      <th>as9065</th>\n",
       "      <td>560</td>\n",
       "    </tr>\n",
       "    <tr>\n",
       "      <th>ns7279</th>\n",
       "      <td>558</td>\n",
       "    </tr>\n",
       "    <tr>\n",
       "      <th>as848</th>\n",
       "      <td>558</td>\n",
       "    </tr>\n",
       "    <tr>\n",
       "      <th>hs2360</th>\n",
       "      <td>556</td>\n",
       "    </tr>\n",
       "  </tbody>\n",
       "</table>\n",
       "</div>"
      ],
      "text/plain": [
       "         viewed\n",
       "movieId        \n",
       "as4197      576\n",
       "as9065      560\n",
       "ns7279      558\n",
       "as848       558\n",
       "hs2360      556"
      ]
     },
     "execution_count": 59,
     "metadata": {},
     "output_type": "execute_result"
    }
   ],
   "source": [
    "# df_v: Peliculas/series ordenadas por mas a menos calificaciones\n",
    "df_v = df.groupby(['movieId']).count()\n",
    "df_v.sort_values('userId', ascending = False, inplace = True)\n",
    "df_v['viewed'] = df_v['userId']\n",
    "df_v.drop(columns = ['userId','score','platform','title'], inplace = True)\n",
    "df_v.head()"
   ]
  },
  {
   "cell_type": "code",
   "execution_count": 60,
   "metadata": {},
   "outputs": [
    {
     "data": {
      "text/html": [
       "<div>\n",
       "<style scoped>\n",
       "    .dataframe tbody tr th:only-of-type {\n",
       "        vertical-align: middle;\n",
       "    }\n",
       "\n",
       "    .dataframe tbody tr th {\n",
       "        vertical-align: top;\n",
       "    }\n",
       "\n",
       "    .dataframe thead th {\n",
       "        text-align: right;\n",
       "    }\n",
       "</style>\n",
       "<table border=\"1\" class=\"dataframe\">\n",
       "  <thead>\n",
       "    <tr style=\"text-align: right;\">\n",
       "      <th></th>\n",
       "      <th>viewed</th>\n",
       "      <th>title</th>\n",
       "    </tr>\n",
       "    <tr>\n",
       "      <th>movieId</th>\n",
       "      <th></th>\n",
       "      <th></th>\n",
       "    </tr>\n",
       "  </thead>\n",
       "  <tbody>\n",
       "    <tr>\n",
       "      <th>as4197</th>\n",
       "      <td>576</td>\n",
       "      <td>from other worlds</td>\n",
       "    </tr>\n",
       "    <tr>\n",
       "      <th>as9065</th>\n",
       "      <td>560</td>\n",
       "      <td>the organization</td>\n",
       "    </tr>\n",
       "    <tr>\n",
       "      <th>ns7279</th>\n",
       "      <td>558</td>\n",
       "      <td>leapfrog: sing-along, read-along</td>\n",
       "    </tr>\n",
       "    <tr>\n",
       "      <th>as848</th>\n",
       "      <td>558</td>\n",
       "      <td>superbook</td>\n",
       "    </tr>\n",
       "    <tr>\n",
       "      <th>hs2360</th>\n",
       "      <td>556</td>\n",
       "      <td>dietland</td>\n",
       "    </tr>\n",
       "    <tr>\n",
       "      <th>...</th>\n",
       "      <td>...</td>\n",
       "      <td>...</td>\n",
       "    </tr>\n",
       "    <tr>\n",
       "      <th>hs599</th>\n",
       "      <td>404</td>\n",
       "      <td>dave</td>\n",
       "    </tr>\n",
       "    <tr>\n",
       "      <th>ns6535</th>\n",
       "      <td>402</td>\n",
       "      <td>cop and a half: new recruit</td>\n",
       "    </tr>\n",
       "    <tr>\n",
       "      <th>hs1711</th>\n",
       "      <td>401</td>\n",
       "      <td>i am alone</td>\n",
       "    </tr>\n",
       "    <tr>\n",
       "      <th>ns2144</th>\n",
       "      <td>399</td>\n",
       "      <td>rob schneider: asian momma, mexican kids</td>\n",
       "    </tr>\n",
       "    <tr>\n",
       "      <th>as4940</th>\n",
       "      <td>396</td>\n",
       "      <td>mitzi (nbc 1968)</td>\n",
       "    </tr>\n",
       "  </tbody>\n",
       "</table>\n",
       "<p>22998 rows × 2 columns</p>\n",
       "</div>"
      ],
      "text/plain": [
       "         viewed                                     title\n",
       "movieId                                                  \n",
       "as4197      576                         from other worlds\n",
       "as9065      560                          the organization\n",
       "ns7279      558          leapfrog: sing-along, read-along\n",
       "as848       558                                 superbook\n",
       "hs2360      556                                  dietland\n",
       "...         ...                                       ...\n",
       "hs599       404                                      dave\n",
       "ns6535      402               cop and a half: new recruit\n",
       "hs1711      401                                i am alone\n",
       "ns2144      399  rob schneider: asian momma, mexican kids\n",
       "as4940      396                          mitzi (nbc 1968)\n",
       "\n",
       "[22998 rows x 2 columns]"
      ]
     },
     "execution_count": 60,
     "metadata": {},
     "output_type": "execute_result"
    }
   ],
   "source": [
    "# Agrega los title al df_v\n",
    "titles = titles.set_index('movieId')\n",
    "df_v['title'] = titles.loc[df_v.index].title\n",
    "df_v"
   ]
  },
  {
   "cell_type": "code",
   "execution_count": 61,
   "metadata": {},
   "outputs": [
    {
     "name": "stdout",
     "output_type": "stream",
     "text": [
      "Movie with Maximum amount of scores: from other worlds\n",
      "Movie with Minimum amount of scores: mitzi (nbc 1968)\n"
     ]
    }
   ],
   "source": [
    "movieMaxAmountScores = df_v.loc[movieIdMaxAmountScores, 'title'] \n",
    "movieMinAmountScores = df_v.loc[movieIdMinAmountScores, 'title'] \n",
    "print('Movie with Maximum amount of scores:',movieMaxAmountScores)\n",
    "print('Movie with Minimum amount of scores:',movieMinAmountScores)"
   ]
  },
  {
   "cell_type": "code",
   "execution_count": 62,
   "metadata": {},
   "outputs": [
    {
     "data": {
      "image/png": "[encoded data removed]",
      "text/plain": [
       "<Figure size 600x300 with 1 Axes>"
      ]
     },
     "metadata": {},
     "output_type": "display_data"
    }
   ],
   "source": [
    "# Grafica la cantidad de vistas\n",
    "plt.figure(figsize = (6,3))\n",
    "df_v.viewed[df_v.viewed<600].hist(log = True)\n",
    "plt.title('Distribution for amount of views')\n",
    "plt.show()"
   ]
  },
  {
   "attachments": {},
   "cell_type": "markdown",
   "metadata": {},
   "source": [
    "## Conclusiones"
   ]
  },
  {
   "cell_type": "code",
   "execution_count": null,
   "metadata": {},
   "outputs": [],
   "source": [
    "# df.to_csv('data/merge.csv', index=False)\n",
    "df.to_parquet('data/merge.parquet', index=False)"
   ]
  },
  {
   "cell_type": "code",
   "execution_count": null,
   "metadata": {},
   "outputs": [],
   "source": [
    "df_title.to_csv('data/df_title.csv', index=False)"
   ]
  },
  {
   "cell_type": "code",
   "execution_count": 64,
   "metadata": {},
   "outputs": [
    {
     "name": "stdout",
     "output_type": "stream",
     "text": [
      "EDA conclusions:\n",
      "Users amount: 115077\n",
      "Scores amount: 11024288\n",
      "Maximum Average Score (by platform) 3.5866666666666664\n",
      "Minimum Average Score (by platform) 3.1799163179916317\n",
      "Maximum amount of scores in a movie: 576\n",
      "Minimum amount of scores in a movie: 396\n",
      "Movie Id with maximum amount of scores: as4197\n",
      "Movie Id with minimum amount of scores: as4940\n",
      "Movie with Maximum amount of scores: from other worlds\n",
      "Movie with Minimum amount of scores: mitzi (nbc 1968)\n"
     ]
    }
   ],
   "source": [
    "print('EDA conclusions:')\n",
    "print('Users amount:',usersAmount)\n",
    "print('Scores amount:',scores_amount)\n",
    "print('Maximum Average Score (by platform)',maxAvgScore)\n",
    "print('Minimum Average Score (by platform)',minAvgScore)\n",
    "print('Maximum amount of scores in a movie:', maxAmountScores)\n",
    "print('Minimum amount of scores in a movie:', minAmountScores)\n",
    "print('Movie Id with maximum amount of scores:',movieIdMaxAmountScores)\n",
    "print('Movie Id with minimum amount of scores:',movieIdMinAmountScores)\n",
    "print('Movie with Maximum amount of scores:',movieMaxAmountScores)\n",
    "print('Movie with Minimum amount of scores:',movieMinAmountScores)"
   ]
  }
 ],
 "metadata": {
  "kernelspec": {
   "display_name": "venv",
   "language": "python",
   "name": "python3"
  },
  "language_info": {
   "codemirror_mode": {
    "name": "ipython",
    "version": 3
   },
   "file_extension": ".py",
   "mimetype": "text/x-python",
   "name": "python",
   "nbconvert_exporter": "python",
   "pygments_lexer": "ipython3",
   "version": "3.10.10"
  },
  "orig_nbformat": 4
 },
 "nbformat": 4,
 "nbformat_minor": 2
}
