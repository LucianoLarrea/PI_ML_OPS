{
 "cells": [
  {
   "attachments": {},
   "cell_type": "markdown",
   "metadata": {},
   "source": [
    "## Machine Learning"
   ]
  },
  {
   "cell_type": "code",
   "execution_count": 2,
   "metadata": {},
   "outputs": [],
   "source": [
    "# pip install scikit-surprise\n",
    "import numpy as np\n",
    "import pandas  as pd\n",
    "import matplotlib.pyplot as plt\n",
    "import seaborn as sns\n",
    "sns.set()\n",
    "from surprise import Dataset, Reader, SVD\n",
    "from surprise.model_selection import train_test_split\n",
    "from surprise import accuracy\n",
    "\n",
    "import gc"
   ]
  },
  {
   "cell_type": "code",
   "execution_count": 3,
   "metadata": {},
   "outputs": [],
   "source": [
    "df1 = pd.read_parquet(('processed_data/all.parquet'))\n",
    "title = pd.read_parquet('processed_data/title.parquet')"
   ]
  },
  {
   "cell_type": "code",
   "execution_count": 84,
   "metadata": {},
   "outputs": [
    {
     "data": {
      "text/html": [
       "<div>\n",
       "<style scoped>\n",
       "    .dataframe tbody tr th:only-of-type {\n",
       "        vertical-align: middle;\n",
       "    }\n",
       "\n",
       "    .dataframe tbody tr th {\n",
       "        vertical-align: top;\n",
       "    }\n",
       "\n",
       "    .dataframe thead th {\n",
       "        text-align: right;\n",
       "    }\n",
       "</style>\n",
       "<table border=\"1\" class=\"dataframe\">\n",
       "  <thead>\n",
       "    <tr style=\"text-align: right;\">\n",
       "      <th></th>\n",
       "      <th>movieId</th>\n",
       "      <th>title</th>\n",
       "    </tr>\n",
       "  </thead>\n",
       "  <tbody>\n",
       "    <tr>\n",
       "      <th>22996</th>\n",
       "      <td>ns8806</td>\n",
       "      <td>zoom</td>\n",
       "    </tr>\n",
       "    <tr>\n",
       "      <th>22997</th>\n",
       "      <td>ns8807</td>\n",
       "      <td>zubaan</td>\n",
       "    </tr>\n",
       "  </tbody>\n",
       "</table>\n",
       "</div>"
      ],
      "text/plain": [
       "      movieId   title\n",
       "22996  ns8806    zoom\n",
       "22997  ns8807  zubaan"
      ]
     },
     "execution_count": 84,
     "metadata": {},
     "output_type": "execute_result"
    }
   ],
   "source": [
    "title.tail(2)"
   ]
  },
  {
   "cell_type": "code",
   "execution_count": 74,
   "metadata": {},
   "outputs": [
    {
     "data": {
      "text/plain": [
       "270896"
      ]
     },
     "execution_count": 74,
     "metadata": {},
     "output_type": "execute_result"
    }
   ],
   "source": [
    "df1.shape\n",
    "df1['userId'].max()"
   ]
  },
  {
   "cell_type": "code",
   "execution_count": 46,
   "metadata": {},
   "outputs": [],
   "source": [
    "reader = Reader()\n",
    "# N_filas = 100000 # Limita el dataset a N_filas\n",
    "# data = Dataset.load_from_df(df1[['userId', 'movieId', 'score']][:N_filas], reader)\n",
    "data = Dataset.load_from_df(df1[['userId', 'movieId', 'score']], reader)"
   ]
  },
  {
   "cell_type": "code",
   "execution_count": 47,
   "metadata": {},
   "outputs": [],
   "source": [
    "# Separa los datos, instancia el modelo SVD, entrena y predice.\n",
    "trainset, testset = train_test_split(data, test_size=.25)\n",
    "model = SVD()\n",
    "model.fit(trainset)\n",
    "predictions = model.test(testset)"
   ]
  },
  {
   "cell_type": "code",
   "execution_count": 48,
   "metadata": {},
   "outputs": [
    {
     "name": "stdout",
     "output_type": "stream",
     "text": [
      "RMSE: 1.0016\n"
     ]
    },
    {
     "data": {
      "text/plain": [
       "1.0015579784563007"
      ]
     },
     "execution_count": 48,
     "metadata": {},
     "output_type": "execute_result"
    }
   ],
   "source": [
    "from surprise import accuracy   \n",
    "accuracy.rmse(predictions)      # Evalua la precision del modelo"
   ]
  },
  {
   "cell_type": "code",
   "execution_count": 49,
   "metadata": {},
   "outputs": [
    {
     "data": {
      "text/html": [
       "<div>\n",
       "<style scoped>\n",
       "    .dataframe tbody tr th:only-of-type {\n",
       "        vertical-align: middle;\n",
       "    }\n",
       "\n",
       "    .dataframe tbody tr th {\n",
       "        vertical-align: top;\n",
       "    }\n",
       "\n",
       "    .dataframe thead th {\n",
       "        text-align: right;\n",
       "    }\n",
       "</style>\n",
       "<table border=\"1\" class=\"dataframe\">\n",
       "  <thead>\n",
       "    <tr style=\"text-align: right;\">\n",
       "      <th></th>\n",
       "      <th>userId</th>\n",
       "      <th>movieId</th>\n",
       "      <th>score</th>\n",
       "      <th>platform</th>\n",
       "      <th>title</th>\n",
       "    </tr>\n",
       "  </thead>\n",
       "  <tbody>\n",
       "    <tr>\n",
       "      <th>44</th>\n",
       "      <td>2</td>\n",
       "      <td>ds139</td>\n",
       "      <td>4.0</td>\n",
       "      <td>disney</td>\n",
       "      <td>beverly hills chihuahua 3: viva la fiesta!</td>\n",
       "    </tr>\n",
       "    <tr>\n",
       "      <th>45</th>\n",
       "      <td>2</td>\n",
       "      <td>ds319</td>\n",
       "      <td>4.0</td>\n",
       "      <td>disney</td>\n",
       "      <td>marvel studios legends</td>\n",
       "    </tr>\n",
       "    <tr>\n",
       "      <th>46</th>\n",
       "      <td>2</td>\n",
       "      <td>ns7879</td>\n",
       "      <td>5.0</td>\n",
       "      <td>netflix</td>\n",
       "      <td>robotech</td>\n",
       "    </tr>\n",
       "  </tbody>\n",
       "</table>\n",
       "</div>"
      ],
      "text/plain": [
       "    userId movieId  score platform                                       title\n",
       "44       2   ds139    4.0   disney  beverly hills chihuahua 3: viva la fiesta!\n",
       "45       2   ds319    4.0   disney                      marvel studios legends\n",
       "46       2  ns7879    5.0  netflix                                    robotech"
      ]
     },
     "execution_count": 49,
     "metadata": {},
     "output_type": "execute_result"
    }
   ],
   "source": [
    "# Toma un usuario para hacerle una recomendación\n",
    "usuario = 2\n",
    "scored = 4   # Toma películas a las que haya calificado con 5 estrellas\n",
    "df_user = df1[(df1['userId'] == usuario) & (df1['score'] >= scored)] # Filtra por usuario y score > rating\n",
    "# df_user = df_user.reset_index(drop=True) # Resetea el index\n",
    "# df_user = df_user.drop('Unnamed: 0', axis=1)\n",
    "df_user.tail(3)"
   ]
  },
  {
   "cell_type": "code",
   "execution_count": 50,
   "metadata": {},
   "outputs": [
    {
     "data": {
      "text/html": [
       "<div>\n",
       "<style scoped>\n",
       "    .dataframe tbody tr th:only-of-type {\n",
       "        vertical-align: middle;\n",
       "    }\n",
       "\n",
       "    .dataframe tbody tr th {\n",
       "        vertical-align: top;\n",
       "    }\n",
       "\n",
       "    .dataframe thead th {\n",
       "        text-align: right;\n",
       "    }\n",
       "</style>\n",
       "<table border=\"1\" class=\"dataframe\">\n",
       "  <thead>\n",
       "    <tr style=\"text-align: right;\">\n",
       "      <th></th>\n",
       "      <th>userId</th>\n",
       "      <th>movieId</th>\n",
       "      <th>score</th>\n",
       "      <th>platform</th>\n",
       "      <th>title</th>\n",
       "    </tr>\n",
       "  </thead>\n",
       "  <tbody>\n",
       "    <tr>\n",
       "      <th>47</th>\n",
       "      <td>2</td>\n",
       "      <td>as9099</td>\n",
       "      <td>3.0</td>\n",
       "      <td>amazon</td>\n",
       "      <td>squirm</td>\n",
       "    </tr>\n",
       "    <tr>\n",
       "      <th>48</th>\n",
       "      <td>2</td>\n",
       "      <td>ns5772</td>\n",
       "      <td>2.0</td>\n",
       "      <td>netflix</td>\n",
       "      <td>murphy's law of love</td>\n",
       "    </tr>\n",
       "  </tbody>\n",
       "</table>\n",
       "</div>"
      ],
      "text/plain": [
       "    userId movieId  score platform                 title\n",
       "47       2  as9099    3.0   amazon                squirm\n",
       "48       2  ns5772    2.0  netflix  murphy's law of love"
      ]
     },
     "execution_count": 50,
     "metadata": {},
     "output_type": "execute_result"
    }
   ],
   "source": [
    "usuario_vistas = df1[df1['userId'] == usuario] # Titulos vistos por el usuario seleccionado\n",
    "usuario_vistas.tail(2)"
   ]
  },
  {
   "cell_type": "code",
   "execution_count": 51,
   "metadata": {},
   "outputs": [
    {
     "name": "stdout",
     "output_type": "stream",
     "text": [
      "(22, 5)\n"
     ]
    },
    {
     "data": {
      "text/plain": [
       "27    ns5228\n",
       "28    ns5355\n",
       "29    hs1581\n",
       "30    ns4446\n",
       "31    ns8778\n",
       "32    ns2462\n",
       "33     hs589\n",
       "34    as8906\n",
       "35    as2307\n",
       "36    as2200\n",
       "37    as2064\n",
       "38    ns3954\n",
       "39    ns3429\n",
       "40    ns3522\n",
       "41    as7276\n",
       "42    hs1914\n",
       "43    as9455\n",
       "44     ds139\n",
       "45     ds319\n",
       "46    ns7879\n",
       "47    as9099\n",
       "48    ns5772\n",
       "Name: movieId, dtype: object"
      ]
     },
     "execution_count": 51,
     "metadata": {},
     "output_type": "execute_result"
    }
   ],
   "source": [
    "# Debemos extraer las películas que ya ha visto\n",
    "usuario_vistas = df1[df1['userId'] == usuario] # Filtro por peliculas que el usuario califico\n",
    "print(usuario_vistas.shape)\n",
    "\n",
    "usuario_vistas.movieId"
   ]
  },
  {
   "cell_type": "code",
   "execution_count": 36,
   "metadata": {},
   "outputs": [
    {
     "data": {
      "text/html": [
       "<div>\n",
       "<style scoped>\n",
       "    .dataframe tbody tr th:only-of-type {\n",
       "        vertical-align: middle;\n",
       "    }\n",
       "\n",
       "    .dataframe tbody tr th {\n",
       "        vertical-align: top;\n",
       "    }\n",
       "\n",
       "    .dataframe thead th {\n",
       "        text-align: right;\n",
       "    }\n",
       "</style>\n",
       "<table border=\"1\" class=\"dataframe\">\n",
       "  <thead>\n",
       "    <tr style=\"text-align: right;\">\n",
       "      <th></th>\n",
       "      <th>movieId</th>\n",
       "      <th>title</th>\n",
       "    </tr>\n",
       "  </thead>\n",
       "  <tbody>\n",
       "    <tr>\n",
       "      <th>22997</th>\n",
       "      <td>ns8807</td>\n",
       "      <td>zubaan</td>\n",
       "    </tr>\n",
       "  </tbody>\n",
       "</table>\n",
       "</div>"
      ],
      "text/plain": [
       "      movieId   title\n",
       "22997  ns8807  zubaan"
      ]
     },
     "execution_count": 36,
     "metadata": {},
     "output_type": "execute_result"
    }
   ],
   "source": [
    "title.tail(1)"
   ]
  },
  {
   "cell_type": "code",
   "execution_count": 52,
   "metadata": {},
   "outputs": [
    {
     "data": {
      "text/plain": [
       "(22976, 2)"
      ]
     },
     "execution_count": 52,
     "metadata": {},
     "output_type": "execute_result"
    }
   ],
   "source": [
    "recomendaciones_usuario = title.set_index(['movieId'])  # Establece movieId como indice\n",
    "recomendaciones_usuario.drop(usuario_vistas.movieId, inplace = True,  errors='ignore') # Elimina las peliculas vistas\n",
    "recomendaciones_usuario = recomendaciones_usuario.reset_index() # Resetea los indices\n",
    "recomendaciones_usuario.shape   # Verifica que se eliminaron los titulos vistos"
   ]
  },
  {
   "cell_type": "code",
   "execution_count": 53,
   "metadata": {},
   "outputs": [
    {
     "data": {
      "text/html": [
       "<div>\n",
       "<style scoped>\n",
       "    .dataframe tbody tr th:only-of-type {\n",
       "        vertical-align: middle;\n",
       "    }\n",
       "\n",
       "    .dataframe tbody tr th {\n",
       "        vertical-align: top;\n",
       "    }\n",
       "\n",
       "    .dataframe thead th {\n",
       "        text-align: right;\n",
       "    }\n",
       "</style>\n",
       "<table border=\"1\" class=\"dataframe\">\n",
       "  <thead>\n",
       "    <tr style=\"text-align: right;\">\n",
       "      <th></th>\n",
       "      <th>movieId</th>\n",
       "      <th>title</th>\n",
       "      <th>Estimate_Score</th>\n",
       "    </tr>\n",
       "  </thead>\n",
       "  <tbody>\n",
       "    <tr>\n",
       "      <th>2808</th>\n",
       "      <td>as2812</td>\n",
       "      <td>coherence</td>\n",
       "      <td>4.296233</td>\n",
       "    </tr>\n",
       "    <tr>\n",
       "      <th>4058</th>\n",
       "      <td>as4062</td>\n",
       "      <td>into the sun</td>\n",
       "      <td>4.225385</td>\n",
       "    </tr>\n",
       "    <tr>\n",
       "      <th>1614</th>\n",
       "      <td>as1615</td>\n",
       "      <td>more beautiful for having been broken</td>\n",
       "      <td>4.224559</td>\n",
       "    </tr>\n",
       "    <tr>\n",
       "      <th>22523</th>\n",
       "      <td>ns8354</td>\n",
       "      <td>the hunt</td>\n",
       "      <td>4.200881</td>\n",
       "    </tr>\n",
       "    <tr>\n",
       "      <th>11874</th>\n",
       "      <td>hs767</td>\n",
       "      <td>una familia moderna</td>\n",
       "      <td>4.156250</td>\n",
       "    </tr>\n",
       "    <tr>\n",
       "      <th>21657</th>\n",
       "      <td>ns7487</td>\n",
       "      <td>monkey up</td>\n",
       "      <td>4.156040</td>\n",
       "    </tr>\n",
       "    <tr>\n",
       "      <th>1476</th>\n",
       "      <td>as1477</td>\n",
       "      <td>no turning back</td>\n",
       "      <td>4.154151</td>\n",
       "    </tr>\n",
       "    <tr>\n",
       "      <th>10013</th>\n",
       "      <td>ds355</td>\n",
       "      <td>once upon a time in wonderland</td>\n",
       "      <td>4.142521</td>\n",
       "    </tr>\n",
       "    <tr>\n",
       "      <th>20106</th>\n",
       "      <td>ns5936</td>\n",
       "      <td>the square</td>\n",
       "      <td>4.134525</td>\n",
       "    </tr>\n",
       "    <tr>\n",
       "      <th>5535</th>\n",
       "      <td>as5539</td>\n",
       "      <td>infected</td>\n",
       "      <td>4.119869</td>\n",
       "    </tr>\n",
       "  </tbody>\n",
       "</table>\n",
       "</div>"
      ],
      "text/plain": [
       "      movieId                                  title  Estimate_Score\n",
       "2808   as2812                              coherence        4.296233\n",
       "4058   as4062                           into the sun        4.225385\n",
       "1614   as1615  more beautiful for having been broken        4.224559\n",
       "22523  ns8354                               the hunt        4.200881\n",
       "11874   hs767                    una familia moderna        4.156250\n",
       "21657  ns7487                              monkey up        4.156040\n",
       "1476   as1477                        no turning back        4.154151\n",
       "10013   ds355         once upon a time in wonderland        4.142521\n",
       "20106  ns5936                             the square        4.134525\n",
       "5535   as5539                               infected        4.119869"
      ]
     },
     "execution_count": 53,
     "metadata": {},
     "output_type": "execute_result"
    }
   ],
   "source": [
    "# Recomendamos\n",
    "recomendaciones_usuario['Estimate_Score'] = recomendaciones_usuario['movieId'].apply(lambda x: model.predict(usuario, x).est)\n",
    "recomendaciones_usuario = recomendaciones_usuario.sort_values('Estimate_Score', ascending=False)\n",
    "recomendaciones_usuario.head(10)"
   ]
  },
  {
   "cell_type": "code",
   "execution_count": 54,
   "metadata": {},
   "outputs": [
    {
     "name": "stdout",
     "output_type": "stream",
     "text": [
      "RMSE: 1.0016\n"
     ]
    },
    {
     "data": {
      "text/plain": [
       "1.0015579784563007"
      ]
     },
     "execution_count": 54,
     "metadata": {},
     "output_type": "execute_result"
    }
   ],
   "source": [
    "# Evaluamos\n",
    "accuracy.rmse(predictions)"
   ]
  },
  {
   "attachments": {},
   "cell_type": "markdown",
   "metadata": {},
   "source": [
    "## Optimizacion de hiperparametros"
   ]
  },
  {
   "cell_type": "code",
   "execution_count": 32,
   "metadata": {},
   "outputs": [
    {
     "name": "stdout",
     "output_type": "stream",
     "text": [
      "1\n",
      "Evaluating RMSE of algorithm SVD on 3 split(s).\n",
      "\n",
      "                  Fold 1  Fold 2  Fold 3  Mean    Std     \n",
      "RMSE (testset)    0.9825  0.9862  0.9861  0.9849  0.0017  \n",
      "Fit time          1.76    0.78    0.76    1.10    0.47    \n",
      "Test time         2.36    0.52    0.40    1.09    0.90    \n",
      "2\n",
      "Evaluating RMSE of algorithm SVD on 3 split(s).\n",
      "\n",
      "                  Fold 1  Fold 2  Fold 3  Mean    Std     \n",
      "RMSE (testset)    0.9823  0.9867  0.9860  0.9850  0.0019  \n",
      "Fit time          0.86    0.87    0.78    0.84    0.04    \n",
      "Test time         0.60    0.42    0.40    0.47    0.09    \n",
      "4\n",
      "Evaluating RMSE of algorithm SVD on 3 split(s).\n",
      "\n",
      "                  Fold 1  Fold 2  Fold 3  Mean    Std     \n",
      "RMSE (testset)    0.9879  0.9822  0.9869  0.9857  0.0025  \n",
      "Fit time          0.75    0.78    0.78    0.77    0.02    \n",
      "Test time         0.60    0.40    0.54    0.51    0.08    \n",
      "8\n",
      "Evaluating RMSE of algorithm SVD on 3 split(s).\n",
      "\n",
      "                  Fold 1  Fold 2  Fold 3  Mean    Std     \n",
      "RMSE (testset)    0.9870  0.9851  0.9852  0.9858  0.0009  \n",
      "Fit time          1.85    0.83    0.88    1.19    0.47    \n",
      "Test time         0.42    0.44    1.36    0.74    0.44    \n",
      "16\n",
      "Evaluating RMSE of algorithm SVD on 3 split(s).\n",
      "\n",
      "                  Fold 1  Fold 2  Fold 3  Mean    Std     \n",
      "RMSE (testset)    0.9789  0.9963  0.9879  0.9877  0.0071  \n",
      "Fit time          1.19    1.08    0.93    1.07    0.11    \n",
      "Test time         0.94    0.42    0.55    0.64    0.22    \n",
      "32\n",
      "Evaluating RMSE of algorithm SVD on 3 split(s).\n",
      "\n",
      "                  Fold 1  Fold 2  Fold 3  Mean    Std     \n",
      "RMSE (testset)    0.9892  0.9912  0.9920  0.9908  0.0012  \n",
      "Fit time          2.08    1.02    1.71    1.60    0.44    \n",
      "Test time         0.40    0.34    0.54    0.43    0.08    \n",
      "64\n",
      "Evaluating RMSE of algorithm SVD on 3 split(s).\n",
      "\n",
      "                  Fold 1  Fold 2  Fold 3  Mean    Std     \n",
      "RMSE (testset)    0.9903  0.9946  0.9963  0.9937  0.0025  \n",
      "Fit time          1.62    1.16    1.79    1.53    0.27    \n",
      "Test time         0.54    0.73    1.54    0.94    0.44    \n",
      "128\n",
      "Evaluating RMSE of algorithm SVD on 3 split(s).\n",
      "\n",
      "                  Fold 1  Fold 2  Fold 3  Mean    Std     \n",
      "RMSE (testset)    1.0015  0.9992  0.9966  0.9991  0.0020  \n",
      "Fit time          2.91    2.65    2.48    2.68    0.18    \n",
      "Test time         0.59    1.06    0.43    0.69    0.27    \n",
      "256\n",
      "Evaluating RMSE of algorithm SVD on 3 split(s).\n",
      "\n",
      "                  Fold 1  Fold 2  Fold 3  Mean    Std     \n",
      "RMSE (testset)    1.0071  1.0026  1.0062  1.0053  0.0020  \n",
      "Fit time          3.90    3.70    2.52    3.37    0.61    \n",
      "Test time         0.52    1.00    0.44    0.65    0.24    \n"
     ]
    }
   ],
   "source": [
    "# Optimizacion de hiperparametros\n",
    "# Realiza una validación cruzada con diferentes valores de un hiperparámetro (número de factores latentes) en un modelo SVD. \n",
    "# El objetivo es encontrar el valor de este hiperparámetro que da lugar al menor valor medio de RMSE para un conjunto de datos dado.\n",
    "from surprise.model_selection import cross_validate\n",
    "\n",
    "rmse_test_means = []\n",
    "factores = [1,2,4,8,16,32,64,128,256]\n",
    "\n",
    "for factor in factores:\n",
    "    print(factor)\n",
    "    model = SVD(n_factors=factor)\n",
    "    cv = cross_validate(model, data, measures=['RMSE'], cv = 3, verbose=True)\n",
    "    rmse_test_means.append(np.mean(cv['test_rmse']))"
   ]
  },
  {
   "cell_type": "code",
   "execution_count": 33,
   "metadata": {},
   "outputs": [
    {
     "data": {
      "image/png": "[encoded data removed]",
      "text/plain": [
       "<Figure size 640x480 with 1 Axes>"
      ]
     },
     "metadata": {},
     "output_type": "display_data"
    }
   ],
   "source": [
    "# Ploteamos desempeño según cantidad de factores de SVD\n",
    "\n",
    "plt.scatter(factores, rmse_test_means)\n",
    "plt.xlabel('Numero de factores')\n",
    "plt.ylabel('Error RMSE')\n",
    "plt.show()"
   ]
  },
  {
   "cell_type": "code",
   "execution_count": 34,
   "metadata": {},
   "outputs": [],
   "source": [
    "# Este codigo tiene un tiempo de ejecucion extenso.\n",
    "# Este código utiliza la función GridSearchCV de la biblioteca surprise para realizar la sintonización de hiperparámetros del modelo SVD.\n",
    "# param_grid contiene valores para hiperparámetros como el número de factores latentes, número de épocas, tasa de aprendizaje y regularización.\n",
    "from surprise.model_selection import GridSearchCV\n",
    "\n",
    "param_grid = {'n_factors': [5,50,100],'n_epochs': [5, 10,20], 'lr_all': [0.001, 0.002, 0.005],\n",
    "              'reg_all': [0.002, 0.02, 0.2]}\n",
    "# GridSearchCV realiza una búsqueda en cuadrícula sobre todas las posibles combinaciones de hiperparámetros y \n",
    "# evalúa el rendimiento del modelo utilizando validación cruzada. \n",
    "# En este caso, la métrica de evaluación utilizada es el RMSE, y el parámetro cv especifica el número de pliegues de validación cruzada.\n",
    "# Al establecer n_jobs en -1, utiliza todos los núcleos de CPU disponibles para acelerar el proceso de optimización de hiperparámetros.\n",
    "gs = GridSearchCV(SVD, param_grid, measures=['rmse'], cv=3, n_jobs = -1)\n",
    "gs.fit(data)"
   ]
  },
  {
   "cell_type": "code",
   "execution_count": 35,
   "metadata": {},
   "outputs": [
    {
     "name": "stdout",
     "output_type": "stream",
     "text": [
      "0.9809964355734078\n",
      "{'n_factors': 5, 'n_epochs': 20, 'lr_all': 0.002, 'reg_all': 0.02}\n"
     ]
    }
   ],
   "source": [
    "# Observamos performance del mejor modelo\n",
    "\n",
    "print(gs.best_score['rmse'])\n",
    "print(gs.best_params['rmse'])"
   ]
  },
  {
   "attachments": {},
   "cell_type": "markdown",
   "metadata": {},
   "source": [
    "## Incorporacion de nuevos datos"
   ]
  },
  {
   "cell_type": "code",
   "execution_count": 36,
   "metadata": {},
   "outputs": [],
   "source": [
    "# Incorporacion de nuevos datos\n",
    "def load_data(name):\n",
    "    df = pd.read_csv(name, header = None, names = ['userId','score'], usecols = [0,1])\n",
    "    \n",
    "    # En ciertos casos, forzar un tipo de dato hace que se ahorre mucho lugar en memoria.\n",
    "    df['score'] = df['score']#.astype(float) \n",
    "    return df\n",
    "\n",
    "\n",
    "# df2 = load_data() Aqui se cargan los datos nuevos\n",
    "# print(df2.shape)"
   ]
  },
  {
   "cell_type": "code",
   "execution_count": 37,
   "metadata": {},
   "outputs": [
    {
     "ename": "NameError",
     "evalue": "name 'df2' is not defined",
     "output_type": "error",
     "traceback": [
      "\u001b[0;31m---------------------------------------------------------------------------\u001b[0m",
      "\u001b[0;31mNameError\u001b[0m                                 Traceback (most recent call last)",
      "Cell \u001b[0;32mIn[37], line 1\u001b[0m\n\u001b[0;32m----> 1\u001b[0m movies_ids_df2 \u001b[39m=\u001b[39m df2\u001b[39m.\u001b[39muserId[df2\u001b[39m.\u001b[39mscore\u001b[39m.\u001b[39misna()]\u001b[39m.\u001b[39mvalues\n\u001b[1;32m      2\u001b[0m \u001b[39mprint\u001b[39m(movies_ids_df2)\n\u001b[1;32m      3\u001b[0m \u001b[39mprint\u001b[39m(\u001b[39mlen\u001b[39m(movies_ids_df2))\n",
      "\u001b[0;31mNameError\u001b[0m: name 'df2' is not defined"
     ]
    }
   ],
   "source": [
    "movies_ids_df2 = df2.userId[df2.score.isna()].values\n",
    "print(movies_ids_df2)\n",
    "print(len(movies_ids_df2))\n",
    "\n",
    "movies_ids_df2 = np.arange(4500,len(movies_ids_df2) + 4500)\n",
    "print(movies_ids_df2)"
   ]
  },
  {
   "cell_type": "code",
   "execution_count": null,
   "metadata": {},
   "outputs": [],
   "source": [
    "df2_nan = pd.DataFrame(pd.isnull(df2.score))\n",
    "df2_nan = df2_nan[df2_nan['score'] == True]\n",
    "idx_movies_ids = df2_nan.index.values\n",
    "print(idx_movies_ids)"
   ]
  },
  {
   "cell_type": "code",
   "execution_count": null,
   "metadata": {},
   "outputs": [],
   "source": [
    "# Agregamos el índice de la última instancia del DataFrame\n",
    "idx_movies_ids = np.append(idx_movies_ids,df2.shape[0])"
   ]
  },
  {
   "cell_type": "code",
   "execution_count": null,
   "metadata": {},
   "outputs": [],
   "source": [
    "cantidad_criticas = np.diff(idx_movies_ids)\n",
    "cantidad_criticas"
   ]
  },
  {
   "cell_type": "code",
   "execution_count": null,
   "metadata": {},
   "outputs": [],
   "source": [
    "columna_movie_id = np.array([])\n",
    "for i in range(cantidad_criticas.size):\n",
    "    aux = np.full(cantidad_criticas[i], movies_ids_df2[i])\n",
    "    columna_movie_id = np.concatenate((columna_movie_id, aux))"
   ]
  },
  {
   "cell_type": "code",
   "execution_count": null,
   "metadata": {},
   "outputs": [],
   "source": [
    "df2['movieId'] = columna_movie_id\n",
    "del columna_movie_id\n",
    "\n",
    "df2.dropna(inplace = True)\n",
    "df2['userId'] = df2['userId'].astype(int)\n",
    "df2['movieId'] = df2['movieId'].astype(np.int16)\n",
    "df2['score'] = df2['score'].astype(np.int8)\n",
    "\n",
    "gc.collect()"
   ]
  },
  {
   "cell_type": "code",
   "execution_count": null,
   "metadata": {},
   "outputs": [],
   "source": [
    "### 5.\n",
    "df = df1.copy()\n",
    "del df1\n",
    "df = df.append(df2)\n",
    "print(df.shape)"
   ]
  },
  {
   "cell_type": "code",
   "execution_count": null,
   "metadata": {},
   "outputs": [],
   "source": [
    "# Corroboramos que estén todas las películas\n",
    "\n",
    "peliculas_presentes = df.movie_id.unique()\n",
    "peliculas_presentes"
   ]
  },
  {
   "cell_type": "code",
   "execution_count": null,
   "metadata": {},
   "outputs": [],
   "source": [
    "print((peliculas_presentes - np.arange(1,9210 + 1)).sum())"
   ]
  },
  {
   "cell_type": "code",
   "execution_count": null,
   "metadata": {},
   "outputs": [],
   "source": [
    "# Y asi sucesivamente\n",
    "switch = False\n",
    "if switch:\n",
    "    df.to_parquet('data/ML.parquet', index= False)"
   ]
  }
 ],
 "metadata": {
  "kernelspec": {
   "display_name": "venv",
   "language": "python",
   "name": "python3"
  },
  "language_info": {
   "codemirror_mode": {
    "name": "ipython",
    "version": 3
   },
   "file_extension": ".py",
   "mimetype": "text/x-python",
   "name": "python",
   "nbconvert_exporter": "python",
   "pygments_lexer": "ipython3",
   "version": "3.10.10"
  },
  "orig_nbformat": 4
 },
 "nbformat": 4,
 "nbformat_minor": 2
}
