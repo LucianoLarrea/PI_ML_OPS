{
 "cells": [
  {
   "attachments": {},
   "cell_type": "markdown",
   "metadata": {},
   "source": [
    "## Machine Learning"
   ]
  },
  {
   "cell_type": "code",
   "execution_count": null,
   "metadata": {},
   "outputs": [],
   "source": [
    "# pip install scikit-surprise\n",
    "import numpy as np\n",
    "import pandas  as pd\n",
    "import matplotlib.pyplot as plt\n",
    "import seaborn as sns\n",
    "sns.set()\n",
    "from surprise import Dataset, Reader, SVD\n",
    "from surprise.model_selection import train_test_split\n",
    "from surprise import accuracy\n",
    "\n",
    "import gc"
   ]
  },
  {
   "cell_type": "code",
   "execution_count": null,
   "metadata": {},
   "outputs": [],
   "source": [
    "df1 = pd.read_parquet(('data/merge.parquet'))\n",
    "df_title = pd.read_csv('data/df_title.csv')"
   ]
  },
  {
   "cell_type": "code",
   "execution_count": null,
   "metadata": {},
   "outputs": [],
   "source": [
    "reader = Reader()\n",
    "N_filas = 100000 # Limitamos el dataset a N_filas\n",
    "data = Dataset.load_from_df(df1[['userId', 'movieId', 'score']][:N_filas], reader)"
   ]
  },
  {
   "cell_type": "code",
   "execution_count": null,
   "metadata": {},
   "outputs": [],
   "source": [
    "# Separamos nuestros datos, modelo SVD, \n",
    "trainset, testset = train_test_split(data, test_size=.25)\n",
    "model = SVD()\n",
    "model.fit(trainset)\n",
    "predictions = model.test(testset)"
   ]
  },
  {
   "cell_type": "code",
   "execution_count": null,
   "metadata": {},
   "outputs": [],
   "source": [
    "# df_title = pd.read_csv('data/df_title.csv')\n",
    "# df_title = df_title[['movieId','title']]\n",
    "# df_title"
   ]
  },
  {
   "cell_type": "code",
   "execution_count": null,
   "metadata": {},
   "outputs": [],
   "source": [
    "# Tomaremos un usuario para hacerle una recomendación\n",
    "usuario = 124380\n",
    "rating = 4.5   # Tomamos películas a las que haya calificado con 4 o 5 estrellas\n",
    "df_user = df1[(df1['userId'] == usuario) & (df1['score'] >= rating)] # Filtra por usuario y score > rating\n",
    "df_user = df_user.reset_index(drop=True) # Resetea el index\n",
    "# df_user = df_user.drop('Unnamed: 0', axis=1)\n",
    "df_user"
   ]
  },
  {
   "cell_type": "code",
   "execution_count": null,
   "metadata": {},
   "outputs": [],
   "source": [
    "df_title.iloc[:4499].copy()"
   ]
  },
  {
   "cell_type": "code",
   "execution_count": null,
   "metadata": {},
   "outputs": [],
   "source": [
    "recomendaciones_usuario = df_title.iloc[:4499].copy()\n",
    "print(recomendaciones_usuario.shape)\n",
    "recomendaciones_usuario.head()"
   ]
  },
  {
   "cell_type": "code",
   "execution_count": null,
   "metadata": {},
   "outputs": [],
   "source": [
    "# Debemos extraer las películas que ya ha visto\n",
    "usuario_vistas = df1[df1['userId'] == usuario] # Filtro por peliculas que el usuario califico\n",
    "print(usuario_vistas.shape)\n",
    "# usuario_vistas = usuario_vistas.drop('Unnamed: 0', axis=1)\n",
    "usuario_vistas['movieId'].values"
   ]
  },
  {
   "cell_type": "code",
   "execution_count": null,
   "metadata": {},
   "outputs": [],
   "source": [
    "recomendaciones_usuario.drop(usuario_vistas.movieId, inplace = True,  errors='ignore')\n",
    "recomendaciones_usuario = recomendaciones_usuario.reset_index()\n",
    "recomendaciones_usuario"
   ]
  },
  {
   "cell_type": "code",
   "execution_count": null,
   "metadata": {},
   "outputs": [],
   "source": [
    "# Recomendamos\n",
    "recomendaciones_usuario['Estimate_Score'] = recomendaciones_usuario['movieId'].apply(lambda x: model.predict(usuario, x).est)\n",
    "recomendaciones_usuario = recomendaciones_usuario.sort_values('Estimate_Score', ascending=False)\n",
    "recomendaciones_usuario.head(10)"
   ]
  },
  {
   "cell_type": "code",
   "execution_count": 19,
   "metadata": {},
   "outputs": [
    {
     "name": "stdout",
     "output_type": "stream",
     "text": [
      "RMSE: 1.0028\n"
     ]
    },
    {
     "data": {
      "text/plain": [
       "1.0028143582116535"
      ]
     },
     "execution_count": 19,
     "metadata": {},
     "output_type": "execute_result"
    }
   ],
   "source": [
    "# Evaluamos\n",
    "accuracy.rmse(predictions)"
   ]
  },
  {
   "attachments": {},
   "cell_type": "markdown",
   "metadata": {},
   "source": [
    "## Optimizacion de hiperparametros"
   ]
  },
  {
   "cell_type": "code",
   "execution_count": 17,
   "metadata": {},
   "outputs": [
    {
     "name": "stdout",
     "output_type": "stream",
     "text": [
      "1\n",
      "Evaluating RMSE of algorithm SVD on 3 split(s).\n",
      "\n",
      "                  Fold 1  Fold 2  Fold 3  Mean    Std     \n",
      "RMSE (testset)    0.9914  0.9832  0.9845  0.9864  0.0036  \n",
      "Fit time          1.34    0.75    0.63    0.91    0.31    \n",
      "Test time         0.46    0.48    0.35    0.43    0.06    \n",
      "2\n",
      "Evaluating RMSE of algorithm SVD on 3 split(s).\n",
      "\n",
      "                  Fold 1  Fold 2  Fold 3  Mean    Std     \n",
      "RMSE (testset)    0.9882  0.9853  0.9836  0.9857  0.0019  \n",
      "Fit time          0.65    0.89    0.93    0.82    0.12    \n",
      "Test time         0.41    0.70    0.41    0.50    0.14    \n",
      "4\n",
      "Evaluating RMSE of algorithm SVD on 3 split(s).\n",
      "\n",
      "                  Fold 1  Fold 2  Fold 3  Mean    Std     \n",
      "RMSE (testset)    0.9880  0.9928  0.9778  0.9862  0.0063  \n",
      "Fit time          0.72    0.67    0.69    0.69    0.02    \n",
      "Test time         0.44    0.49    0.33    0.42    0.07    \n",
      "8\n",
      "Evaluating RMSE of algorithm SVD on 3 split(s).\n",
      "\n",
      "                  Fold 1  Fold 2  Fold 3  Mean    Std     \n",
      "RMSE (testset)    0.9845  0.9912  0.9865  0.9874  0.0028  \n",
      "Fit time          0.70    0.71    0.72    0.71    0.01    \n",
      "Test time         0.49    0.34    0.28    0.37    0.09    \n",
      "16\n",
      "Evaluating RMSE of algorithm SVD on 3 split(s).\n",
      "\n",
      "                  Fold 1  Fold 2  Fold 3  Mean    Std     \n",
      "RMSE (testset)    0.9899  0.9855  0.9897  0.9884  0.0020  \n",
      "Fit time          0.84    0.79    0.79    0.81    0.02    \n",
      "Test time         0.49    0.33    0.35    0.39    0.07    \n",
      "32\n",
      "Evaluating RMSE of algorithm SVD on 3 split(s).\n",
      "\n",
      "                  Fold 1  Fold 2  Fold 3  Mean    Std     \n",
      "RMSE (testset)    0.9954  0.9862  0.9907  0.9908  0.0038  \n",
      "Fit time          0.95    0.96    0.99    0.97    0.02    \n",
      "Test time         0.33    0.33    0.47    0.38    0.07    \n",
      "64\n",
      "Evaluating RMSE of algorithm SVD on 3 split(s).\n",
      "\n",
      "                  Fold 1  Fold 2  Fold 3  Mean    Std     \n",
      "RMSE (testset)    0.9890  0.9962  0.9927  0.9926  0.0030  \n",
      "Fit time          1.06    1.08    1.07    1.07    0.01    \n",
      "Test time         0.33    0.33    0.48    0.38    0.07    \n",
      "128\n",
      "Evaluating RMSE of algorithm SVD on 3 split(s).\n",
      "\n",
      "                  Fold 1  Fold 2  Fold 3  Mean    Std     \n",
      "RMSE (testset)    1.0018  0.9986  0.9965  0.9989  0.0022  \n",
      "Fit time          1.45    1.49    1.42    1.45    0.03    \n",
      "Test time         0.33    0.33    0.50    0.39    0.08    \n",
      "256\n",
      "Evaluating RMSE of algorithm SVD on 3 split(s).\n",
      "\n",
      "                  Fold 1  Fold 2  Fold 3  Mean    Std     \n",
      "RMSE (testset)    1.0050  1.0013  1.0123  1.0062  0.0046  \n",
      "Fit time          2.15    2.26    2.11    2.17    0.06    \n",
      "Test time         0.33    0.35    0.52    0.40    0.08    \n"
     ]
    }
   ],
   "source": [
    "# Optimizacion de hiperparametros\n",
    "# Realiza una validación cruzada con diferentes valores de un hiperparámetro (número de factores latentes) en un modelo SVD. \n",
    "# El objetivo es encontrar el valor de este hiperparámetro que da lugar al menor valor medio de RMSE para un conjunto de datos dado.\n",
    "from surprise.model_selection import cross_validate\n",
    "\n",
    "rmse_test_means = []\n",
    "factores = [1,2,4,8,16,32,64,128,256]\n",
    "\n",
    "for factor in factores:\n",
    "    print(factor)\n",
    "    model = SVD(n_factors=factor)\n",
    "    cv = cross_validate(model, data, measures=['RMSE'], cv = 3, verbose=True)\n",
    "    rmse_test_means.append(np.mean(cv['test_rmse']))"
   ]
  },
  {
   "cell_type": "code",
   "execution_count": 18,
   "metadata": {},
   "outputs": [
    {
     "data": {
      "image/png": "[encoded data removed]",
      "text/plain": [
       "<Figure size 640x480 with 1 Axes>"
      ]
     },
     "metadata": {},
     "output_type": "display_data"
    }
   ],
   "source": [
    "# Ploteamos desempeño según cantidad de factores de SVD\n",
    "\n",
    "plt.scatter(factores, rmse_test_means)\n",
    "plt.xlabel('Numero de factores')\n",
    "plt.ylabel('Error RMSE')\n",
    "plt.show()"
   ]
  },
  {
   "cell_type": "code",
   "execution_count": null,
   "metadata": {},
   "outputs": [],
   "source": [
    "# Este codigo tiene un tiempo de ejecucion extenso.\n",
    "# Este código utiliza la función GridSearchCV de la biblioteca surprise para realizar la sintonización de hiperparámetros del modelo SVD.\n",
    "# param_grid contiene valores para hiperparámetros como el número de factores latentes, número de épocas, tasa de aprendizaje y regularización.\n",
    "from surprise.model_selection import GridSearchCV\n",
    "\n",
    "param_grid = {'n_factors': [5,50,100],'n_epochs': [5, 10,20], 'lr_all': [0.001, 0.002, 0.005],\n",
    "              'reg_all': [0.002, 0.02, 0.2]}\n",
    "# GridSearchCV realiza una búsqueda en cuadrícula sobre todas las posibles combinaciones de hiperparámetros y \n",
    "# evalúa el rendimiento del modelo utilizando validación cruzada. \n",
    "# En este caso, la métrica de evaluación utilizada es el RMSE, y el parámetro cv especifica el número de pliegues de validación cruzada.\n",
    "# Al establecer n_jobs en -1, utiliza todos los núcleos de CPU disponibles para acelerar el proceso de optimización de hiperparámetros.\n",
    "gs = GridSearchCV(SVD, param_grid, measures=['rmse'], cv=3, n_jobs = -1)\n",
    "gs.fit(data)"
   ]
  },
  {
   "cell_type": "code",
   "execution_count": null,
   "metadata": {},
   "outputs": [],
   "source": [
    "# Observamos performance del mejor modelo\n",
    "\n",
    "print(gs.best_score['rmse'])\n",
    "print(gs.best_params['rmse'])"
   ]
  },
  {
   "attachments": {},
   "cell_type": "markdown",
   "metadata": {},
   "source": [
    "## Incorporacion de nuevos datos"
   ]
  },
  {
   "cell_type": "code",
   "execution_count": null,
   "metadata": {},
   "outputs": [],
   "source": [
    "# Incorporacion de nuevos datos\n",
    "def load_data(name):\n",
    "    df = pd.read_csv(name, header = None, names = ['userId','score'], usecols = [0,1])\n",
    "    \n",
    "    # En ciertos casos, forzar un tipo de dato hace que se ahorre mucho lugar en memoria.\n",
    "    df['score'] = df['score']#.astype(float) \n",
    "    return df\n",
    "\n",
    "\n",
    "# df2 = load_data() Aqui se cargan los datos nuevos\n",
    "# print(df2.shape)"
   ]
  },
  {
   "cell_type": "code",
   "execution_count": null,
   "metadata": {},
   "outputs": [],
   "source": [
    "movies_ids_df2 = df2.userId[df2.score.isna()].values\n",
    "print(movies_ids_df2)\n",
    "print(len(movies_ids_df2))\n",
    "\n",
    "movies_ids_df2 = np.arange(4500,len(movies_ids_df2) + 4500)\n",
    "print(movies_ids_df2)"
   ]
  },
  {
   "cell_type": "code",
   "execution_count": null,
   "metadata": {},
   "outputs": [],
   "source": [
    "df2_nan = pd.DataFrame(pd.isnull(df2.score))\n",
    "df2_nan = df2_nan[df2_nan['score'] == True]\n",
    "idx_movies_ids = df2_nan.index.values\n",
    "print(idx_movies_ids)"
   ]
  },
  {
   "cell_type": "code",
   "execution_count": null,
   "metadata": {},
   "outputs": [],
   "source": [
    "# Agregamos el índice de la última instancia del DataFrame\n",
    "idx_movies_ids = np.append(idx_movies_ids,df2.shape[0])"
   ]
  },
  {
   "cell_type": "code",
   "execution_count": null,
   "metadata": {},
   "outputs": [],
   "source": [
    "cantidad_criticas = np.diff(idx_movies_ids)\n",
    "cantidad_criticas"
   ]
  },
  {
   "cell_type": "code",
   "execution_count": null,
   "metadata": {},
   "outputs": [],
   "source": [
    "columna_movie_id = np.array([])\n",
    "for i in range(cantidad_criticas.size):\n",
    "    aux = np.full(cantidad_criticas[i], movies_ids_df2[i])\n",
    "    columna_movie_id = np.concatenate((columna_movie_id, aux))"
   ]
  },
  {
   "cell_type": "code",
   "execution_count": null,
   "metadata": {},
   "outputs": [],
   "source": [
    "df2['movieId'] = columna_movie_id\n",
    "del columna_movie_id\n",
    "\n",
    "df2.dropna(inplace = True)\n",
    "df2['userId'] = df2['userId'].astype(int)\n",
    "df2['movieId'] = df2['movieId'].astype(np.int16)\n",
    "df2['score'] = df2['score'].astype(np.int8)\n",
    "\n",
    "gc.collect()"
   ]
  },
  {
   "cell_type": "code",
   "execution_count": null,
   "metadata": {},
   "outputs": [],
   "source": [
    "### 5.\n",
    "df = df1.copy()\n",
    "del df1\n",
    "df = df.append(df2)\n",
    "print(df.shape)"
   ]
  },
  {
   "cell_type": "code",
   "execution_count": null,
   "metadata": {},
   "outputs": [],
   "source": [
    "# Corroboramos que estén todas las películas\n",
    "\n",
    "peliculas_presentes = df.movie_id.unique()\n",
    "peliculas_presentes"
   ]
  },
  {
   "cell_type": "code",
   "execution_count": null,
   "metadata": {},
   "outputs": [],
   "source": [
    "print((peliculas_presentes - np.arange(1,9210 + 1)).sum())"
   ]
  },
  {
   "cell_type": "code",
   "execution_count": null,
   "metadata": {},
   "outputs": [],
   "source": [
    "# Y asi sucesivamente\n",
    "switch = False\n",
    "if switch:\n",
    "    df.to_parquet('data/ML.parquet', index= False)"
   ]
  }
 ],
 "metadata": {
  "kernelspec": {
   "display_name": "venv",
   "language": "python",
   "name": "python3"
  },
  "language_info": {
   "codemirror_mode": {
    "name": "ipython",
    "version": 3
   },
   "file_extension": ".py",
   "mimetype": "text/x-python",
   "name": "python",
   "nbconvert_exporter": "python",
   "pygments_lexer": "ipython3",
   "version": "3.10.10"
  },
  "orig_nbformat": 4
 },
 "nbformat": 4,
 "nbformat_minor": 2
}
