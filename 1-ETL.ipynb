{
 "cells": [
  {
   "attachments": {},
   "cell_type": "markdown",
   "metadata": {},
   "source": [
    "## Descripcion"
   ]
  },
  {
   "attachments": {},
   "cell_type": "markdown",
   "metadata": {},
   "source": [
    "Este codigo consiste en realizar un ETL de los datos de la carpeta 'ignore':  \n",
    "1-Extraccion: Importa 4 datasets correspondientes a los titulos por plataforma y 8 datasets correspondientes a las puntuaciones de titulos por usuario.  \n",
    "2-Transformacion: se realizan 2 transformaciones  \n",
    "    a) All: Busca unificar los titulos de las 4 plataformas para unificar las consultas en un dataset 'All'.  \n",
    "    b) Score: Busca unificar las puntuaciones de titulos para consultas de score en un unico dataset 'Score'.   \n",
    "3-Carga: Exporta los dataframes a los siguientes archivos:  \n",
    "    a) All => all.csv  \n",
    "    b) Score => score.csv  \n",
    "    c) Score => score.parquet  \n",
    "    d) Cast => cast.csv  "
   ]
  },
  {
   "attachments": {},
   "cell_type": "markdown",
   "metadata": {},
   "source": [
    "## Extraccion"
   ]
  },
  {
   "attachments": {},
   "cell_type": "markdown",
   "metadata": {},
   "source": [
    "Importa 4 datasets correspondientes a los titulos por plataforma y 8 datasets correspondientes a las puntuaciones de titulos por usuario."
   ]
  },
  {
   "cell_type": "code",
   "execution_count": null,
   "metadata": {},
   "outputs": [],
   "source": [
    "import pandas as pd\n",
    "import numpy as np"
   ]
  },
  {
   "cell_type": "code",
   "execution_count": null,
   "metadata": {},
   "outputs": [],
   "source": [
    "# Titles\n",
    "Amazon = pd.read_csv(\"ignore/amazon_prime_titles.csv\")\n",
    "Disney = pd.read_csv(\"ignore/disney_plus_titles.csv\")\n",
    "Hulu = pd.read_csv(\"ignore/hulu_titles.csv\")\n",
    "Netflix = pd.read_csv(\"ignore/netflix_titles.csv\")"
   ]
  },
  {
   "cell_type": "code",
   "execution_count": null,
   "metadata": {},
   "outputs": [],
   "source": [
    "# Scores\n",
    "a = pd.read_csv(\"ignore/ratings/1.csv\")\n",
    "b = pd.read_csv(\"ignore/ratings/2.csv\")\n",
    "c = pd.read_csv(\"ignore/ratings/3.csv\")\n",
    "d = pd.read_csv(\"ignore/ratings/4.csv\")\n",
    "e = pd.read_csv(\"ignore/ratings/5.csv\")\n",
    "f = pd.read_csv(\"ignore/ratings/6.csv\")\n",
    "g = pd.read_csv(\"ignore/ratings/7.csv\")\n",
    "h = pd.read_csv(\"ignore/ratings/8.csv\")"
   ]
  },
  {
   "cell_type": "code",
   "execution_count": null,
   "metadata": {},
   "outputs": [],
   "source": [
    "print('Amazon')\n",
    "print('Duplicates:',Amazon.duplicated().any())\n",
    "print('Files, Columns:',Amazon.shape)\n",
    "print(Amazon.isnull().sum())\n",
    "Amazon.tail(3)"
   ]
  },
  {
   "cell_type": "code",
   "execution_count": null,
   "metadata": {},
   "outputs": [],
   "source": [
    "print('Disney')\n",
    "print('Duplicates:',Disney.duplicated().any())\n",
    "print('Files, Columns:',Disney.shape)\n",
    "print(Disney.isnull().sum())\n",
    "Disney.tail(3)"
   ]
  },
  {
   "cell_type": "code",
   "execution_count": null,
   "metadata": {},
   "outputs": [],
   "source": [
    "print('Hulu')\n",
    "print('Duplicates:',Hulu.duplicated().any())\n",
    "print('Files, Columns:',Hulu.shape)\n",
    "print(Hulu.isnull().sum())\n",
    "Hulu.tail(3)"
   ]
  },
  {
   "cell_type": "code",
   "execution_count": null,
   "metadata": {},
   "outputs": [],
   "source": [
    "print('Netflix')\n",
    "print('Duplicates:',Netflix.duplicated().any())\n",
    "print('Files, Columns:',Netflix.shape)\n",
    "print(Netflix.isnull().sum())\n",
    "Netflix.tail(3)"
   ]
  },
  {
   "attachments": {},
   "cell_type": "markdown",
   "metadata": {},
   "source": [
    "## Transformacion All"
   ]
  },
  {
   "cell_type": "code",
   "execution_count": null,
   "metadata": {},
   "outputs": [],
   "source": [
    "# Generar campo id: Cada id se compondrá de la primera letra del nombre de la plataforma, \n",
    "# seguido del show_id ya presente en los datasets (ejemplo para títulos de Amazon = as123)\n",
    "id_A = 'a' + Amazon['show_id']\n",
    "Amazon.insert(0, 'id', id_A)\n",
    "Amazon.insert(1, 'platform', 'amazon')\n",
    "\n",
    "id_D = 'd' + Disney['show_id']\n",
    "Disney.insert(0, 'id', id_D)\n",
    "Disney.insert(1, 'platform', 'disney')\n",
    "\n",
    "id_H = 'h' + Hulu['show_id']\n",
    "Hulu.insert(0, 'id', id_H)\n",
    "Hulu.insert(1, 'platform', 'hulu')\n",
    "\n",
    "id_N = 'n' + Netflix['show_id']\n",
    "Netflix.insert(0, 'id', id_N)\n",
    "Netflix.insert(1, 'platform', 'netflix')"
   ]
  },
  {
   "cell_type": "code",
   "execution_count": null,
   "metadata": {},
   "outputs": [],
   "source": [
    "All = pd.concat([Amazon,Disney,Hulu,Netflix], axis=0).reset_index()\n",
    "print('All platforms')\n",
    "print('Files, Columns:',All.shape)\n",
    "print(All.isnull().sum())\n",
    "All.head(3)\n"
   ]
  },
  {
   "cell_type": "code",
   "execution_count": null,
   "metadata": {},
   "outputs": [],
   "source": [
    "# Los valores nulos del campo rating deberán reemplazarse por el string “G” (corresponde al maturity rating: “general for all audiences”)\n",
    "All['rating'].fillna('G',inplace=True)\n",
    "print(All['rating'].isnull().sum())"
   ]
  },
  {
   "cell_type": "code",
   "execution_count": null,
   "metadata": {},
   "outputs": [],
   "source": [
    "# De haber fechas, deberán tener el formato AAAA-mm-dd\n",
    "All['date_added'] = pd.to_datetime(All['date_added'])\n",
    "All.tail(3)"
   ]
  },
  {
   "cell_type": "code",
   "execution_count": null,
   "metadata": {},
   "outputs": [],
   "source": [
    "# Los campos de texto deberán estar en minúsculas, sin excepciones\n",
    "lowercase = lambda s:s.lower() if type(s) == str else s\n",
    "All = All.applymap(lowercase)"
   ]
  },
  {
   "cell_type": "code",
   "execution_count": null,
   "metadata": {},
   "outputs": [],
   "source": [
    "# El campo duration debe convertirse en dos campos: duration_int y duration_type. \n",
    "# El primero será un integer y el segundo un string indicando la unidad de medición de duración: min (minutos) o season (temporadas)\n",
    "All[['duration_int','duration_type']] = All['duration'].str.split(' ', expand=True)\n",
    "All.drop(columns=['duration'], inplace=True)\n",
    "All.nunique()          "
   ]
  },
  {
   "cell_type": "code",
   "execution_count": null,
   "metadata": {},
   "outputs": [],
   "source": [
    "# Organiza las columnas\n",
    "All = All.reindex(columns=['id', 'platform', 'type', 'title', 'director', 'cast', 'country', 'date_added', 'release_year', 'duration_int', 'duration_type', 'listed_in', 'description'])\n",
    "All.info()"
   ]
  },
  {
   "cell_type": "code",
   "execution_count": null,
   "metadata": {},
   "outputs": [],
   "source": [
    "# Contabiliza valores nulos\n",
    "All.isnull().sum()"
   ]
  },
  {
   "cell_type": "code",
   "execution_count": null,
   "metadata": {},
   "outputs": [],
   "source": [
    "# Cantidad de valores unicos\n",
    "All.nunique()"
   ]
  },
  {
   "cell_type": "code",
   "execution_count": null,
   "metadata": {},
   "outputs": [],
   "source": [
    "# Convierte a integer los valores numericos\n",
    "All['duration_int'] = All['duration_int'].fillna(0)\n",
    "All['duration_int'] = All['duration_int'].astype(int)\n",
    "All['release_year'] = All['release_year'].astype(int) \n",
    "All.info()"
   ]
  },
  {
   "cell_type": "code",
   "execution_count": null,
   "metadata": {},
   "outputs": [],
   "source": [
    "All.nunique()"
   ]
  },
  {
   "cell_type": "code",
   "execution_count": null,
   "metadata": {},
   "outputs": [],
   "source": [
    "# VIsualiza que categorias de datos hay en duration_type\n",
    "import collections\n",
    "collections.Counter(All['duration_type'])"
   ]
  },
  {
   "cell_type": "code",
   "execution_count": null,
   "metadata": {},
   "outputs": [],
   "source": [
    "# Unifica seasons y season\n",
    "All['duration_type'] = All['duration_type'].replace('seasons','season')\n",
    "collections.Counter(All['duration_type'])"
   ]
  },
  {
   "cell_type": "code",
   "execution_count": null,
   "metadata": {},
   "outputs": [],
   "source": [
    "# Lista los encabezados\n",
    "headers = list(All.columns)\n",
    "print(headers)  "
   ]
  },
  {
   "cell_type": "code",
   "execution_count": null,
   "metadata": {},
   "outputs": [],
   "source": [
    "# Organiza y reduce las columnas\n",
    "All = All.reindex(columns=['id', 'platform', 'type', 'title', 'director', 'cast', 'country', 'date_added', 'release_year', 'duration_int', 'duration_type', 'listed_in', 'description'])\n",
    "All.info()"
   ]
  },
  {
   "attachments": {},
   "cell_type": "markdown",
   "metadata": {},
   "source": [
    "## Transformacion Score"
   ]
  },
  {
   "cell_type": "code",
   "execution_count": null,
   "metadata": {},
   "outputs": [],
   "source": [
    "# Unifica los dataset en Score\n",
    "Score = pd.concat([a,b,c,d,e,f,g,h], axis=0).reset_index()\n",
    "print('Score')\n",
    "print('Files, Columns:',Score.shape)\n",
    "# print(Score.isnull().sum())\n",
    "Score.tail(3)"
   ]
  },
  {
   "cell_type": "code",
   "execution_count": null,
   "metadata": {},
   "outputs": [],
   "source": [
    "# Agrega las columnas year y platform, renombra rating a score\n",
    "Score = Score.rename(columns={'rating':'score'})\n",
    "Score['year'] = pd.to_datetime(Score['timestamp'], unit='s').dt.year\n",
    "Score['platform'] = Score['movieId'].str[0]\n",
    "# Score = Score[['platform','score','year','movieId']]\n",
    "Score.tail(3)"
   ]
  },
  {
   "cell_type": "code",
   "execution_count": null,
   "metadata": {},
   "outputs": [],
   "source": [
    "# Completa el nombre de las plataformas mediante una funcion\n",
    "def get_initial(movieId:str):\n",
    "    if movieId[0] == 'a':\n",
    "        platform = 'amazon'\n",
    "    elif movieId[0] == 'd':\n",
    "        platform = 'disney'\n",
    "    elif movieId[0] == 'h':\n",
    "        platform = 'hulu'\n",
    "    elif movieId[0] == 'n':\n",
    "        platform = 'netflix'\n",
    "    else: platform = '' \n",
    "    \n",
    "    return platform\n",
    "\n",
    "get_initial('as883')\n",
    "\n",
    "# Aplicar la función a la columna 'nombre' para crear la columna 'inicial'\n",
    "Score['platform'] = Score['platform'].apply(get_initial)\n",
    "Score.drop(columns='index',inplace=True)\n",
    "Score.head(3)"
   ]
  },
  {
   "cell_type": "code",
   "execution_count": null,
   "metadata": {},
   "outputs": [],
   "source": [
    "# Reduce la cantidad de columnas\n",
    "Score = Score[['userId','score','movieId','year','platform']]\n",
    "Score"
   ]
  },
  {
   "cell_type": "code",
   "execution_count": null,
   "metadata": {},
   "outputs": [],
   "source": [
    "# Definir una función de agregación que calcula los promedios del score y consulta valores estadisticos\n",
    "S = Score.groupby('movieId').agg(pd.Series({'score': 'mean'}))\n",
    "S.describe()"
   ]
  },
  {
   "attachments": {},
   "cell_type": "markdown",
   "metadata": {},
   "source": [
    "## Carga"
   ]
  },
  {
   "cell_type": "code",
   "execution_count": null,
   "metadata": {},
   "outputs": [],
   "source": [
    "All.info()"
   ]
  },
  {
   "cell_type": "code",
   "execution_count": null,
   "metadata": {},
   "outputs": [],
   "source": [
    "Score.info()"
   ]
  },
  {
   "cell_type": "code",
   "execution_count": null,
   "metadata": {},
   "outputs": [],
   "source": [
    "All['release_year'].max()\n",
    "All['duration_int'].max()\n",
    "Score['userId'].max()"
   ]
  },
  {
   "cell_type": "code",
   "execution_count": null,
   "metadata": {},
   "outputs": [],
   "source": [
    "All['platform'] = All['platform'].astype(str)\n",
    "All['type'] = All['type'].astype(str)\n",
    "All['title'] = All['title'].astype(str)\n",
    "All['director'] = All['director'].astype(str)\n",
    "All['cast'] = All['cast'].astype(str)\n",
    "All['country'] = All['country'].astype(str)\n",
    "All['type'] = All['type'].astype(str)\n",
    "All['title'] = All['title'].astype(str)\n",
    "All['director'] = All['director'].astype(str)\n",
    "All['release_year'] = All['release_year'].astype(np.int16)\n",
    "All['duration_int'] = All['duration_int'].astype(np.int16)\n",
    "All['listed_in'] = All['listed_in'].astype(str)\n",
    "All['description'] = All['description'].astype(str)\n",
    "\n",
    "Score['userId'] = Score['userId'].astype(np.int32)\n",
    "Score['score'] = Score['score'].astype(np.int8)\n",
    "Score['platform'] = Score['platform'].astype(str)"
   ]
  },
  {
   "cell_type": "code",
   "execution_count": null,
   "metadata": {},
   "outputs": [],
   "source": [
    "Score.head()"
   ]
  },
  {
   "cell_type": "code",
   "execution_count": null,
   "metadata": {},
   "outputs": [],
   "source": [
    "All.to_csv('data/all.csv', index=False)"
   ]
  },
  {
   "cell_type": "code",
   "execution_count": null,
   "metadata": {},
   "outputs": [],
   "source": [
    "Score.to_csv('ignore/score.csv', index=False) \n",
    "# Da un archivo de 300Mb"
   ]
  },
  {
   "cell_type": "code",
   "execution_count": null,
   "metadata": {},
   "outputs": [],
   "source": [
    "S.to_csv('data/score_mean.csv', index=False)"
   ]
  },
  {
   "cell_type": "code",
   "execution_count": null,
   "metadata": {},
   "outputs": [],
   "source": [
    "# Convierte score.csv en score.parquet para reducir el tamanio del archivo\n",
    "score = pd.read_csv('ignore/score.csv')\n",
    "score.to_parquet('data/score.parquet')"
   ]
  }
 ],
 "metadata": {
  "kernelspec": {
   "display_name": "Python 3",
   "language": "python",
   "name": "python3"
  },
  "language_info": {
   "codemirror_mode": {
    "name": "ipython",
    "version": 3
   },
   "file_extension": ".py",
   "mimetype": "text/x-python",
   "name": "python",
   "nbconvert_exporter": "python",
   "pygments_lexer": "ipython3",
   "version": "3.10.10"
  },
  "orig_nbformat": 4
 },
 "nbformat": 4,
 "nbformat_minor": 2
}
