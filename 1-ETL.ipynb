{
 "cells": [
  {
   "attachments": {},
   "cell_type": "markdown",
   "metadata": {},
   "source": [
    "## Descripcion"
   ]
  },
  {
   "attachments": {},
   "cell_type": "markdown",
   "metadata": {},
   "source": [
    "Este codigo consiste en realizar un ETL de los datos de la carpeta 'ignore':  \n",
    "1-Extraccion: Importa 4 datasets correspondientes a los titulos por plataforma y 8 datasets correspondientes a las puntuaciones de titulos por usuario.  \n",
    "2-Transformacion: se realizan 2 transformaciones  \n",
    "    a) All: Busca unificar los titulos de las 4 plataformas para unificar las consultas en un dataset 'All'.  \n",
    "    b) Score: Busca unificar las puntuaciones de titulos para consultas de score en un unico dataset 'Score'.   \n",
    "3-Carga: Exporta los dataframes a los siguientes archivos:  \n",
    "    a) All => all.csv  \n",
    "    b) Score => score.csv  \n",
    "    c) Score => score.parquet  \n",
    "    d) Cast => cast.csv  "
   ]
  },
  {
   "attachments": {},
   "cell_type": "markdown",
   "metadata": {},
   "source": [
    "## Extraccion"
   ]
  },
  {
   "attachments": {},
   "cell_type": "markdown",
   "metadata": {},
   "source": [
    "Importa 4 datasets correspondientes a los titulos por plataforma y 8 datasets correspondientes a las puntuaciones de titulos por usuario."
   ]
  },
  {
   "cell_type": "code",
   "execution_count": 35,
   "metadata": {},
   "outputs": [],
   "source": [
    "import pandas as pd\n",
    "import numpy as np"
   ]
  },
  {
   "cell_type": "code",
   "execution_count": 36,
   "metadata": {},
   "outputs": [],
   "source": [
    "# Titles\n",
    "Amazon = pd.read_csv(\"ignore/amazon_prime_titles.csv\")\n",
    "Disney = pd.read_csv(\"ignore/disney_plus_titles.csv\")\n",
    "Hulu = pd.read_csv(\"ignore/hulu_titles.csv\")\n",
    "Netflix = pd.read_csv(\"ignore/netflix_titles.csv\")"
   ]
  },
  {
   "cell_type": "code",
   "execution_count": null,
   "metadata": {},
   "outputs": [],
   "source": [
    "# Scores\n",
    "a = pd.read_csv(\"ignore/ratings/1.csv\")\n",
    "b = pd.read_csv(\"ignore/ratings/2.csv\")\n",
    "c = pd.read_csv(\"ignore/ratings/3.csv\")\n",
    "d = pd.read_csv(\"ignore/ratings/4.csv\")\n",
    "e = pd.read_csv(\"ignore/ratings/5.csv\")\n",
    "f = pd.read_csv(\"ignore/ratings/6.csv\")\n",
    "g = pd.read_csv(\"ignore/ratings/7.csv\")\n",
    "h = pd.read_csv(\"ignore/ratings/8.csv\")"
   ]
  },
  {
   "cell_type": "code",
   "execution_count": null,
   "metadata": {},
   "outputs": [],
   "source": [
    "print('Amazon')\n",
    "print('Duplicates:',Amazon.duplicated().any())\n",
    "print('Files, Columns:',Amazon.shape)\n",
    "print(Amazon.isnull().sum())\n",
    "Amazon.tail(3)"
   ]
  },
  {
   "cell_type": "code",
   "execution_count": null,
   "metadata": {},
   "outputs": [],
   "source": [
    "print('Disney')\n",
    "print('Duplicates:',Disney.duplicated().any())\n",
    "print('Files, Columns:',Disney.shape)\n",
    "print(Disney.isnull().sum())\n",
    "Disney.tail(3)"
   ]
  },
  {
   "cell_type": "code",
   "execution_count": null,
   "metadata": {},
   "outputs": [],
   "source": [
    "print('Hulu')\n",
    "print('Duplicates:',Hulu.duplicated().any())\n",
    "print('Files, Columns:',Hulu.shape)\n",
    "print(Hulu.isnull().sum())\n",
    "Hulu.tail(3)"
   ]
  },
  {
   "cell_type": "code",
   "execution_count": null,
   "metadata": {},
   "outputs": [],
   "source": [
    "print('Netflix')\n",
    "print('Duplicates:',Netflix.duplicated().any())\n",
    "print('Files, Columns:',Netflix.shape)\n",
    "print(Netflix.isnull().sum())\n",
    "Netflix.tail(3)"
   ]
  },
  {
   "attachments": {},
   "cell_type": "markdown",
   "metadata": {},
   "source": [
    "## Transformacion All"
   ]
  },
  {
   "cell_type": "code",
   "execution_count": 37,
   "metadata": {},
   "outputs": [],
   "source": [
    "# Generar campo id: Cada id se compondrá de la primera letra del nombre de la plataforma, \n",
    "# seguido del show_id ya presente en los datasets (ejemplo para títulos de Amazon = as123)\n",
    "id_A = 'a' + Amazon['show_id']\n",
    "Amazon.insert(0, 'id', id_A)\n",
    "Amazon.insert(1, 'platform', 'amazon')\n",
    "\n",
    "id_D = 'd' + Disney['show_id']\n",
    "Disney.insert(0, 'id', id_D)\n",
    "Disney.insert(1, 'platform', 'disney')\n",
    "\n",
    "id_H = 'h' + Hulu['show_id']\n",
    "Hulu.insert(0, 'id', id_H)\n",
    "Hulu.insert(1, 'platform', 'hulu')\n",
    "\n",
    "id_N = 'n' + Netflix['show_id']\n",
    "Netflix.insert(0, 'id', id_N)\n",
    "Netflix.insert(1, 'platform', 'netflix')"
   ]
  },
  {
   "cell_type": "code",
   "execution_count": 38,
   "metadata": {},
   "outputs": [
    {
     "name": "stdout",
     "output_type": "stream",
     "text": [
      "All platforms\n",
      "Files, Columns: (22998, 15)\n",
      "index               0\n",
      "id                  0\n",
      "platform            0\n",
      "show_id             0\n",
      "type                0\n",
      "title               0\n",
      "director         8259\n",
      "cast             5321\n",
      "country         11499\n",
      "date_added       9554\n",
      "release_year        0\n",
      "rating            864\n",
      "duration          482\n",
      "listed_in           0\n",
      "description         4\n",
      "dtype: int64\n"
     ]
    },
    {
     "data": {
      "text/html": [
       "<div>\n",
       "<style scoped>\n",
       "    .dataframe tbody tr th:only-of-type {\n",
       "        vertical-align: middle;\n",
       "    }\n",
       "\n",
       "    .dataframe tbody tr th {\n",
       "        vertical-align: top;\n",
       "    }\n",
       "\n",
       "    .dataframe thead th {\n",
       "        text-align: right;\n",
       "    }\n",
       "</style>\n",
       "<table border=\"1\" class=\"dataframe\">\n",
       "  <thead>\n",
       "    <tr style=\"text-align: right;\">\n",
       "      <th></th>\n",
       "      <th>index</th>\n",
       "      <th>id</th>\n",
       "      <th>platform</th>\n",
       "      <th>show_id</th>\n",
       "      <th>type</th>\n",
       "      <th>title</th>\n",
       "      <th>director</th>\n",
       "      <th>cast</th>\n",
       "      <th>country</th>\n",
       "      <th>date_added</th>\n",
       "      <th>release_year</th>\n",
       "      <th>rating</th>\n",
       "      <th>duration</th>\n",
       "      <th>listed_in</th>\n",
       "      <th>description</th>\n",
       "    </tr>\n",
       "  </thead>\n",
       "  <tbody>\n",
       "    <tr>\n",
       "      <th>0</th>\n",
       "      <td>0</td>\n",
       "      <td>as1</td>\n",
       "      <td>amazon</td>\n",
       "      <td>s1</td>\n",
       "      <td>Movie</td>\n",
       "      <td>The Grand Seduction</td>\n",
       "      <td>Don McKellar</td>\n",
       "      <td>Brendan Gleeson, Taylor Kitsch, Gordon Pinsent</td>\n",
       "      <td>Canada</td>\n",
       "      <td>March 30, 2021</td>\n",
       "      <td>2014</td>\n",
       "      <td>NaN</td>\n",
       "      <td>113 min</td>\n",
       "      <td>Comedy, Drama</td>\n",
       "      <td>A small fishing village must procure a local d...</td>\n",
       "    </tr>\n",
       "    <tr>\n",
       "      <th>1</th>\n",
       "      <td>1</td>\n",
       "      <td>as2</td>\n",
       "      <td>amazon</td>\n",
       "      <td>s2</td>\n",
       "      <td>Movie</td>\n",
       "      <td>Take Care Good Night</td>\n",
       "      <td>Girish Joshi</td>\n",
       "      <td>Mahesh Manjrekar, Abhay Mahajan, Sachin Khedekar</td>\n",
       "      <td>India</td>\n",
       "      <td>March 30, 2021</td>\n",
       "      <td>2018</td>\n",
       "      <td>13+</td>\n",
       "      <td>110 min</td>\n",
       "      <td>Drama, International</td>\n",
       "      <td>A Metro Family decides to fight a Cyber Crimin...</td>\n",
       "    </tr>\n",
       "    <tr>\n",
       "      <th>2</th>\n",
       "      <td>2</td>\n",
       "      <td>as3</td>\n",
       "      <td>amazon</td>\n",
       "      <td>s3</td>\n",
       "      <td>Movie</td>\n",
       "      <td>Secrets of Deception</td>\n",
       "      <td>Josh Webber</td>\n",
       "      <td>Tom Sizemore, Lorenzo Lamas, Robert LaSardo, R...</td>\n",
       "      <td>United States</td>\n",
       "      <td>March 30, 2021</td>\n",
       "      <td>2017</td>\n",
       "      <td>NaN</td>\n",
       "      <td>74 min</td>\n",
       "      <td>Action, Drama, Suspense</td>\n",
       "      <td>After a man discovers his wife is cheating on ...</td>\n",
       "    </tr>\n",
       "  </tbody>\n",
       "</table>\n",
       "</div>"
      ],
      "text/plain": [
       "   index   id platform show_id   type                 title      director  \\\n",
       "0      0  as1   amazon      s1  Movie   The Grand Seduction  Don McKellar   \n",
       "1      1  as2   amazon      s2  Movie  Take Care Good Night  Girish Joshi   \n",
       "2      2  as3   amazon      s3  Movie  Secrets of Deception   Josh Webber   \n",
       "\n",
       "                                                cast        country  \\\n",
       "0     Brendan Gleeson, Taylor Kitsch, Gordon Pinsent         Canada   \n",
       "1   Mahesh Manjrekar, Abhay Mahajan, Sachin Khedekar          India   \n",
       "2  Tom Sizemore, Lorenzo Lamas, Robert LaSardo, R...  United States   \n",
       "\n",
       "       date_added  release_year rating duration                listed_in  \\\n",
       "0  March 30, 2021          2014    NaN  113 min            Comedy, Drama   \n",
       "1  March 30, 2021          2018    13+  110 min     Drama, International   \n",
       "2  March 30, 2021          2017    NaN   74 min  Action, Drama, Suspense   \n",
       "\n",
       "                                         description  \n",
       "0  A small fishing village must procure a local d...  \n",
       "1  A Metro Family decides to fight a Cyber Crimin...  \n",
       "2  After a man discovers his wife is cheating on ...  "
      ]
     },
     "execution_count": 38,
     "metadata": {},
     "output_type": "execute_result"
    }
   ],
   "source": [
    "All = pd.concat([Amazon,Disney,Hulu,Netflix], axis=0).reset_index()\n",
    "print('All platforms')\n",
    "print('Files, Columns:',All.shape)\n",
    "print(All.isnull().sum())\n",
    "All.head(3)\n"
   ]
  },
  {
   "cell_type": "code",
   "execution_count": 39,
   "metadata": {},
   "outputs": [
    {
     "name": "stdout",
     "output_type": "stream",
     "text": [
      "0\n"
     ]
    }
   ],
   "source": [
    "# Los valores nulos del campo rating deberán reemplazarse por el string “G” (corresponde al maturity rating: “general for all audiences”)\n",
    "All['rating'].fillna('G',inplace=True)\n",
    "print(All['rating'].isnull().sum())"
   ]
  },
  {
   "cell_type": "code",
   "execution_count": 40,
   "metadata": {},
   "outputs": [
    {
     "data": {
      "text/html": [
       "<div>\n",
       "<style scoped>\n",
       "    .dataframe tbody tr th:only-of-type {\n",
       "        vertical-align: middle;\n",
       "    }\n",
       "\n",
       "    .dataframe tbody tr th {\n",
       "        vertical-align: top;\n",
       "    }\n",
       "\n",
       "    .dataframe thead th {\n",
       "        text-align: right;\n",
       "    }\n",
       "</style>\n",
       "<table border=\"1\" class=\"dataframe\">\n",
       "  <thead>\n",
       "    <tr style=\"text-align: right;\">\n",
       "      <th></th>\n",
       "      <th>index</th>\n",
       "      <th>id</th>\n",
       "      <th>platform</th>\n",
       "      <th>show_id</th>\n",
       "      <th>type</th>\n",
       "      <th>title</th>\n",
       "      <th>director</th>\n",
       "      <th>cast</th>\n",
       "      <th>country</th>\n",
       "      <th>date_added</th>\n",
       "      <th>release_year</th>\n",
       "      <th>rating</th>\n",
       "      <th>duration</th>\n",
       "      <th>listed_in</th>\n",
       "      <th>description</th>\n",
       "    </tr>\n",
       "  </thead>\n",
       "  <tbody>\n",
       "    <tr>\n",
       "      <th>22995</th>\n",
       "      <td>8804</td>\n",
       "      <td>ns8805</td>\n",
       "      <td>netflix</td>\n",
       "      <td>s8805</td>\n",
       "      <td>Movie</td>\n",
       "      <td>Zombieland</td>\n",
       "      <td>Ruben Fleischer</td>\n",
       "      <td>Jesse Eisenberg, Woody Harrelson, Emma Stone, ...</td>\n",
       "      <td>United States</td>\n",
       "      <td>2019-11-01</td>\n",
       "      <td>2009</td>\n",
       "      <td>R</td>\n",
       "      <td>88 min</td>\n",
       "      <td>Comedies, Horror Movies</td>\n",
       "      <td>Looking to survive in a world taken over by zo...</td>\n",
       "    </tr>\n",
       "    <tr>\n",
       "      <th>22996</th>\n",
       "      <td>8805</td>\n",
       "      <td>ns8806</td>\n",
       "      <td>netflix</td>\n",
       "      <td>s8806</td>\n",
       "      <td>Movie</td>\n",
       "      <td>Zoom</td>\n",
       "      <td>Peter Hewitt</td>\n",
       "      <td>Tim Allen, Courteney Cox, Chevy Chase, Kate Ma...</td>\n",
       "      <td>United States</td>\n",
       "      <td>2020-01-11</td>\n",
       "      <td>2006</td>\n",
       "      <td>PG</td>\n",
       "      <td>88 min</td>\n",
       "      <td>Children &amp; Family Movies, Comedies</td>\n",
       "      <td>Dragged from civilian life, a former superhero...</td>\n",
       "    </tr>\n",
       "    <tr>\n",
       "      <th>22997</th>\n",
       "      <td>8806</td>\n",
       "      <td>ns8807</td>\n",
       "      <td>netflix</td>\n",
       "      <td>s8807</td>\n",
       "      <td>Movie</td>\n",
       "      <td>Zubaan</td>\n",
       "      <td>Mozez Singh</td>\n",
       "      <td>Vicky Kaushal, Sarah-Jane Dias, Raaghav Chanan...</td>\n",
       "      <td>India</td>\n",
       "      <td>2019-03-02</td>\n",
       "      <td>2015</td>\n",
       "      <td>TV-14</td>\n",
       "      <td>111 min</td>\n",
       "      <td>Dramas, International Movies, Music &amp; Musicals</td>\n",
       "      <td>A scrappy but poor boy worms his way into a ty...</td>\n",
       "    </tr>\n",
       "  </tbody>\n",
       "</table>\n",
       "</div>"
      ],
      "text/plain": [
       "       index      id platform show_id   type       title         director  \\\n",
       "22995   8804  ns8805  netflix   s8805  Movie  Zombieland  Ruben Fleischer   \n",
       "22996   8805  ns8806  netflix   s8806  Movie        Zoom     Peter Hewitt   \n",
       "22997   8806  ns8807  netflix   s8807  Movie      Zubaan      Mozez Singh   \n",
       "\n",
       "                                                    cast        country  \\\n",
       "22995  Jesse Eisenberg, Woody Harrelson, Emma Stone, ...  United States   \n",
       "22996  Tim Allen, Courteney Cox, Chevy Chase, Kate Ma...  United States   \n",
       "22997  Vicky Kaushal, Sarah-Jane Dias, Raaghav Chanan...          India   \n",
       "\n",
       "      date_added  release_year rating duration  \\\n",
       "22995 2019-11-01          2009      R   88 min   \n",
       "22996 2020-01-11          2006     PG   88 min   \n",
       "22997 2019-03-02          2015  TV-14  111 min   \n",
       "\n",
       "                                            listed_in  \\\n",
       "22995                         Comedies, Horror Movies   \n",
       "22996              Children & Family Movies, Comedies   \n",
       "22997  Dramas, International Movies, Music & Musicals   \n",
       "\n",
       "                                             description  \n",
       "22995  Looking to survive in a world taken over by zo...  \n",
       "22996  Dragged from civilian life, a former superhero...  \n",
       "22997  A scrappy but poor boy worms his way into a ty...  "
      ]
     },
     "execution_count": 40,
     "metadata": {},
     "output_type": "execute_result"
    }
   ],
   "source": [
    "# De haber fechas, deberán tener el formato AAAA-mm-dd\n",
    "All['date_added'] = pd.to_datetime(All['date_added'])\n",
    "All.tail(3)"
   ]
  },
  {
   "cell_type": "code",
   "execution_count": 41,
   "metadata": {},
   "outputs": [],
   "source": [
    "# Los campos de texto deberán estar en minúsculas, sin excepciones\n",
    "lowercase = lambda s:s.lower() if type(s) == str else s\n",
    "All = All.applymap(lowercase)"
   ]
  },
  {
   "cell_type": "code",
   "execution_count": 42,
   "metadata": {},
   "outputs": [
    {
     "data": {
      "text/plain": [
       "index             9668\n",
       "id               22998\n",
       "platform             4\n",
       "show_id           9668\n",
       "type                 2\n",
       "title            22042\n",
       "director         10095\n",
       "cast             16744\n",
       "country            886\n",
       "date_added        2003\n",
       "release_year       101\n",
       "rating             105\n",
       "listed_in         1687\n",
       "description      22669\n",
       "duration_int       225\n",
       "duration_type        3\n",
       "dtype: int64"
      ]
     },
     "execution_count": 42,
     "metadata": {},
     "output_type": "execute_result"
    }
   ],
   "source": [
    "# El campo duration debe convertirse en dos campos: duration_int y duration_type. \n",
    "# El primero será un integer y el segundo un string indicando la unidad de medición de duración: min (minutos) o season (temporadas)\n",
    "All[['duration_int','duration_type']] = All['duration'].str.split(' ', expand=True)\n",
    "All.drop(columns=['duration'], inplace=True)\n",
    "All.nunique()          "
   ]
  },
  {
   "cell_type": "code",
   "execution_count": 43,
   "metadata": {},
   "outputs": [
    {
     "name": "stdout",
     "output_type": "stream",
     "text": [
      "<class 'pandas.core.frame.DataFrame'>\n",
      "RangeIndex: 22998 entries, 0 to 22997\n",
      "Data columns (total 13 columns):\n",
      " #   Column         Non-Null Count  Dtype         \n",
      "---  ------         --------------  -----         \n",
      " 0   id             22998 non-null  object        \n",
      " 1   platform       22998 non-null  object        \n",
      " 2   type           22998 non-null  object        \n",
      " 3   title          22998 non-null  object        \n",
      " 4   director       14739 non-null  object        \n",
      " 5   cast           17677 non-null  object        \n",
      " 6   country        11499 non-null  object        \n",
      " 7   date_added     13444 non-null  datetime64[ns]\n",
      " 8   release_year   22998 non-null  int64         \n",
      " 9   duration_int   22516 non-null  object        \n",
      " 10  duration_type  22516 non-null  object        \n",
      " 11  listed_in      22998 non-null  object        \n",
      " 12  description    22994 non-null  object        \n",
      "dtypes: datetime64[ns](1), int64(1), object(11)\n",
      "memory usage: 2.3+ MB\n"
     ]
    }
   ],
   "source": [
    "# Organiza las columnas\n",
    "All = All.reindex(columns=['id', 'platform', 'type', 'title', 'director', 'cast', 'country', 'date_added', 'release_year', 'duration_int', 'duration_type', 'listed_in', 'description'])\n",
    "All.info()"
   ]
  },
  {
   "cell_type": "code",
   "execution_count": null,
   "metadata": {},
   "outputs": [],
   "source": [
    "# Contabiliza valores nulos\n",
    "All.isnull().sum()"
   ]
  },
  {
   "cell_type": "code",
   "execution_count": null,
   "metadata": {},
   "outputs": [],
   "source": [
    "# Cantidad de valores unicos\n",
    "All.nunique()"
   ]
  },
  {
   "cell_type": "code",
   "execution_count": 44,
   "metadata": {},
   "outputs": [
    {
     "name": "stdout",
     "output_type": "stream",
     "text": [
      "<class 'pandas.core.frame.DataFrame'>\n",
      "RangeIndex: 22998 entries, 0 to 22997\n",
      "Data columns (total 13 columns):\n",
      " #   Column         Non-Null Count  Dtype         \n",
      "---  ------         --------------  -----         \n",
      " 0   id             22998 non-null  object        \n",
      " 1   platform       22998 non-null  object        \n",
      " 2   type           22998 non-null  object        \n",
      " 3   title          22998 non-null  object        \n",
      " 4   director       14739 non-null  object        \n",
      " 5   cast           17677 non-null  object        \n",
      " 6   country        11499 non-null  object        \n",
      " 7   date_added     13444 non-null  datetime64[ns]\n",
      " 8   release_year   22998 non-null  int64         \n",
      " 9   duration_int   22998 non-null  int64         \n",
      " 10  duration_type  22516 non-null  object        \n",
      " 11  listed_in      22998 non-null  object        \n",
      " 12  description    22994 non-null  object        \n",
      "dtypes: datetime64[ns](1), int64(2), object(10)\n",
      "memory usage: 2.3+ MB\n"
     ]
    }
   ],
   "source": [
    "# Convierte a integer los valores numericos\n",
    "All['duration_int'] = All['duration_int'].fillna(0)\n",
    "All['duration_int'] = All['duration_int'].astype(int)\n",
    "All['release_year'] = All['release_year'].astype(int) \n",
    "All.info()"
   ]
  },
  {
   "cell_type": "code",
   "execution_count": null,
   "metadata": {},
   "outputs": [],
   "source": [
    "All.nunique()"
   ]
  },
  {
   "cell_type": "code",
   "execution_count": 45,
   "metadata": {},
   "outputs": [
    {
     "data": {
      "text/plain": [
       "Counter({'min': 15999, 'season': 4183, 'seasons': 2334, nan: 482})"
      ]
     },
     "execution_count": 45,
     "metadata": {},
     "output_type": "execute_result"
    }
   ],
   "source": [
    "# VIsualiza que categorias de datos hay en duration_type\n",
    "import collections\n",
    "collections.Counter(All['duration_type'])"
   ]
  },
  {
   "cell_type": "code",
   "execution_count": 46,
   "metadata": {},
   "outputs": [
    {
     "data": {
      "text/plain": [
       "Counter({'min': 15999, 'season': 6517, nan: 482})"
      ]
     },
     "execution_count": 46,
     "metadata": {},
     "output_type": "execute_result"
    }
   ],
   "source": [
    "# Unifica seasons y season\n",
    "All['duration_type'] = All['duration_type'].replace('seasons','season')\n",
    "collections.Counter(All['duration_type'])"
   ]
  },
  {
   "cell_type": "code",
   "execution_count": 47,
   "metadata": {},
   "outputs": [
    {
     "name": "stdout",
     "output_type": "stream",
     "text": [
      "['id', 'platform', 'type', 'title', 'director', 'cast', 'country', 'date_added', 'release_year', 'duration_int', 'duration_type', 'listed_in', 'description']\n"
     ]
    }
   ],
   "source": [
    "# Lista los encabezados\n",
    "headers = list(All.columns)\n",
    "print(headers)  "
   ]
  },
  {
   "cell_type": "code",
   "execution_count": 48,
   "metadata": {},
   "outputs": [
    {
     "name": "stdout",
     "output_type": "stream",
     "text": [
      "<class 'pandas.core.frame.DataFrame'>\n",
      "RangeIndex: 22998 entries, 0 to 22997\n",
      "Data columns (total 13 columns):\n",
      " #   Column         Non-Null Count  Dtype         \n",
      "---  ------         --------------  -----         \n",
      " 0   id             22998 non-null  object        \n",
      " 1   platform       22998 non-null  object        \n",
      " 2   type           22998 non-null  object        \n",
      " 3   title          22998 non-null  object        \n",
      " 4   director       14739 non-null  object        \n",
      " 5   cast           17677 non-null  object        \n",
      " 6   country        11499 non-null  object        \n",
      " 7   date_added     13444 non-null  datetime64[ns]\n",
      " 8   release_year   22998 non-null  int64         \n",
      " 9   duration_int   22998 non-null  int64         \n",
      " 10  duration_type  22516 non-null  object        \n",
      " 11  listed_in      22998 non-null  object        \n",
      " 12  description    22994 non-null  object        \n",
      "dtypes: datetime64[ns](1), int64(2), object(10)\n",
      "memory usage: 2.3+ MB\n"
     ]
    }
   ],
   "source": [
    "# Organiza y reduce las columnas\n",
    "All = All.reindex(columns=['id', 'platform', 'type', 'title', 'director', 'cast', 'country', 'date_added', 'release_year', 'duration_int', 'duration_type', 'listed_in', 'description'])\n",
    "All.info()"
   ]
  },
  {
   "cell_type": "code",
   "execution_count": 49,
   "metadata": {},
   "outputs": [],
   "source": [
    "# Opcion de guardar avance parcial cambiando switch a True (solo con carpeta ignore)\n",
    "switch = False\n",
    "if switch:\n",
    "    All.to_csv('ignore/all_titles.csv', index=False)"
   ]
  },
  {
   "attachments": {},
   "cell_type": "markdown",
   "metadata": {},
   "source": [
    "## Transformacion Score"
   ]
  },
  {
   "cell_type": "code",
   "execution_count": null,
   "metadata": {},
   "outputs": [],
   "source": [
    "# Unifica los dataset en Score\n",
    "Score = pd.concat([a,b,c,d,e,f,g,h], axis=0).reset_index()\n",
    "print('Score')\n",
    "print('Files, Columns:',Score.shape)\n",
    "# print(Score.isnull().sum())\n",
    "Score.tail(3)"
   ]
  },
  {
   "cell_type": "code",
   "execution_count": null,
   "metadata": {},
   "outputs": [],
   "source": [
    "# Agrega las columnas year y platform, renombra rating a score\n",
    "Score = Score.rename(columns={'rating':'score'})\n",
    "Score['year'] = pd.to_datetime(Score['timestamp'], unit='s').dt.year\n",
    "Score['platform'] = Score['movieId'].str[0]\n",
    "# Score = Score[['platform','score','year','movieId']]\n",
    "Score.tail(3)"
   ]
  },
  {
   "cell_type": "code",
   "execution_count": null,
   "metadata": {},
   "outputs": [],
   "source": [
    "# Completa el nombre de las plataformas mediante una funcion\n",
    "def get_initial(movieId:str):\n",
    "    if movieId[0] == 'a':\n",
    "        platform = 'amazon'\n",
    "    elif movieId[0] == 'd':\n",
    "        platform = 'disney'\n",
    "    elif movieId[0] == 'h':\n",
    "        platform = 'hulu'\n",
    "    elif movieId[0] == 'n':\n",
    "        platform = 'netflix'\n",
    "    else: platform = '' \n",
    "    \n",
    "    return platform\n",
    "\n",
    "get_initial('as883')\n",
    "\n",
    "# Aplicar la función a la columna 'nombre' para crear la columna 'inicial'\n",
    "Score['platform'] = Score['platform'].apply(get_initial)\n",
    "Score.drop(columns='index',inplace=True)\n",
    "Score.head(3)"
   ]
  },
  {
   "cell_type": "code",
   "execution_count": null,
   "metadata": {},
   "outputs": [],
   "source": [
    "# Reduce la cantidad de columnas\n",
    "Score = Score[['userId','score','movieId','year','platform']]\n",
    "Score"
   ]
  },
  {
   "cell_type": "code",
   "execution_count": null,
   "metadata": {},
   "outputs": [],
   "source": [
    "# Definir una función de agregación que calcula los promedios del score y consulta valores estadisticos\n",
    "S = Score.groupby('movieId').agg(pd.Series({'score': 'mean'}))\n",
    "S.describe()"
   ]
  },
  {
   "attachments": {},
   "cell_type": "markdown",
   "metadata": {},
   "source": [
    "## Carga"
   ]
  },
  {
   "cell_type": "code",
   "execution_count": 50,
   "metadata": {},
   "outputs": [],
   "source": [
    "# Opcion de cargar avance parcial cambiando switch a True (solo con carpeta ignore)\n",
    "switch = False\n",
    "if switch:\n",
    "    All = pd.read_csv('ignore/all_titles.csv', index=False)"
   ]
  },
  {
   "cell_type": "code",
   "execution_count": 51,
   "metadata": {},
   "outputs": [
    {
     "name": "stdout",
     "output_type": "stream",
     "text": [
      "<class 'pandas.core.frame.DataFrame'>\n",
      "RangeIndex: 22998 entries, 0 to 22997\n",
      "Data columns (total 13 columns):\n",
      " #   Column         Non-Null Count  Dtype         \n",
      "---  ------         --------------  -----         \n",
      " 0   id             22998 non-null  object        \n",
      " 1   platform       22998 non-null  object        \n",
      " 2   type           22998 non-null  object        \n",
      " 3   title          22998 non-null  object        \n",
      " 4   director       14739 non-null  object        \n",
      " 5   cast           17677 non-null  object        \n",
      " 6   country        11499 non-null  object        \n",
      " 7   date_added     13444 non-null  datetime64[ns]\n",
      " 8   release_year   22998 non-null  int64         \n",
      " 9   duration_int   22998 non-null  int64         \n",
      " 10  duration_type  22516 non-null  object        \n",
      " 11  listed_in      22998 non-null  object        \n",
      " 12  description    22994 non-null  object        \n",
      "dtypes: datetime64[ns](1), int64(2), object(10)\n",
      "memory usage: 2.3+ MB\n"
     ]
    }
   ],
   "source": [
    "All.info()"
   ]
  },
  {
   "cell_type": "code",
   "execution_count": null,
   "metadata": {},
   "outputs": [],
   "source": [
    "Score.info()"
   ]
  },
  {
   "cell_type": "code",
   "execution_count": null,
   "metadata": {},
   "outputs": [],
   "source": [
    "All['release_year'].max()\n",
    "All['duration_int'].max()\n",
    "Score['userId'].max()"
   ]
  },
  {
   "cell_type": "code",
   "execution_count": null,
   "metadata": {},
   "outputs": [],
   "source": [
    "All['platform'] = All['platform'].astype(str)\n",
    "All['type'] = All['type'].astype(str)\n",
    "All['title'] = All['title'].astype(str)\n",
    "All['director'] = All['director'].astype(str)\n",
    "All['cast'] = All['cast'].astype(str)\n",
    "All['country'] = All['country'].astype(str)\n",
    "All['type'] = All['type'].astype(str)\n",
    "All['title'] = All['title'].astype(str)\n",
    "All['director'] = All['director'].astype(str)\n",
    "All['release_year'] = All['release_year'].astype(np.int16)\n",
    "All['duration_int'] = All['duration_int'].astype(np.int16)\n",
    "All['listed_in'] = All['listed_in'].astype(str)\n",
    "All['description'] = All['description'].astype(str)\n",
    "\n",
    "Score['userId'] = Score['userId'].astype(np.int32)\n",
    "Score['score'] = Score['score'].astype(np.int8)\n",
    "Score['platform'] = Score['platform'].astype(str)"
   ]
  },
  {
   "cell_type": "code",
   "execution_count": null,
   "metadata": {},
   "outputs": [],
   "source": [
    "Score.head()"
   ]
  },
  {
   "cell_type": "code",
   "execution_count": null,
   "metadata": {},
   "outputs": [],
   "source": [
    "All.to_csv('data/all.csv', index=False)"
   ]
  },
  {
   "cell_type": "code",
   "execution_count": null,
   "metadata": {},
   "outputs": [],
   "source": [
    "# Opcion de exportar csv de gran tamanio cambiando switch a True (solo con carpeta ignore)\n",
    "switch = False\n",
    "if switch:\n",
    "    Score.to_csv('ignore/score.csv', index=False) \n",
    "# Da un archivo de 300Mb"
   ]
  },
  {
   "cell_type": "code",
   "execution_count": null,
   "metadata": {},
   "outputs": [],
   "source": [
    "# S.to_csv('data/score_mean.csv', index=False)"
   ]
  },
  {
   "cell_type": "code",
   "execution_count": null,
   "metadata": {},
   "outputs": [],
   "source": [
    "# Convierte score.csv en score.parquet para reducir el tamanio del archivo\n",
    "# Score = pd.read_csv('ignore/score.csv')\n",
    "Score.to_parquet('data/score.parquet')"
   ]
  }
 ],
 "metadata": {
  "kernelspec": {
   "display_name": "Python 3",
   "language": "python",
   "name": "python3"
  },
  "language_info": {
   "codemirror_mode": {
    "name": "ipython",
    "version": 3
   },
   "file_extension": ".py",
   "mimetype": "text/x-python",
   "name": "python",
   "nbconvert_exporter": "python",
   "pygments_lexer": "ipython3",
   "version": "3.10.10"
  },
  "orig_nbformat": 4
 },
 "nbformat": 4,
 "nbformat_minor": 2
}
