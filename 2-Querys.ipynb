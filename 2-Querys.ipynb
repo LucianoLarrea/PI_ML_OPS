{
 "cells": [
  {
   "attachments": {},
   "cell_type": "markdown",
   "metadata": {},
   "source": [
    "## Descripcion"
   ]
  },
  {
   "attachments": {},
   "cell_type": "markdown",
   "metadata": {},
   "source": [
    "## Load Data"
   ]
  },
  {
   "cell_type": "code",
   "execution_count": 29,
   "metadata": {},
   "outputs": [],
   "source": [
    "import pandas as pd"
   ]
  },
  {
   "cell_type": "code",
   "execution_count": 30,
   "metadata": {},
   "outputs": [],
   "source": [
    "# Tratar luego con score.parquet\n",
    "Score = pd.read_csv('ignore/score.csv')"
   ]
  },
  {
   "cell_type": "code",
   "execution_count": 31,
   "metadata": {},
   "outputs": [
    {
     "data": {
      "text/html": [
       "<div>\n",
       "<style scoped>\n",
       "    .dataframe tbody tr th:only-of-type {\n",
       "        vertical-align: middle;\n",
       "    }\n",
       "\n",
       "    .dataframe tbody tr th {\n",
       "        vertical-align: top;\n",
       "    }\n",
       "\n",
       "    .dataframe thead th {\n",
       "        text-align: right;\n",
       "    }\n",
       "</style>\n",
       "<table border=\"1\" class=\"dataframe\">\n",
       "  <thead>\n",
       "    <tr style=\"text-align: right;\">\n",
       "      <th></th>\n",
       "      <th>userId</th>\n",
       "      <th>score</th>\n",
       "      <th>movieId</th>\n",
       "      <th>year</th>\n",
       "      <th>platform</th>\n",
       "    </tr>\n",
       "  </thead>\n",
       "  <tbody>\n",
       "    <tr>\n",
       "      <th>0</th>\n",
       "      <td>1</td>\n",
       "      <td>1</td>\n",
       "      <td>as680</td>\n",
       "      <td>2015</td>\n",
       "      <td>amazon</td>\n",
       "    </tr>\n",
       "    <tr>\n",
       "      <th>1</th>\n",
       "      <td>1</td>\n",
       "      <td>4</td>\n",
       "      <td>ns2186</td>\n",
       "      <td>2015</td>\n",
       "      <td>netflix</td>\n",
       "    </tr>\n",
       "    <tr>\n",
       "      <th>2</th>\n",
       "      <td>1</td>\n",
       "      <td>5</td>\n",
       "      <td>hs2381</td>\n",
       "      <td>2015</td>\n",
       "      <td>hulu</td>\n",
       "    </tr>\n",
       "    <tr>\n",
       "      <th>3</th>\n",
       "      <td>1</td>\n",
       "      <td>5</td>\n",
       "      <td>ns3663</td>\n",
       "      <td>2015</td>\n",
       "      <td>netflix</td>\n",
       "    </tr>\n",
       "    <tr>\n",
       "      <th>4</th>\n",
       "      <td>1</td>\n",
       "      <td>5</td>\n",
       "      <td>as9500</td>\n",
       "      <td>2015</td>\n",
       "      <td>amazon</td>\n",
       "    </tr>\n",
       "  </tbody>\n",
       "</table>\n",
       "</div>"
      ],
      "text/plain": [
       "   userId  score movieId  year platform\n",
       "0       1      1   as680  2015   amazon\n",
       "1       1      4  ns2186  2015  netflix\n",
       "2       1      5  hs2381  2015     hulu\n",
       "3       1      5  ns3663  2015  netflix\n",
       "4       1      5  as9500  2015   amazon"
      ]
     },
     "execution_count": 31,
     "metadata": {},
     "output_type": "execute_result"
    }
   ],
   "source": [
    "Score.head(5)"
   ]
  },
  {
   "cell_type": "code",
   "execution_count": 32,
   "metadata": {},
   "outputs": [
    {
     "name": "stdout",
     "output_type": "stream",
     "text": [
      "All platforms\n",
      "Duplicates: False\n",
      "Files, Columns: (22998, 13)\n",
      "id                   0\n",
      "platform             0\n",
      "type                 0\n",
      "title                0\n",
      "director          8259\n",
      "cast              5321\n",
      "country          11499\n",
      "date_added        9554\n",
      "release_year         0\n",
      "duration_int         0\n",
      "duration_type      482\n",
      "listed_in            0\n",
      "description          4\n",
      "dtype: int64\n"
     ]
    },
    {
     "data": {
      "text/html": [
       "<div>\n",
       "<style scoped>\n",
       "    .dataframe tbody tr th:only-of-type {\n",
       "        vertical-align: middle;\n",
       "    }\n",
       "\n",
       "    .dataframe tbody tr th {\n",
       "        vertical-align: top;\n",
       "    }\n",
       "\n",
       "    .dataframe thead th {\n",
       "        text-align: right;\n",
       "    }\n",
       "</style>\n",
       "<table border=\"1\" class=\"dataframe\">\n",
       "  <thead>\n",
       "    <tr style=\"text-align: right;\">\n",
       "      <th></th>\n",
       "      <th>id</th>\n",
       "      <th>platform</th>\n",
       "      <th>type</th>\n",
       "      <th>title</th>\n",
       "      <th>director</th>\n",
       "      <th>cast</th>\n",
       "      <th>country</th>\n",
       "      <th>date_added</th>\n",
       "      <th>release_year</th>\n",
       "      <th>duration_int</th>\n",
       "      <th>duration_type</th>\n",
       "      <th>listed_in</th>\n",
       "      <th>description</th>\n",
       "    </tr>\n",
       "  </thead>\n",
       "  <tbody>\n",
       "    <tr>\n",
       "      <th>0</th>\n",
       "      <td>as1</td>\n",
       "      <td>amazon</td>\n",
       "      <td>movie</td>\n",
       "      <td>the grand seduction</td>\n",
       "      <td>don mckellar</td>\n",
       "      <td>brendan gleeson, taylor kitsch, gordon pinsent</td>\n",
       "      <td>canada</td>\n",
       "      <td>2021-03-30</td>\n",
       "      <td>2014</td>\n",
       "      <td>113</td>\n",
       "      <td>min</td>\n",
       "      <td>comedy, drama</td>\n",
       "      <td>a small fishing village must procure a local d...</td>\n",
       "    </tr>\n",
       "    <tr>\n",
       "      <th>1</th>\n",
       "      <td>as2</td>\n",
       "      <td>amazon</td>\n",
       "      <td>movie</td>\n",
       "      <td>take care good night</td>\n",
       "      <td>girish joshi</td>\n",
       "      <td>mahesh manjrekar, abhay mahajan, sachin khedekar</td>\n",
       "      <td>india</td>\n",
       "      <td>2021-03-30</td>\n",
       "      <td>2018</td>\n",
       "      <td>110</td>\n",
       "      <td>min</td>\n",
       "      <td>drama, international</td>\n",
       "      <td>a metro family decides to fight a cyber crimin...</td>\n",
       "    </tr>\n",
       "    <tr>\n",
       "      <th>2</th>\n",
       "      <td>as3</td>\n",
       "      <td>amazon</td>\n",
       "      <td>movie</td>\n",
       "      <td>secrets of deception</td>\n",
       "      <td>josh webber</td>\n",
       "      <td>tom sizemore, lorenzo lamas, robert lasardo, r...</td>\n",
       "      <td>united states</td>\n",
       "      <td>2021-03-30</td>\n",
       "      <td>2017</td>\n",
       "      <td>74</td>\n",
       "      <td>min</td>\n",
       "      <td>action, drama, suspense</td>\n",
       "      <td>after a man discovers his wife is cheating on ...</td>\n",
       "    </tr>\n",
       "    <tr>\n",
       "      <th>3</th>\n",
       "      <td>as4</td>\n",
       "      <td>amazon</td>\n",
       "      <td>movie</td>\n",
       "      <td>pink: staying true</td>\n",
       "      <td>sonia anderson</td>\n",
       "      <td>interviews with: pink, adele, beyoncé, britney...</td>\n",
       "      <td>united states</td>\n",
       "      <td>2021-03-30</td>\n",
       "      <td>2014</td>\n",
       "      <td>69</td>\n",
       "      <td>min</td>\n",
       "      <td>documentary</td>\n",
       "      <td>pink breaks the mold once again, bringing her ...</td>\n",
       "    </tr>\n",
       "    <tr>\n",
       "      <th>4</th>\n",
       "      <td>as5</td>\n",
       "      <td>amazon</td>\n",
       "      <td>movie</td>\n",
       "      <td>monster maker</td>\n",
       "      <td>giles foster</td>\n",
       "      <td>harry dean stanton, kieran o'brien, george cos...</td>\n",
       "      <td>united kingdom</td>\n",
       "      <td>2021-03-30</td>\n",
       "      <td>1989</td>\n",
       "      <td>45</td>\n",
       "      <td>min</td>\n",
       "      <td>drama, fantasy</td>\n",
       "      <td>teenage matt banting wants to work with a famo...</td>\n",
       "    </tr>\n",
       "    <tr>\n",
       "      <th>...</th>\n",
       "      <td>...</td>\n",
       "      <td>...</td>\n",
       "      <td>...</td>\n",
       "      <td>...</td>\n",
       "      <td>...</td>\n",
       "      <td>...</td>\n",
       "      <td>...</td>\n",
       "      <td>...</td>\n",
       "      <td>...</td>\n",
       "      <td>...</td>\n",
       "      <td>...</td>\n",
       "      <td>...</td>\n",
       "      <td>...</td>\n",
       "    </tr>\n",
       "    <tr>\n",
       "      <th>22993</th>\n",
       "      <td>ns8803</td>\n",
       "      <td>netflix</td>\n",
       "      <td>movie</td>\n",
       "      <td>zodiac</td>\n",
       "      <td>david fincher</td>\n",
       "      <td>mark ruffalo, jake gyllenhaal, robert downey j...</td>\n",
       "      <td>united states</td>\n",
       "      <td>2019-11-20</td>\n",
       "      <td>2007</td>\n",
       "      <td>158</td>\n",
       "      <td>min</td>\n",
       "      <td>cult movies, dramas, thrillers</td>\n",
       "      <td>a political cartoonist, a crime reporter and a...</td>\n",
       "    </tr>\n",
       "    <tr>\n",
       "      <th>22994</th>\n",
       "      <td>ns8804</td>\n",
       "      <td>netflix</td>\n",
       "      <td>tv show</td>\n",
       "      <td>zombie dumb</td>\n",
       "      <td>NaN</td>\n",
       "      <td>NaN</td>\n",
       "      <td>NaN</td>\n",
       "      <td>2019-07-01</td>\n",
       "      <td>2018</td>\n",
       "      <td>2</td>\n",
       "      <td>season</td>\n",
       "      <td>kids' tv, korean tv shows, tv comedies</td>\n",
       "      <td>while living alone in a spooky town, a young g...</td>\n",
       "    </tr>\n",
       "    <tr>\n",
       "      <th>22995</th>\n",
       "      <td>ns8805</td>\n",
       "      <td>netflix</td>\n",
       "      <td>movie</td>\n",
       "      <td>zombieland</td>\n",
       "      <td>ruben fleischer</td>\n",
       "      <td>jesse eisenberg, woody harrelson, emma stone, ...</td>\n",
       "      <td>united states</td>\n",
       "      <td>2019-11-01</td>\n",
       "      <td>2009</td>\n",
       "      <td>88</td>\n",
       "      <td>min</td>\n",
       "      <td>comedies, horror movies</td>\n",
       "      <td>looking to survive in a world taken over by zo...</td>\n",
       "    </tr>\n",
       "    <tr>\n",
       "      <th>22996</th>\n",
       "      <td>ns8806</td>\n",
       "      <td>netflix</td>\n",
       "      <td>movie</td>\n",
       "      <td>zoom</td>\n",
       "      <td>peter hewitt</td>\n",
       "      <td>tim allen, courteney cox, chevy chase, kate ma...</td>\n",
       "      <td>united states</td>\n",
       "      <td>2020-01-11</td>\n",
       "      <td>2006</td>\n",
       "      <td>88</td>\n",
       "      <td>min</td>\n",
       "      <td>children &amp; family movies, comedies</td>\n",
       "      <td>dragged from civilian life, a former superhero...</td>\n",
       "    </tr>\n",
       "    <tr>\n",
       "      <th>22997</th>\n",
       "      <td>ns8807</td>\n",
       "      <td>netflix</td>\n",
       "      <td>movie</td>\n",
       "      <td>zubaan</td>\n",
       "      <td>mozez singh</td>\n",
       "      <td>vicky kaushal, sarah-jane dias, raaghav chanan...</td>\n",
       "      <td>india</td>\n",
       "      <td>2019-03-02</td>\n",
       "      <td>2015</td>\n",
       "      <td>111</td>\n",
       "      <td>min</td>\n",
       "      <td>dramas, international movies, music &amp; musicals</td>\n",
       "      <td>a scrappy but poor boy worms his way into a ty...</td>\n",
       "    </tr>\n",
       "  </tbody>\n",
       "</table>\n",
       "<p>22998 rows × 13 columns</p>\n",
       "</div>"
      ],
      "text/plain": [
       "           id platform     type                 title         director  \\\n",
       "0         as1   amazon    movie   the grand seduction     don mckellar   \n",
       "1         as2   amazon    movie  take care good night     girish joshi   \n",
       "2         as3   amazon    movie  secrets of deception      josh webber   \n",
       "3         as4   amazon    movie    pink: staying true   sonia anderson   \n",
       "4         as5   amazon    movie         monster maker     giles foster   \n",
       "...       ...      ...      ...                   ...              ...   \n",
       "22993  ns8803  netflix    movie                zodiac    david fincher   \n",
       "22994  ns8804  netflix  tv show           zombie dumb              NaN   \n",
       "22995  ns8805  netflix    movie            zombieland  ruben fleischer   \n",
       "22996  ns8806  netflix    movie                  zoom     peter hewitt   \n",
       "22997  ns8807  netflix    movie                zubaan      mozez singh   \n",
       "\n",
       "                                                    cast         country  \\\n",
       "0         brendan gleeson, taylor kitsch, gordon pinsent          canada   \n",
       "1       mahesh manjrekar, abhay mahajan, sachin khedekar           india   \n",
       "2      tom sizemore, lorenzo lamas, robert lasardo, r...   united states   \n",
       "3      interviews with: pink, adele, beyoncé, britney...   united states   \n",
       "4      harry dean stanton, kieran o'brien, george cos...  united kingdom   \n",
       "...                                                  ...             ...   \n",
       "22993  mark ruffalo, jake gyllenhaal, robert downey j...   united states   \n",
       "22994                                                NaN             NaN   \n",
       "22995  jesse eisenberg, woody harrelson, emma stone, ...   united states   \n",
       "22996  tim allen, courteney cox, chevy chase, kate ma...   united states   \n",
       "22997  vicky kaushal, sarah-jane dias, raaghav chanan...           india   \n",
       "\n",
       "       date_added  release_year  duration_int duration_type  \\\n",
       "0      2021-03-30          2014           113           min   \n",
       "1      2021-03-30          2018           110           min   \n",
       "2      2021-03-30          2017            74           min   \n",
       "3      2021-03-30          2014            69           min   \n",
       "4      2021-03-30          1989            45           min   \n",
       "...           ...           ...           ...           ...   \n",
       "22993  2019-11-20          2007           158           min   \n",
       "22994  2019-07-01          2018             2        season   \n",
       "22995  2019-11-01          2009            88           min   \n",
       "22996  2020-01-11          2006            88           min   \n",
       "22997  2019-03-02          2015           111           min   \n",
       "\n",
       "                                            listed_in  \\\n",
       "0                                       comedy, drama   \n",
       "1                                drama, international   \n",
       "2                             action, drama, suspense   \n",
       "3                                         documentary   \n",
       "4                                      drama, fantasy   \n",
       "...                                               ...   \n",
       "22993                  cult movies, dramas, thrillers   \n",
       "22994          kids' tv, korean tv shows, tv comedies   \n",
       "22995                         comedies, horror movies   \n",
       "22996              children & family movies, comedies   \n",
       "22997  dramas, international movies, music & musicals   \n",
       "\n",
       "                                             description  \n",
       "0      a small fishing village must procure a local d...  \n",
       "1      a metro family decides to fight a cyber crimin...  \n",
       "2      after a man discovers his wife is cheating on ...  \n",
       "3      pink breaks the mold once again, bringing her ...  \n",
       "4      teenage matt banting wants to work with a famo...  \n",
       "...                                                  ...  \n",
       "22993  a political cartoonist, a crime reporter and a...  \n",
       "22994  while living alone in a spooky town, a young g...  \n",
       "22995  looking to survive in a world taken over by zo...  \n",
       "22996  dragged from civilian life, a former superhero...  \n",
       "22997  a scrappy but poor boy worms his way into a ty...  \n",
       "\n",
       "[22998 rows x 13 columns]"
      ]
     },
     "execution_count": 32,
     "metadata": {},
     "output_type": "execute_result"
    }
   ],
   "source": [
    "All = pd.read_csv(\"data/all.csv\")\n",
    "print('All platforms')\n",
    "print('Duplicates:',All.duplicated().any())\n",
    "print('Files, Columns:',All.shape)\n",
    "print(All.isnull().sum())\n",
    "All"
   ]
  },
  {
   "attachments": {},
   "cell_type": "markdown",
   "metadata": {},
   "source": [
    "## Queries"
   ]
  },
  {
   "cell_type": "code",
   "execution_count": 75,
   "metadata": {},
   "outputs": [],
   "source": [
    "# Variables que tomarán el valor de los parámetros de filtro de las queries.\n",
    "platform = 'amazon'\n",
    "type = 'movie'\n",
    "rating = 3.5\n",
    "year = 2014\n",
    "duration_type = 'min'\n",
    "# actor = 'gleeson'"
   ]
  },
  {
   "cell_type": "code",
   "execution_count": 71,
   "metadata": {},
   "outputs": [
    {
     "data": {
      "text/plain": [
       "'midnight thunderstorm for sleep 9 hours'"
      ]
     },
     "execution_count": 71,
     "metadata": {},
     "output_type": "execute_result"
    }
   ],
   "source": [
    "# Película con mayor duración con filtros opcionales de AÑO, PLATAFORMA Y TIPO DE DURACIÓN. \n",
    "# (la función debe llamarse get_max_duration(year, platform, duration_type))\n",
    "Q1 = All[(All['platform'] == platform) & (All['release_year'] == year) & (All['duration_type'] == duration_type)].sort_values(by = 'duration_int' , ascending=False)\n",
    "Q1['title'].values[0]\n",
    "# Q1['title'].iloc(0)\n",
    "# Q1['title'][0]"
   ]
  },
  {
   "cell_type": "code",
   "execution_count": 83,
   "metadata": {},
   "outputs": [
    {
     "data": {
      "text/plain": [
       "'midnight thunderstorm for sleep 9 hours'"
      ]
     },
     "execution_count": 83,
     "metadata": {},
     "output_type": "execute_result"
    }
   ],
   "source": [
    "# Devuelve: El título del juego con la duración máxima (str)\n",
    "\n",
    "def get_max_duration(year:int, platform:str, duration_type:str): \n",
    "    All = pd.read_csv(\"data/all.csv\")\n",
    "    Q1 = All[(All['platform'] == platform) & (All['release_year'] == year) & (All['duration_type'] == duration_type)].sort_values(by = 'duration_int' , ascending=False)\n",
    "    max_duration_title = Q1['title'].values[0]\n",
    "    return max_duration_title\n",
    "get_max_duration(year, platform, duration_type)"
   ]
  },
  {
   "cell_type": "code",
   "execution_count": 82,
   "metadata": {},
   "outputs": [
    {
     "data": {
      "text/plain": [
       "'midnight thunderstorm for sleep 9 hours'"
      ]
     },
     "execution_count": 82,
     "metadata": {},
     "output_type": "execute_result"
    }
   ],
   "source": []
  },
  {
   "cell_type": "code",
   "execution_count": 74,
   "metadata": {},
   "outputs": [
    {
     "data": {
      "text/html": [
       "<div>\n",
       "<style scoped>\n",
       "    .dataframe tbody tr th:only-of-type {\n",
       "        vertical-align: middle;\n",
       "    }\n",
       "\n",
       "    .dataframe tbody tr th {\n",
       "        vertical-align: top;\n",
       "    }\n",
       "\n",
       "    .dataframe thead th {\n",
       "        text-align: right;\n",
       "    }\n",
       "</style>\n",
       "<table border=\"1\" class=\"dataframe\">\n",
       "  <thead>\n",
       "    <tr style=\"text-align: right;\">\n",
       "      <th></th>\n",
       "      <th>id</th>\n",
       "      <th>platform</th>\n",
       "      <th>type</th>\n",
       "      <th>title</th>\n",
       "      <th>director</th>\n",
       "      <th>cast</th>\n",
       "      <th>country</th>\n",
       "      <th>date_added</th>\n",
       "      <th>release_year</th>\n",
       "      <th>duration_int</th>\n",
       "      <th>duration_type</th>\n",
       "      <th>listed_in</th>\n",
       "      <th>description</th>\n",
       "    </tr>\n",
       "  </thead>\n",
       "  <tbody>\n",
       "    <tr>\n",
       "      <th>1673</th>\n",
       "      <td>as1674</td>\n",
       "      <td>amazon</td>\n",
       "      <td>movie</td>\n",
       "      <td>midnight thunderstorm for sleep 9 hours</td>\n",
       "      <td>mark knight</td>\n",
       "      <td>NaN</td>\n",
       "      <td>NaN</td>\n",
       "      <td>NaN</td>\n",
       "      <td>2014</td>\n",
       "      <td>541</td>\n",
       "      <td>min</td>\n",
       "      <td>special interest</td>\n",
       "      <td>our most popular ambient sleep video is a full...</td>\n",
       "    </tr>\n",
       "    <tr>\n",
       "      <th>4880</th>\n",
       "      <td>as4881</td>\n",
       "      <td>amazon</td>\n",
       "      <td>movie</td>\n",
       "      <td>killing eva braun</td>\n",
       "      <td>michael andres</td>\n",
       "      <td>tracy baumbach, james maher, chadwick baumbach</td>\n",
       "      <td>NaN</td>\n",
       "      <td>NaN</td>\n",
       "      <td>2014</td>\n",
       "      <td>170</td>\n",
       "      <td>min</td>\n",
       "      <td>drama, historical</td>\n",
       "      <td>director michael andres' third film: a bibliop...</td>\n",
       "    </tr>\n",
       "    <tr>\n",
       "      <th>4403</th>\n",
       "      <td>as4404</td>\n",
       "      <td>amazon</td>\n",
       "      <td>movie</td>\n",
       "      <td>aalo chhaya</td>\n",
       "      <td>anasuya samanta</td>\n",
       "      <td>riya, riwk, soumitra chatterjee, anamika saha,...</td>\n",
       "      <td>NaN</td>\n",
       "      <td>NaN</td>\n",
       "      <td>2014</td>\n",
       "      <td>154</td>\n",
       "      <td>min</td>\n",
       "      <td>romance</td>\n",
       "      <td>aranya and his friends set out on an adventuro...</td>\n",
       "    </tr>\n",
       "    <tr>\n",
       "      <th>4422</th>\n",
       "      <td>as4423</td>\n",
       "      <td>amazon</td>\n",
       "      <td>movie</td>\n",
       "      <td>ami sudhu cheyechhi tomay</td>\n",
       "      <td>ashok pati</td>\n",
       "      <td>ankush hazra, subhashree ganguly</td>\n",
       "      <td>NaN</td>\n",
       "      <td>NaN</td>\n",
       "      <td>2014</td>\n",
       "      <td>151</td>\n",
       "      <td>min</td>\n",
       "      <td>romance</td>\n",
       "      <td>abhi, son of a rich business man loves bhoomik...</td>\n",
       "    </tr>\n",
       "    <tr>\n",
       "      <th>7236</th>\n",
       "      <td>as7237</td>\n",
       "      <td>amazon</td>\n",
       "      <td>movie</td>\n",
       "      <td>cuckoo</td>\n",
       "      <td>raju murugan</td>\n",
       "      <td>dinesh ravi, malavika nair, aadukalam murugado...</td>\n",
       "      <td>NaN</td>\n",
       "      <td>NaN</td>\n",
       "      <td>2014</td>\n",
       "      <td>149</td>\n",
       "      <td>min</td>\n",
       "      <td>romance</td>\n",
       "      <td>tamizh and kodi, a visually impaired couple, u...</td>\n",
       "    </tr>\n",
       "    <tr>\n",
       "      <th>...</th>\n",
       "      <td>...</td>\n",
       "      <td>...</td>\n",
       "      <td>...</td>\n",
       "      <td>...</td>\n",
       "      <td>...</td>\n",
       "      <td>...</td>\n",
       "      <td>...</td>\n",
       "      <td>...</td>\n",
       "      <td>...</td>\n",
       "      <td>...</td>\n",
       "      <td>...</td>\n",
       "      <td>...</td>\n",
       "      <td>...</td>\n",
       "    </tr>\n",
       "    <tr>\n",
       "      <th>2751</th>\n",
       "      <td>as2752</td>\n",
       "      <td>amazon</td>\n",
       "      <td>movie</td>\n",
       "      <td>cso_testcase_32</td>\n",
       "      <td>ollie bartlett</td>\n",
       "      <td>annie lennox, alfie boe, imelda may, laura wri...</td>\n",
       "      <td>NaN</td>\n",
       "      <td>NaN</td>\n",
       "      <td>2014</td>\n",
       "      <td>10</td>\n",
       "      <td>min</td>\n",
       "      <td>music videos and concerts</td>\n",
       "      <td>exclusive to amazon instant video and the firs...</td>\n",
       "    </tr>\n",
       "    <tr>\n",
       "      <th>3444</th>\n",
       "      <td>as3445</td>\n",
       "      <td>amazon</td>\n",
       "      <td>movie</td>\n",
       "      <td>9-minute yoga: guided meditation &amp; visualization</td>\n",
       "      <td>mark knight</td>\n",
       "      <td>anne-marie newland</td>\n",
       "      <td>NaN</td>\n",
       "      <td>NaN</td>\n",
       "      <td>2014</td>\n",
       "      <td>10</td>\n",
       "      <td>min</td>\n",
       "      <td>special interest</td>\n",
       "      <td>three sessions designed to help reduce stress,...</td>\n",
       "    </tr>\n",
       "    <tr>\n",
       "      <th>2358</th>\n",
       "      <td>as2359</td>\n",
       "      <td>amazon</td>\n",
       "      <td>movie</td>\n",
       "      <td>ghost hour</td>\n",
       "      <td>nils skapāns</td>\n",
       "      <td>NaN</td>\n",
       "      <td>NaN</td>\n",
       "      <td>NaN</td>\n",
       "      <td>2014</td>\n",
       "      <td>7</td>\n",
       "      <td>min</td>\n",
       "      <td>kids</td>\n",
       "      <td>just like every other night, the ghost goes ou...</td>\n",
       "    </tr>\n",
       "    <tr>\n",
       "      <th>3645</th>\n",
       "      <td>as3646</td>\n",
       "      <td>amazon</td>\n",
       "      <td>movie</td>\n",
       "      <td>conference call</td>\n",
       "      <td>john karas</td>\n",
       "      <td>john karas</td>\n",
       "      <td>NaN</td>\n",
       "      <td>NaN</td>\n",
       "      <td>2014</td>\n",
       "      <td>4</td>\n",
       "      <td>min</td>\n",
       "      <td>comedy</td>\n",
       "      <td>an it ant-worker in a small solitary office is...</td>\n",
       "    </tr>\n",
       "    <tr>\n",
       "      <th>1623</th>\n",
       "      <td>as1624</td>\n",
       "      <td>amazon</td>\n",
       "      <td>movie</td>\n",
       "      <td>monster truck counting for kids</td>\n",
       "      <td>les anas</td>\n",
       "      <td>grandpa uppet, professor clunk</td>\n",
       "      <td>NaN</td>\n",
       "      <td>NaN</td>\n",
       "      <td>2014</td>\n",
       "      <td>3</td>\n",
       "      <td>min</td>\n",
       "      <td>kids</td>\n",
       "      <td>monster truck count from one to ten. count to ...</td>\n",
       "    </tr>\n",
       "  </tbody>\n",
       "</table>\n",
       "<p>295 rows × 13 columns</p>\n",
       "</div>"
      ],
      "text/plain": [
       "          id platform   type  \\\n",
       "1673  as1674   amazon  movie   \n",
       "4880  as4881   amazon  movie   \n",
       "4403  as4404   amazon  movie   \n",
       "4422  as4423   amazon  movie   \n",
       "7236  as7237   amazon  movie   \n",
       "...      ...      ...    ...   \n",
       "2751  as2752   amazon  movie   \n",
       "3444  as3445   amazon  movie   \n",
       "2358  as2359   amazon  movie   \n",
       "3645  as3646   amazon  movie   \n",
       "1623  as1624   amazon  movie   \n",
       "\n",
       "                                                 title         director  \\\n",
       "1673           midnight thunderstorm for sleep 9 hours      mark knight   \n",
       "4880                                 killing eva braun   michael andres   \n",
       "4403                                       aalo chhaya  anasuya samanta   \n",
       "4422                         ami sudhu cheyechhi tomay       ashok pati   \n",
       "7236                                            cuckoo     raju murugan   \n",
       "...                                                ...              ...   \n",
       "2751                                   cso_testcase_32   ollie bartlett   \n",
       "3444  9-minute yoga: guided meditation & visualization      mark knight   \n",
       "2358                                        ghost hour     nils skapāns   \n",
       "3645                                   conference call       john karas   \n",
       "1623                   monster truck counting for kids         les anas   \n",
       "\n",
       "                                                   cast country date_added  \\\n",
       "1673                                                NaN     NaN        NaN   \n",
       "4880     tracy baumbach, james maher, chadwick baumbach     NaN        NaN   \n",
       "4403  riya, riwk, soumitra chatterjee, anamika saha,...     NaN        NaN   \n",
       "4422                   ankush hazra, subhashree ganguly     NaN        NaN   \n",
       "7236  dinesh ravi, malavika nair, aadukalam murugado...     NaN        NaN   \n",
       "...                                                 ...     ...        ...   \n",
       "2751  annie lennox, alfie boe, imelda may, laura wri...     NaN        NaN   \n",
       "3444                                 anne-marie newland     NaN        NaN   \n",
       "2358                                                NaN     NaN        NaN   \n",
       "3645                                         john karas     NaN        NaN   \n",
       "1623                     grandpa uppet, professor clunk     NaN        NaN   \n",
       "\n",
       "      release_year  duration_int duration_type                  listed_in  \\\n",
       "1673          2014           541           min           special interest   \n",
       "4880          2014           170           min          drama, historical   \n",
       "4403          2014           154           min                    romance   \n",
       "4422          2014           151           min                    romance   \n",
       "7236          2014           149           min                    romance   \n",
       "...            ...           ...           ...                        ...   \n",
       "2751          2014            10           min  music videos and concerts   \n",
       "3444          2014            10           min           special interest   \n",
       "2358          2014             7           min                       kids   \n",
       "3645          2014             4           min                     comedy   \n",
       "1623          2014             3           min                       kids   \n",
       "\n",
       "                                            description  \n",
       "1673  our most popular ambient sleep video is a full...  \n",
       "4880  director michael andres' third film: a bibliop...  \n",
       "4403  aranya and his friends set out on an adventuro...  \n",
       "4422  abhi, son of a rich business man loves bhoomik...  \n",
       "7236  tamizh and kodi, a visually impaired couple, u...  \n",
       "...                                                 ...  \n",
       "2751  exclusive to amazon instant video and the firs...  \n",
       "3444  three sessions designed to help reduce stress,...  \n",
       "2358  just like every other night, the ghost goes ou...  \n",
       "3645  an it ant-worker in a small solitary office is...  \n",
       "1623  monster truck count from one to ten. count to ...  \n",
       "\n",
       "[295 rows x 13 columns]"
      ]
     },
     "execution_count": 74,
     "metadata": {},
     "output_type": "execute_result"
    }
   ],
   "source": [
    "Q1"
   ]
  },
  {
   "cell_type": "code",
   "execution_count": 65,
   "metadata": {},
   "outputs": [
    {
     "data": {
      "text/plain": [
       "193"
      ]
     },
     "execution_count": 65,
     "metadata": {},
     "output_type": "execute_result"
    }
   ],
   "source": [
    "# Cantidad de películas por plataforma con un puntaje mayor a XX en determinado año \n",
    "# (la función debe llamarse get_score_count(platform, scored, year))\n",
    "# Score[(Score['platform'] == platform) & (Score['score'] >= rating) & (Score['year'] == year)].shape[0]\n",
    "# Unificar promedio de score antes de aplicar este filtro\n",
    "Score[(Score['platform'] == platform) & (Score['score'] >= rating) & (All['release_year'] == year)].shape[0]"
   ]
  },
  {
   "cell_type": "code",
   "execution_count": 63,
   "metadata": {},
   "outputs": [
    {
     "data": {
      "text/plain": [
       "9668"
      ]
     },
     "execution_count": 63,
     "metadata": {},
     "output_type": "execute_result"
    }
   ],
   "source": [
    "# Cantidad de películas por plataforma con filtro de PLATAFORMA. (La función debe llamarse get_count_platform(platform))\n",
    "def get_count_platform(platform:str):\n",
    "    All = pd.read_csv(\"data/all.csv\")\n",
    "    All = All.loc[All['platform'] == platform]\n",
    "    movies_platform = len(All.index)\n",
    "    return movies_platform\n",
    "\n",
    "get_count_platform(platform)\n"
   ]
  },
  {
   "cell_type": "code",
   "execution_count": 67,
   "metadata": {},
   "outputs": [
    {
     "data": {
      "text/plain": [
       "{'actor': 'anne-marie newland', 'appearances': 5}"
      ]
     },
     "execution_count": 67,
     "metadata": {},
     "output_type": "execute_result"
    }
   ],
   "source": [
    "# Actor que más se repite según plataforma y año. (La función debe llamarse get_actor(platform, year))\n",
    "Q4_1 = All[(All['platform'] == platform) & (All['release_year'] == year)]   # Filtra por plataforma y anio\n",
    "Q4_2 = Q4_1.assign(actor=Q4_1.cast.str.split(',')).explode('cast')          # Divide 'cast', crea y cuenta una fila por cada elemento.\n",
    "Q4_3 = Q4_2.cast.value_counts()                                             \n",
    "\n",
    "max_actor = Q4_3.index[0]                                                   # Obtiene el actor con más apariciones y número de apariciones\n",
    "max_count = int(Q4_3.iloc[0])\n",
    "Q4 = dict({'actor': max_actor, 'appearances': max_count})\n",
    "Q4"
   ]
  },
  {
   "cell_type": "code",
   "execution_count": 4,
   "metadata": {},
   "outputs": [],
   "source": [
    "# import pandas as pd\n",
    "# from pandasql import sqldf\n",
    "# def get_longest(plataforma: str, duration_type: str, ano: int):\n",
    "#     #Lectura de la base de datos:\n",
    "#     df = pd.read_csv(\"data/all.csv\")\n",
    "\n",
    "#     #Defino las plataformas:\n",
    "#     if plataforma == \"amazon\":\n",
    "#         plat = \"a%\"\n",
    "#     elif plataforma == \"disney\":\n",
    "#         plat = \"d%\"\n",
    "#     elif plataforma == \"hulu\":\n",
    "#         plat = \"h%\"\n",
    "#     elif plataforma == \"netflix\":\n",
    "#         plat = \"n%\"\n",
    "#     else:\n",
    "#         return (\"Plataforma incorrecta. Las opciones son: amazon, disney, hulu, netflix. Recuerde escribir todo en minúsculas.\")\n",
    "    \n",
    "#     #QUERY:\n",
    "#     query = f\"SELECT title, release_year, duration_int, duration_type FROM df WHERE id like '{plat}' and release_year='{ano}' and duration_type='{duration_type}' ORDER BY duration_int DESC LIMIT 1\"\n",
    "#     #Se guarda el resultado en una nueva variable, dándole el formato sql:\n",
    "#     result = sqldf(query)\n",
    "    \n",
    "    #Se verifica el contenido de la variable \"result\". En caso de no estar vacío:\n",
    "    if not result.iloc[0,0] == 0:\n",
    "        return result.to_dict() #retorna los datos solicitados en la consulta, como un diccionario.\n",
    "    #Si la variable no tiene contenido:\n",
    "    else:\n",
    "        return (\"No se han encontrado peliculas.\")"
   ]
  },
  {
   "cell_type": "code",
   "execution_count": 48,
   "metadata": {},
   "outputs": [],
   "source": [
    "# Película con mayor duración con filtros opcionales de AÑO, PLATAFORMA Y TIPO DE DURACIÓN. \n",
    "# (la función debe llamarse get_max_duration(year, platform, duration_type))\n",
    "def get_max_duration(year:int, platform:str, duration_type:str): \n",
    "    All = pd.read_csv(\"data/all.csv\")\n",
    "    # Aplicar filtros opcionales\n",
    "    if year is not None:\n",
    "        All = All.loc[All['release_year'] == year]\n",
    "    if platform is not None:\n",
    "        All = All.loc[All['platform'] == platform]\n",
    "    if duration_type is not None:\n",
    "        All = All.loc[All['duration_type'] == duration_type]\n",
    "\n",
    "    # Encontrar la película con mayor duración\n",
    "    max_duration = All['duration_int'].max()\n",
    "    max_duration_movie = All.loc[All['duration_int'] == max_duration, 'title'].iloc[0]\n",
    "\n",
    "    # Devolver el resultado\n",
    "    return max_duration_movie\n"
   ]
  },
  {
   "cell_type": "code",
   "execution_count": 45,
   "metadata": {},
   "outputs": [
    {
     "data": {
      "text/plain": [
       "11"
      ]
     },
     "execution_count": 45,
     "metadata": {},
     "output_type": "execute_result"
    }
   ],
   "source": [
    "All = pd.read_csv(\"data/all.csv\")\n",
    "All = All.loc[All['release_year'] == 2020]\n",
    "All = All.loc[All['platform'] == 'amazon']\n",
    "All = All.loc[All['duration_type'] == 'season']\n",
    "All['duration_int'].max()\n"
   ]
  },
  {
   "cell_type": "code",
   "execution_count": 49,
   "metadata": {},
   "outputs": [
    {
     "data": {
      "text/plain": [
       "'my kitchen rules'"
      ]
     },
     "execution_count": 49,
     "metadata": {},
     "output_type": "execute_result"
    }
   ],
   "source": [
    "year = 2020\n",
    "platform = 'amazon'\n",
    "duration_type = 'season'\n",
    "get_max_duration(year,platform,duration_type)"
   ]
  },
  {
   "cell_type": "code",
   "execution_count": 66,
   "metadata": {},
   "outputs": [],
   "source": [
    "# Cantidad de películas por plataforma con un puntaje mayor a XX en determinado año \n",
    "# (la función debe llamarse get_score_count(platform, scored, year))\n",
    "def get_score_count(platform:str, scored:int, year:int):\n",
    "    score = pd.read_csv('data/score.csv')\n",
    "    score = score.loc[score['platf'] == platform]\n",
    "    score =score.loc[score['score'] >= scored]\n",
    "    score =score.loc[score['year'] == year]\n",
    "    movies_scored = len(score.index)\n",
    "    return movies_scored     "
   ]
  },
  {
   "cell_type": "code",
   "execution_count": 67,
   "metadata": {},
   "outputs": [
    {
     "data": {
      "text/plain": [
       "142397"
      ]
     },
     "execution_count": 67,
     "metadata": {},
     "output_type": "execute_result"
    }
   ],
   "source": [
    "get_score_count('n', 3, 2007)"
   ]
  },
  {
   "cell_type": "code",
   "execution_count": 69,
   "metadata": {},
   "outputs": [
    {
     "data": {
      "text/plain": [
       "0"
      ]
     },
     "execution_count": 69,
     "metadata": {},
     "output_type": "execute_result"
    }
   ],
   "source": [
    "get_score_count('a', 1, 2020)"
   ]
  },
  {
   "cell_type": "code",
   "execution_count": 70,
   "metadata": {},
   "outputs": [],
   "source": [
    "# Cantidad de películas por plataforma con filtro de PLATAFORMA. (La función debe llamarse get_count_platform(platform))\n",
    "def get_count_platform(platform:str):\n",
    "    All = pd.read_csv(\"data/all.csv\")\n",
    "    All = All.loc[All['platform'] == platform]\n",
    "    movies_platform = len(All.index)\n",
    "    return movies_platform\n"
   ]
  },
  {
   "cell_type": "code",
   "execution_count": 74,
   "metadata": {},
   "outputs": [
    {
     "data": {
      "text/plain": [
       "1450"
      ]
     },
     "execution_count": 74,
     "metadata": {},
     "output_type": "execute_result"
    }
   ],
   "source": [
    "get_count_platform('disney')"
   ]
  },
  {
   "cell_type": "code",
   "execution_count": null,
   "metadata": {},
   "outputs": [],
   "source": [
    "# Actor que más se repite según plataforma y año. (La función debe llamarse get_actor(platform, year))\n",
    "def get_actor(platform, year):\n",
    "    All = pd.read_csv(\"data/all.csv\")\n",
    "    \n",
    "    actor = ''\n",
    "    return actor"
   ]
  },
  {
   "attachments": {},
   "cell_type": "markdown",
   "metadata": {},
   "source": [
    "## Carga"
   ]
  },
  {
   "cell_type": "code",
   "execution_count": 13,
   "metadata": {},
   "outputs": [],
   "source": [
    "All.to_csv('data/all.csv', index=False)"
   ]
  }
 ],
 "metadata": {
  "kernelspec": {
   "display_name": "Python 3",
   "language": "python",
   "name": "python3"
  },
  "language_info": {
   "codemirror_mode": {
    "name": "ipython",
    "version": 3
   },
   "file_extension": ".py",
   "mimetype": "text/x-python",
   "name": "python",
   "nbconvert_exporter": "python",
   "pygments_lexer": "ipython3",
   "version": "3.10.10"
  },
  "orig_nbformat": 4
 },
 "nbformat": 4,
 "nbformat_minor": 2
}
