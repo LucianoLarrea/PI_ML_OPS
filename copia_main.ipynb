{
 "cells": [
  {
   "cell_type": "code",
   "execution_count": 1,
   "metadata": {},
   "outputs": [],
   "source": [
    "from fastapi import FastAPI\n",
    "import pandas as pd"
   ]
  },
  {
   "cell_type": "code",
   "execution_count": 11,
   "metadata": {},
   "outputs": [],
   "source": [
    "# def startup():\n",
    "# global df\n",
    "df = pd.read_csv('data/All.csv') \n",
    "# df = pd.read_csv('df.csv', encoding='utf-8')\n"
   ]
  },
  {
   "cell_type": "code",
   "execution_count": 12,
   "metadata": {},
   "outputs": [
    {
     "ename": "KeyError",
     "evalue": "'min'",
     "output_type": "error",
     "traceback": [
      "\u001b[0;31m---------------------------------------------------------------------------\u001b[0m",
      "\u001b[0;31mKeyError\u001b[0m                                  Traceback (most recent call last)",
      "File \u001b[0;32m~/Documents/GitHub/PI_ML_OPS/venv/lib/python3.10/site-packages/pandas/core/indexes/base.py:3802\u001b[0m, in \u001b[0;36mIndex.get_loc\u001b[0;34m(self, key, method, tolerance)\u001b[0m\n\u001b[1;32m   3801\u001b[0m \u001b[39mtry\u001b[39;00m:\n\u001b[0;32m-> 3802\u001b[0m     \u001b[39mreturn\u001b[39;00m \u001b[39mself\u001b[39;49m\u001b[39m.\u001b[39;49m_engine\u001b[39m.\u001b[39;49mget_loc(casted_key)\n\u001b[1;32m   3803\u001b[0m \u001b[39mexcept\u001b[39;00m \u001b[39mKeyError\u001b[39;00m \u001b[39mas\u001b[39;00m err:\n",
      "File \u001b[0;32m~/Documents/GitHub/PI_ML_OPS/venv/lib/python3.10/site-packages/pandas/_libs/index.pyx:138\u001b[0m, in \u001b[0;36mpandas._libs.index.IndexEngine.get_loc\u001b[0;34m()\u001b[0m\n",
      "File \u001b[0;32m~/Documents/GitHub/PI_ML_OPS/venv/lib/python3.10/site-packages/pandas/_libs/index.pyx:165\u001b[0m, in \u001b[0;36mpandas._libs.index.IndexEngine.get_loc\u001b[0;34m()\u001b[0m\n",
      "File \u001b[0;32mpandas/_libs/hashtable_class_helper.pxi:5745\u001b[0m, in \u001b[0;36mpandas._libs.hashtable.PyObjectHashTable.get_item\u001b[0;34m()\u001b[0m\n",
      "File \u001b[0;32mpandas/_libs/hashtable_class_helper.pxi:5753\u001b[0m, in \u001b[0;36mpandas._libs.hashtable.PyObjectHashTable.get_item\u001b[0;34m()\u001b[0m\n",
      "\u001b[0;31mKeyError\u001b[0m: 'min'",
      "\nThe above exception was the direct cause of the following exception:\n",
      "\u001b[0;31mKeyError\u001b[0m                                  Traceback (most recent call last)",
      "Cell \u001b[0;32mIn[12], line 22\u001b[0m\n\u001b[1;32m     18\u001b[0m         name \u001b[39m=\u001b[39m name[\u001b[39m0\u001b[39m]\n\u001b[1;32m     19\u001b[0m     \u001b[39mreturn\u001b[39;00m name\n\u001b[0;32m---> 22\u001b[0m get_max_duration(\u001b[39m2014\u001b[39;49m, \u001b[39m'\u001b[39;49m\u001b[39mAmazon\u001b[39;49m\u001b[39m'\u001b[39;49m, \u001b[39m'\u001b[39;49m\u001b[39mmin\u001b[39;49m\u001b[39m'\u001b[39;49m)\n",
      "Cell \u001b[0;32mIn[12], line 9\u001b[0m, in \u001b[0;36mget_max_duration\u001b[0;34m(anio, plataforma, min_o_season)\u001b[0m\n\u001b[1;32m      6\u001b[0m \u001b[39m#ahora dentro del if, la función toma en cuenta si se ingresa como parámetro la palabra \"min\" o \"seasons\", para ver si se quiere buscar una serie o una película\u001b[39;00m\n\u001b[1;32m      7\u001b[0m \u001b[39mif\u001b[39;00m min_o_season \u001b[39m==\u001b[39m \u001b[39m'\u001b[39m\u001b[39mmin\u001b[39m\u001b[39m'\u001b[39m:\n\u001b[1;32m      8\u001b[0m \u001b[39m#dentro de a se va guardando en resultado maximo de la columna correspondiente a min, lo cual va llenando una lista para luego devolver la de mayor duración en esa plataforma y en ese año\u001b[39;00m\n\u001b[0;32m----> 9\u001b[0m     a \u001b[39m=\u001b[39m result[\u001b[39m'\u001b[39;49m\u001b[39mmin\u001b[39;49m\u001b[39m'\u001b[39;49m]\u001b[39m.\u001b[39mmax()\n\u001b[1;32m     10\u001b[0m     name \u001b[39m=\u001b[39m result[result[\u001b[39m'\u001b[39m\u001b[39mmin\u001b[39m\u001b[39m'\u001b[39m]\u001b[39m==\u001b[39ma] [\u001b[39m'\u001b[39m\u001b[39mtitle\u001b[39m\u001b[39m'\u001b[39m]\n\u001b[1;32m     11\u001b[0m     name \u001b[39m=\u001b[39m name\u001b[39m.\u001b[39mto_list()\n",
      "File \u001b[0;32m~/Documents/GitHub/PI_ML_OPS/venv/lib/python3.10/site-packages/pandas/core/frame.py:3807\u001b[0m, in \u001b[0;36mDataFrame.__getitem__\u001b[0;34m(self, key)\u001b[0m\n\u001b[1;32m   3805\u001b[0m \u001b[39mif\u001b[39;00m \u001b[39mself\u001b[39m\u001b[39m.\u001b[39mcolumns\u001b[39m.\u001b[39mnlevels \u001b[39m>\u001b[39m \u001b[39m1\u001b[39m:\n\u001b[1;32m   3806\u001b[0m     \u001b[39mreturn\u001b[39;00m \u001b[39mself\u001b[39m\u001b[39m.\u001b[39m_getitem_multilevel(key)\n\u001b[0;32m-> 3807\u001b[0m indexer \u001b[39m=\u001b[39m \u001b[39mself\u001b[39;49m\u001b[39m.\u001b[39;49mcolumns\u001b[39m.\u001b[39;49mget_loc(key)\n\u001b[1;32m   3808\u001b[0m \u001b[39mif\u001b[39;00m is_integer(indexer):\n\u001b[1;32m   3809\u001b[0m     indexer \u001b[39m=\u001b[39m [indexer]\n",
      "File \u001b[0;32m~/Documents/GitHub/PI_ML_OPS/venv/lib/python3.10/site-packages/pandas/core/indexes/base.py:3804\u001b[0m, in \u001b[0;36mIndex.get_loc\u001b[0;34m(self, key, method, tolerance)\u001b[0m\n\u001b[1;32m   3802\u001b[0m     \u001b[39mreturn\u001b[39;00m \u001b[39mself\u001b[39m\u001b[39m.\u001b[39m_engine\u001b[39m.\u001b[39mget_loc(casted_key)\n\u001b[1;32m   3803\u001b[0m \u001b[39mexcept\u001b[39;00m \u001b[39mKeyError\u001b[39;00m \u001b[39mas\u001b[39;00m err:\n\u001b[0;32m-> 3804\u001b[0m     \u001b[39mraise\u001b[39;00m \u001b[39mKeyError\u001b[39;00m(key) \u001b[39mfrom\u001b[39;00m \u001b[39merr\u001b[39;00m\n\u001b[1;32m   3805\u001b[0m \u001b[39mexcept\u001b[39;00m \u001b[39mTypeError\u001b[39;00m:\n\u001b[1;32m   3806\u001b[0m     \u001b[39m# If we have a listlike key, _check_indexing_error will raise\u001b[39;00m\n\u001b[1;32m   3807\u001b[0m     \u001b[39m#  InvalidIndexError. Otherwise we fall through and re-raise\u001b[39;00m\n\u001b[1;32m   3808\u001b[0m     \u001b[39m#  the TypeError.\u001b[39;00m\n\u001b[1;32m   3809\u001b[0m     \u001b[39mself\u001b[39m\u001b[39m.\u001b[39m_check_indexing_error(key)\n",
      "\u001b[0;31mKeyError\u001b[0m: 'min'"
     ]
    }
   ],
   "source": [
    "# Devuelve la película o serie con duración máxima de acuerdo a las diferentes plataformas\n",
    "\n",
    "def get_max_duration(anio:int,plataforma:str,min_o_season:str):\n",
    "    #colocamos dentro de una variable llamada result, el resultado de buscar un año y la plataforma\n",
    "    result = df[(df['release_year']==anio) & (df['platform']==plataforma)]\n",
    "    #ahora dentro del if, la función toma en cuenta si se ingresa como parámetro la palabra \"min\" o \"seasons\", para ver si se quiere buscar una serie o una película\n",
    "    if min_o_season == 'min':\n",
    "    #dentro de a se va guardando en resultado maximo de la columna correspondiente a min, lo cual va llenando una lista para luego devolver la de mayor duración en esa plataforma y en ese año\n",
    "        a = result['min'].max()\n",
    "        name = result[result['min']==a] ['title']\n",
    "        name = name.to_list()\n",
    "        name = name[0]\n",
    "    else:\n",
    "        a = result['seasons'].max()\n",
    "        #dentro de a se va guardando en resultado maximo de la columna correspondiente a seasons, lo cual va llenando una lista para luego devolver la de mayor duración en esa plataforma y en ese año\n",
    "        name = result[result['seasons']==a] ['title']\n",
    "        name = name.to_list()\n",
    "        name = name[0]\n",
    "    return name\n",
    "\n",
    "\n",
    "get_max_duration(2014, 'Amazon', 'min')"
   ]
  },
  {
   "cell_type": "code",
   "execution_count": null,
   "metadata": {},
   "outputs": [],
   "source": [
    "#función que debe devolver la cantidad de peliculas y tv shows que tienen las diferentes plataformas\n",
    "\n",
    "def get_count_platform(plataforma:str):\n",
    "    #sumamos las cantidad de películas según la plataforma\n",
    "    movie =((df['platform']==plataforma) & (df.iloc[:, 1].str.contains('Movie'))).sum()  \n",
    "    #sumamos la cantidad de series según la plataforma\n",
    "    tv_show =((df['platform']==plataforma) & (df.iloc[:, 1].str.contains('TV Show'))).sum() \n",
    "    return ('Platform: ' + str(plataforma) + ' amount of movies: ' + str(movie) + ' amount of TV Shows: ' +str(tv_show))\n",
    "\n",
    "@app.get('/get_count_platform/({platform})')"
   ]
  },
  {
   "cell_type": "code",
   "execution_count": null,
   "metadata": {},
   "outputs": [],
   "source": [
    "#función que debe devolver la cantidad de veces que aparece un género con respecto a alguna plataforma\n",
    "\n",
    "def get_listedin(genero:str):\n",
    "    # se crea una lista llamada plataforma con los elementos únicos de la columna platform\n",
    "    plataforma = list(df.platform.unique()) \n",
    "    #se crea esta lista para ir agregando la cantidad de apariciones de cada actor\n",
    "    cant_apariciones = list()             \n",
    "    for elemento in plataforma:    \n",
    "    #se va ubicando nuestro elemento dentro de la variable df_plataforma\n",
    "        df_plataforma = df[(df.platform == elemento)] \n",
    "        #se crea una columna para los indices de la cantidad de veces que se encuentra el genero buscado \n",
    "        df_plataforma['indices'] = df_plataforma.listed_in.str.find(genero) \n",
    "        #se adjunta la cantidad de apariciones del género para que se vayan sumando, dentro de la lista cant_apariciones y nos devuelve la de índice 0\n",
    "        cant_apariciones.append(df_plataforma[df_plataforma.indices != -1].indices.shape[0]) \n",
    "    return max(cant_apariciones), plataforma[cant_apariciones.index(max(cant_apariciones))]\n",
    "\n",
    "@app.get('/get_listedin/({genero})')"
   ]
  },
  {
   "cell_type": "code",
   "execution_count": null,
   "metadata": {},
   "outputs": [],
   "source": [
    "\n",
    "def get_actor(platform:str, anio:int):\n",
    "    result = df[(df['platform']==platform) & (df['release_year']==anio)]\n",
    "    #se empieza realizando una iteración dentro de la columna cast, donde están los actores. Si lo que encuentra es diferente a \"sin dato\",\n",
    "    #es decir que encontró información, va a reemplazar la coma y el espacio, por solo la coma. Para realizar luego una separación entre\n",
    "    #ellos y empezar a diferenciarlos como valores únicos, ya que por cada dato en cast hay muchos actores. Si no encuentra nada, pasa y \n",
    "    #sigue con el próximo\n",
    "    for i in result['cast']:\n",
    "        if i != 'Sin dato':\n",
    "            i=i.replace(', ', ',')\n",
    "        else:\n",
    "            pass\n",
    "    #ahora si se crea una lista para ir guardando los actores como valores únicos, separándolos por la coma.\n",
    "    lista=[]\n",
    "    for i in result['cast']:\n",
    "        if i != 'Sin dato':\n",
    "            s=i.split(',')\n",
    "            for j in range(len(s)):             \n",
    "                if s[j] not in lista:\n",
    "                    lista.append(s[j])\n",
    "                else:\n",
    "                    pass\n",
    "        else:\n",
    "            pass\n",
    "    lista=list(set(lista))\n",
    "    #iniciamos un contador en 0, y creamos un diccionario para ir guardando la cantidad de veces que se repite cada actor\n",
    "    contador = 0\n",
    "    dict={}\n",
    "    for i in lista:\n",
    "        contador = 0\n",
    "        for j in result['cast']:\n",
    "            if i in j.split(','):\n",
    "                contador+=1\n",
    "        dict[i]=contador\n",
    "    return max(dict,key=dict.get)\n",
    "\n",
    "@app.get('/get_actor/({plataforma},{anio})')"
   ]
  }
 ],
 "metadata": {
  "kernelspec": {
   "display_name": "venv",
   "language": "python",
   "name": "python3"
  },
  "language_info": {
   "codemirror_mode": {
    "name": "ipython",
    "version": 3
   },
   "file_extension": ".py",
   "mimetype": "text/x-python",
   "name": "python",
   "nbconvert_exporter": "python",
   "pygments_lexer": "ipython3",
   "version": "3.10.10"
  },
  "orig_nbformat": 4
 },
 "nbformat": 4,
 "nbformat_minor": 2
}
