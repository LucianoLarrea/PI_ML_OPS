{
 "cells": [
  {
   "attachments": {},
   "cell_type": "markdown",
   "metadata": {},
   "source": [
    "## Descripcion"
   ]
  },
  {
   "attachments": {},
   "cell_type": "markdown",
   "metadata": {},
   "source": [
    "## Load Data"
   ]
  },
  {
   "cell_type": "code",
   "execution_count": 47,
   "metadata": {},
   "outputs": [],
   "source": [
    "import pandas as pd"
   ]
  },
  {
   "cell_type": "code",
   "execution_count": 54,
   "metadata": {},
   "outputs": [],
   "source": [
    "# Importa titles\n",
    "All = pd.read_parquet('processed_data/titles.parquet')\n",
    "# All = pd.read_csv(\"data/all.csv\")"
   ]
  },
  {
   "cell_type": "code",
   "execution_count": 55,
   "metadata": {},
   "outputs": [],
   "source": [
    "Score = pd.read_parquet('processed_data/score.parquet')\n",
    "# Score_CSV = pd.read_csv('ignore/score.csv')"
   ]
  },
  {
   "cell_type": "code",
   "execution_count": 50,
   "metadata": {},
   "outputs": [
    {
     "data": {
      "text/html": [
       "<div>\n",
       "<style scoped>\n",
       "    .dataframe tbody tr th:only-of-type {\n",
       "        vertical-align: middle;\n",
       "    }\n",
       "\n",
       "    .dataframe tbody tr th {\n",
       "        vertical-align: top;\n",
       "    }\n",
       "\n",
       "    .dataframe thead th {\n",
       "        text-align: right;\n",
       "    }\n",
       "</style>\n",
       "<table border=\"1\" class=\"dataframe\">\n",
       "  <thead>\n",
       "    <tr style=\"text-align: right;\">\n",
       "      <th></th>\n",
       "      <th>userId</th>\n",
       "      <th>movieId</th>\n",
       "      <th>score</th>\n",
       "      <th>platform</th>\n",
       "    </tr>\n",
       "  </thead>\n",
       "  <tbody>\n",
       "    <tr>\n",
       "      <th>11024286</th>\n",
       "      <td>124380</td>\n",
       "      <td>hs305</td>\n",
       "      <td>3</td>\n",
       "      <td>hulu</td>\n",
       "    </tr>\n",
       "    <tr>\n",
       "      <th>11024287</th>\n",
       "      <td>124380</td>\n",
       "      <td>ns7881</td>\n",
       "      <td>4</td>\n",
       "      <td>netflix</td>\n",
       "    </tr>\n",
       "    <tr>\n",
       "      <th>11024288</th>\n",
       "      <td>124380</td>\n",
       "      <td>as883</td>\n",
       "      <td>1</td>\n",
       "      <td>amazon</td>\n",
       "    </tr>\n",
       "  </tbody>\n",
       "</table>\n",
       "</div>"
      ],
      "text/plain": [
       "          userId movieId  score platform\n",
       "11024286  124380   hs305      3     hulu\n",
       "11024287  124380  ns7881      4  netflix\n",
       "11024288  124380   as883      1   amazon"
      ]
     },
     "execution_count": 50,
     "metadata": {},
     "output_type": "execute_result"
    }
   ],
   "source": [
    "Score.tail(3)"
   ]
  },
  {
   "cell_type": "code",
   "execution_count": 27,
   "metadata": {},
   "outputs": [
    {
     "name": "stdout",
     "output_type": "stream",
     "text": [
      "All platforms\n",
      "Duplicates: False\n",
      "Files, Columns: (22998, 13)\n",
      "id                   0\n",
      "platform             0\n",
      "type                 0\n",
      "title                0\n",
      "director          8259\n",
      "cast              5321\n",
      "country          11499\n",
      "date_added        9554\n",
      "release_year         0\n",
      "duration_int         0\n",
      "duration_type      482\n",
      "listed_in            0\n",
      "description          4\n",
      "dtype: int64\n"
     ]
    },
    {
     "data": {
      "text/html": [
       "<div>\n",
       "<style scoped>\n",
       "    .dataframe tbody tr th:only-of-type {\n",
       "        vertical-align: middle;\n",
       "    }\n",
       "\n",
       "    .dataframe tbody tr th {\n",
       "        vertical-align: top;\n",
       "    }\n",
       "\n",
       "    .dataframe thead th {\n",
       "        text-align: right;\n",
       "    }\n",
       "</style>\n",
       "<table border=\"1\" class=\"dataframe\">\n",
       "  <thead>\n",
       "    <tr style=\"text-align: right;\">\n",
       "      <th></th>\n",
       "      <th>id</th>\n",
       "      <th>platform</th>\n",
       "      <th>type</th>\n",
       "      <th>title</th>\n",
       "      <th>director</th>\n",
       "      <th>cast</th>\n",
       "      <th>country</th>\n",
       "      <th>date_added</th>\n",
       "      <th>release_year</th>\n",
       "      <th>duration_int</th>\n",
       "      <th>duration_type</th>\n",
       "      <th>listed_in</th>\n",
       "      <th>description</th>\n",
       "    </tr>\n",
       "  </thead>\n",
       "  <tbody>\n",
       "    <tr>\n",
       "      <th>22996</th>\n",
       "      <td>ns8806</td>\n",
       "      <td>netflix</td>\n",
       "      <td>movie</td>\n",
       "      <td>zoom</td>\n",
       "      <td>peter hewitt</td>\n",
       "      <td>tim allen, courteney cox, chevy chase, kate ma...</td>\n",
       "      <td>united states</td>\n",
       "      <td>2020-01-11</td>\n",
       "      <td>2006</td>\n",
       "      <td>88</td>\n",
       "      <td>min</td>\n",
       "      <td>children &amp; family movies, comedies</td>\n",
       "      <td>dragged from civilian life, a former superhero...</td>\n",
       "    </tr>\n",
       "    <tr>\n",
       "      <th>22997</th>\n",
       "      <td>ns8807</td>\n",
       "      <td>netflix</td>\n",
       "      <td>movie</td>\n",
       "      <td>zubaan</td>\n",
       "      <td>mozez singh</td>\n",
       "      <td>vicky kaushal, sarah-jane dias, raaghav chanan...</td>\n",
       "      <td>india</td>\n",
       "      <td>2019-03-02</td>\n",
       "      <td>2015</td>\n",
       "      <td>111</td>\n",
       "      <td>min</td>\n",
       "      <td>dramas, international movies, music &amp; musicals</td>\n",
       "      <td>a scrappy but poor boy worms his way into a ty...</td>\n",
       "    </tr>\n",
       "  </tbody>\n",
       "</table>\n",
       "</div>"
      ],
      "text/plain": [
       "           id platform   type   title      director  \\\n",
       "22996  ns8806  netflix  movie    zoom  peter hewitt   \n",
       "22997  ns8807  netflix  movie  zubaan   mozez singh   \n",
       "\n",
       "                                                    cast        country  \\\n",
       "22996  tim allen, courteney cox, chevy chase, kate ma...  united states   \n",
       "22997  vicky kaushal, sarah-jane dias, raaghav chanan...          india   \n",
       "\n",
       "       date_added  release_year  duration_int duration_type  \\\n",
       "22996  2020-01-11          2006            88           min   \n",
       "22997  2019-03-02          2015           111           min   \n",
       "\n",
       "                                            listed_in  \\\n",
       "22996              children & family movies, comedies   \n",
       "22997  dramas, international movies, music & musicals   \n",
       "\n",
       "                                             description  \n",
       "22996  dragged from civilian life, a former superhero...  \n",
       "22997  a scrappy but poor boy worms his way into a ty...  "
      ]
     },
     "execution_count": 27,
     "metadata": {},
     "output_type": "execute_result"
    }
   ],
   "source": [
    "# Obtiene informacion\n",
    "print('All platforms')\n",
    "print('Duplicates:',All.duplicated().any())\n",
    "print('Files, Columns:',All.shape)\n",
    "print(All.isnull().sum())\n",
    "All.tail(2)"
   ]
  },
  {
   "attachments": {},
   "cell_type": "markdown",
   "metadata": {},
   "source": [
    "## Queries"
   ]
  },
  {
   "cell_type": "code",
   "execution_count": 92,
   "metadata": {},
   "outputs": [],
   "source": [
    "# Variables que tomarán el valor de los parámetros de filtro de las queries.\n",
    "platform = 'hulu'\n",
    "type = 'movie'\n",
    "scored = 2\n",
    "year = 2019\n",
    "duration_type = 'min'"
   ]
  },
  {
   "attachments": {},
   "cell_type": "markdown",
   "metadata": {},
   "source": [
    "### Query 1"
   ]
  },
  {
   "cell_type": "code",
   "execution_count": 56,
   "metadata": {},
   "outputs": [
    {
     "data": {
      "text/plain": [
       "\"marvel studios' avengers: endgame\""
      ]
     },
     "execution_count": 56,
     "metadata": {},
     "output_type": "execute_result"
    }
   ],
   "source": [
    "# Prueba los filtros antes de hacer la funcion Query 1\n",
    "# Película con mayor duración con filtros opcionales de AÑO, PLATAFORMA Y TIPO DE DURACIÓN. \n",
    "# (la función debe llamarse get_max_duration(year, platform, duration_type))\n",
    "# Q1 = All[(All['platform'] == platform) & (All['release_year'] == year) & (All['duration_type'] == duration_type)].sort_values(by = 'duration_int' , ascending=False)\n",
    "# Q1['title'].values[0]"
   ]
  },
  {
   "cell_type": "code",
   "execution_count": 57,
   "metadata": {},
   "outputs": [
    {
     "data": {
      "text/plain": [
       "\"marvel studios' avengers: endgame\""
      ]
     },
     "execution_count": 57,
     "metadata": {},
     "output_type": "execute_result"
    }
   ],
   "source": [
    "# Funcion Query 1\n",
    "# Devuelve: Película con mayor duración con filtros opcionales de AÑO, PLATAFORMA Y TIPO DE DURACIÓN. \n",
    "def get_max_duration(year:int, platform:str, duration_type:str): \n",
    "    Q1 = All[(All['platform'] == platform) & (All['release_year'] == year) & (All['duration_type'] == duration_type)].sort_values(by = 'duration_int' , ascending=False)\n",
    "    if len(Q1) > 0:\n",
    "        result = Q1['title'].values[0] \n",
    "        return result\n",
    "    else:\n",
    "        return (\"Not titles found with those parameters.\")\n",
    "    \n",
    "get_max_duration(year, platform, duration_type)"
   ]
  },
  {
   "attachments": {},
   "cell_type": "markdown",
   "metadata": {},
   "source": [
    "### Query 2"
   ]
  },
  {
   "cell_type": "code",
   "execution_count": 58,
   "metadata": {},
   "outputs": [
    {
     "data": {
      "text/plain": [
       "154"
      ]
     },
     "execution_count": 58,
     "metadata": {},
     "output_type": "execute_result"
    }
   ],
   "source": [
    "# Prueba los filtros antes de hacer la funcion Query 2\n",
    "# Cantidad de películas por plataforma con un puntaje mayor a XX en determinado año \n",
    "# (la función debe llamarse get_score_count(platform, scored, year))\n",
    "# Score[(Score['platform'] == platform) & (Score['score'] >= scored) & (All['release_year'] == year)].shape[0]"
   ]
  },
  {
   "cell_type": "code",
   "execution_count": 59,
   "metadata": {},
   "outputs": [
    {
     "data": {
      "text/plain": [
       "154"
      ]
     },
     "execution_count": 59,
     "metadata": {},
     "output_type": "execute_result"
    }
   ],
   "source": [
    "# Funcion Query 2\n",
    "def get_score_count(platform, scored, year):\n",
    "    Q2 = Score[(Score['platform'] == platform) & (Score['score'] >= scored) & (All['release_year'] == year)].shape[0]\n",
    "    return Q2\n",
    "      \n",
    "get_score_count(platform, scored, year)  "
   ]
  },
  {
   "attachments": {},
   "cell_type": "markdown",
   "metadata": {},
   "source": [
    "### Query 3"
   ]
  },
  {
   "cell_type": "code",
   "execution_count": 63,
   "metadata": {},
   "outputs": [
    {
     "data": {
      "text/plain": [
       "1450"
      ]
     },
     "execution_count": 63,
     "metadata": {},
     "output_type": "execute_result"
    }
   ],
   "source": [
    "# Funcion Query 3\n",
    "# Cantidad de películas por plataforma con filtro de PLATAFORMA. (La función debe llamarse get_count_platform(platform))\n",
    "def get_count_platform(platform:str, All:pd.DataFrame):\n",
    "    All = All.loc[All['platform'] == platform]\n",
    "    movies_platform = len(All.index)\n",
    "    return movies_platform\n",
    "\n",
    "get_count_platform(platform, All)\n"
   ]
  },
  {
   "attachments": {},
   "cell_type": "markdown",
   "metadata": {},
   "source": [
    "### Query 4"
   ]
  },
  {
   "cell_type": "code",
   "execution_count": 125,
   "metadata": {},
   "outputs": [
    {
     "name": "stdout",
     "output_type": "stream",
     "text": [
      "{'actor': 'Not found', 'appearances': 0}\n"
     ]
    }
   ],
   "source": [
    "# Actor que más se repite según plataforma y año. (La función debe llamarse get_actor(platform, year))\n",
    "Not_found = {'actor': 'Not found', 'appearances': 0}\n",
    "Q4_1 = All[(All['platform'] == platform) & (All['release_year'] == year)]   # Filtra por plataforma y anio\n",
    "if len(Q4_1) == 0:                              # Si no hay valores para esos filtros: No encontrado\n",
    "    print(Not_found)\n",
    "else:    \n",
    "    Q4_2 = Q4_1.assign(actor=Q4_1.cast.str.split(',')).explode('cast')  # Divide 'cast' por comas\n",
    "    mask = Q4_2['actor'].isna()                 # Filtra los valores nulos\n",
    "    Q4_3 = Q4_2.loc[mask, 'actor']\n",
    "    if len(Q4_3) == 0:                          # Si no hay valores luego de filtrar nulos: No encontrado\n",
    "        print(Not_found)\n",
    "    else:\n",
    "        Q4_4 = Q4_3.cast.value_counts()         # Crea una lista con actores y apariciones.\n",
    "        max_actor = Q4_4.index[0]               # Obtiene el actor con más apariciones\n",
    "        max_count = int(Q4_4.iloc[0])           # Obtiene el número de apariciones\n",
    "        Q5 = dict({'actor': max_actor, 'appearances': max_count})\n",
    "        print(Q5)\n",
    "    "
   ]
  },
  {
   "cell_type": "code",
   "execution_count": 117,
   "metadata": {},
   "outputs": [
    {
     "data": {
      "text/plain": [
       "0"
      ]
     },
     "execution_count": 117,
     "metadata": {},
     "output_type": "execute_result"
    }
   ],
   "source": [
    "\n",
    "mask = Q4_2['actor'].isna()\n",
    "Q4_3 = Q4_2.loc[mask, 'actor']\n",
    "len(Q4_3)"
   ]
  },
  {
   "cell_type": "code",
   "execution_count": 91,
   "metadata": {},
   "outputs": [
    {
     "data": {
      "text/plain": [
       "{'actor': 'dan nachtrab', 'appearances': 3}"
      ]
     },
     "execution_count": 91,
     "metadata": {},
     "output_type": "execute_result"
    }
   ],
   "source": [
    "# Funcion Query 4\n",
    "def get_actor(platform:str, year:int):\n",
    "    All = pd.read_csv(\"data/all.csv\")\n",
    "    Q4_1 = All[(All['platform'] == platform) & (All['release_year'] == year)]   # Filtra por plataforma y anio\n",
    "    if len(Q4_1) > 0: \n",
    "        Q4_2 = Q4_1.assign(actor=Q4_1.cast.str.split(',')).explode('cast')  # Divide 'cast' por comas\n",
    "        Q4_3 = Q4_2.cast.value_counts()         # Crea una lista con actores y apariciones.\n",
    "        max_actor = Q4_3.index[0]               # Obtiene el actor con más apariciones\n",
    "        max_count = int(Q4_3.iloc[0])           # Obtiene el número de apariciones\n",
    "        if max_actor == 'nan':                  # Si los valores nulos son los mas frecuentes\n",
    "            max_actor = Q4_3.index[1]           # Obtiene el segundo actor con más apariciones\n",
    "            max_count = int(Q4_3.iloc[1])       # Obtiene el número de apariciones correspondiente\n",
    "        Q4 = dict({'actor': max_actor, 'appearances': max_count})\n",
    "        return Q4\n",
    "    else:\n",
    "        return ({'actor': '', 'appearances': 0})\n",
    "    \n",
    "get_actor(platform, year)"
   ]
  },
  {
   "cell_type": "code",
   "execution_count": null,
   "metadata": {},
   "outputs": [],
   "source": [
    "# All = pd.read_csv(\"data/all.csv\")\n",
    "# All = All.loc[All['release_year'] == year]\n",
    "# All = All.loc[All['platform'] == platform]\n",
    "# All = All.loc[All['duration_type'] == duration_type]\n",
    "# All['duration_int'].max()\n"
   ]
  },
  {
   "cell_type": "code",
   "execution_count": null,
   "metadata": {},
   "outputs": [],
   "source": [
    "# All.to_csv('data/all.csv', index=False)"
   ]
  }
 ],
 "metadata": {
  "kernelspec": {
   "display_name": "Python 3",
   "language": "python",
   "name": "python3"
  },
  "language_info": {
   "codemirror_mode": {
    "name": "ipython",
    "version": 3
   },
   "file_extension": ".py",
   "mimetype": "text/x-python",
   "name": "python",
   "nbconvert_exporter": "python",
   "pygments_lexer": "ipython3",
   "version": "3.10.10"
  },
  "orig_nbformat": 4
 },
 "nbformat": 4,
 "nbformat_minor": 2
}
