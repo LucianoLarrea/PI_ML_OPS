{
 "cells": [
  {
   "attachments": {},
   "cell_type": "markdown",
   "metadata": {},
   "source": [
    "## Descripcion"
   ]
  },
  {
   "attachments": {},
   "cell_type": "markdown",
   "metadata": {},
   "source": [
    "## Load Data"
   ]
  },
  {
   "cell_type": "code",
   "execution_count": null,
   "metadata": {},
   "outputs": [],
   "source": [
    "import pandas as pd"
   ]
  },
  {
   "cell_type": "code",
   "execution_count": null,
   "metadata": {},
   "outputs": [],
   "source": [
    "All = pd.read_csv(\"data/all.csv\")"
   ]
  },
  {
   "cell_type": "code",
   "execution_count": null,
   "metadata": {},
   "outputs": [],
   "source": [
    "# Tratar luego con score.parquet\n",
    "Score_CSV = pd.read_csv('ignore/score.csv')"
   ]
  },
  {
   "cell_type": "code",
   "execution_count": null,
   "metadata": {},
   "outputs": [],
   "source": [
    "Score = pd.read_parquet('data/score.parquet')"
   ]
  },
  {
   "cell_type": "code",
   "execution_count": null,
   "metadata": {},
   "outputs": [],
   "source": [
    "Score.head()"
   ]
  },
  {
   "cell_type": "code",
   "execution_count": null,
   "metadata": {},
   "outputs": [],
   "source": [
    "Score.head(5)"
   ]
  },
  {
   "cell_type": "code",
   "execution_count": null,
   "metadata": {},
   "outputs": [],
   "source": [
    "All = pd.read_csv(\"data/all.csv\")\n",
    "print('All platforms')\n",
    "print('Duplicates:',All.duplicated().any())\n",
    "print('Files, Columns:',All.shape)\n",
    "print(All.isnull().sum())\n",
    "All.tail(2)"
   ]
  },
  {
   "attachments": {},
   "cell_type": "markdown",
   "metadata": {},
   "source": [
    "## Queries"
   ]
  },
  {
   "cell_type": "code",
   "execution_count": null,
   "metadata": {},
   "outputs": [],
   "source": [
    "# Variables que tomarán el valor de los parámetros de filtro de las queries.\n",
    "platform = 'amazon'\n",
    "type = 'movie'\n",
    "scored = 4\n",
    "year = 2020\n",
    "duration_type = 'min'"
   ]
  },
  {
   "attachments": {},
   "cell_type": "markdown",
   "metadata": {},
   "source": [
    "### Query 1"
   ]
  },
  {
   "cell_type": "code",
   "execution_count": null,
   "metadata": {},
   "outputs": [],
   "source": [
    "# Película con mayor duración con filtros opcionales de AÑO, PLATAFORMA Y TIPO DE DURACIÓN. \n",
    "# (la función debe llamarse get_max_duration(year, platform, duration_type))\n",
    "# Q1 = All[(All['platform'] == platform) & (All['release_year'] == year) & (All['duration_type'] == duration_type)].sort_values(by = 'duration_int' , ascending=False)\n",
    "# Q1['title'].values[0]"
   ]
  },
  {
   "cell_type": "code",
   "execution_count": null,
   "metadata": {},
   "outputs": [],
   "source": [
    "# Funcion Query 1\n",
    "# Devuelve: Película con mayor duración con filtros opcionales de AÑO, PLATAFORMA Y TIPO DE DURACIÓN. \n",
    "def get_max_duration(year:int, platform:str, duration_type:str): \n",
    "    All = pd.read_csv(\"data/all.csv\")\n",
    "    Q1 = All[(All['platform'] == platform) & (All['release_year'] == year) & (All['duration_type'] == duration_type)].sort_values(by = 'duration_int' , ascending=False)\n",
    "    if len(Q1) > 0:\n",
    "        result = Q1['title'].values[0] \n",
    "        return result\n",
    "    else:\n",
    "        return (\"Not titles found with those parameters.\")\n",
    "    \n",
    "get_max_duration(year, platform, duration_type)"
   ]
  },
  {
   "attachments": {},
   "cell_type": "markdown",
   "metadata": {},
   "source": [
    "### Query 2"
   ]
  },
  {
   "cell_type": "code",
   "execution_count": null,
   "metadata": {},
   "outputs": [],
   "source": [
    "# Cantidad de películas por plataforma con un puntaje mayor a XX en determinado año \n",
    "# (la función debe llamarse get_score_count(platform, scored, year))\n",
    "# Score[(Score['platform'] == platform) & (Score['score'] >= rating) & (Score['year'] == year)].shape[0]\n",
    "# Unificar promedio de score antes de aplicar este filtro\n",
    "# Score[(Score['platform'] == platform) & (Score['score'] >= scored) & (All['release_year'] == year)].shape[0]"
   ]
  },
  {
   "cell_type": "code",
   "execution_count": null,
   "metadata": {},
   "outputs": [],
   "source": [
    "Score[(Score['platform'] == platform) & (Score['score'] >= scored) & (All['release_year'] == year)].shape[0]"
   ]
  },
  {
   "cell_type": "code",
   "execution_count": null,
   "metadata": {},
   "outputs": [],
   "source": [
    "# Funcion Query 2\n",
    "def get_score_count(platform, scored, year):\n",
    "    All = pd.read_csv(\"data/all.csv\")\n",
    "    Score = pd.read_parquet('data/score.parquet')\n",
    "    result = Score[(Score['platform'] == platform) & (Score['score'] >= scored) & (All['release_year'] == year)].shape[0]\n",
    "    return result\n",
    "      \n",
    "get_score_count(platform, scored, year)  "
   ]
  },
  {
   "attachments": {},
   "cell_type": "markdown",
   "metadata": {},
   "source": [
    "### Query 3"
   ]
  },
  {
   "cell_type": "code",
   "execution_count": null,
   "metadata": {},
   "outputs": [],
   "source": [
    "# Funcion Query 3\n",
    "# Cantidad de películas por plataforma con filtro de PLATAFORMA. (La función debe llamarse get_count_platform(platform))\n",
    "def get_count_platform(platform:str):\n",
    "    All = pd.read_csv(\"data/all.csv\")\n",
    "    All = All.loc[All['platform'] == platform]\n",
    "    movies_platform = len(All.index)\n",
    "    return movies_platform\n",
    "\n",
    "get_count_platform(platform)\n"
   ]
  },
  {
   "attachments": {},
   "cell_type": "markdown",
   "metadata": {},
   "source": [
    "### Query 4"
   ]
  },
  {
   "cell_type": "code",
   "execution_count": null,
   "metadata": {},
   "outputs": [],
   "source": [
    "# Actor que más se repite según plataforma y año. (La función debe llamarse get_actor(platform, year))\n",
    "# Q4_1 = All[(All['platform'] == platform) & (All['release_year'] == year)]   # Filtra por plataforma y anio\n",
    "# if len(Q1) > 0: \n",
    "#     Q4_2 = Q4_1.assign(actor=Q4_1.cast.str.split(',')).explode('cast')          # Divide 'cast', crea y cuenta una fila por cada elemento.\n",
    "#     Q4_3 = Q4_2.cast.value_counts()  \n",
    "#     max_actor = Q4_3.index[0]                                                   # Obtiene el actor con más apariciones y número de apariciones\n",
    "#     max_count = int(Q4_3.iloc[0])\n",
    "#     Q4 = dict({'actor': max_actor, 'appearances': max_count})\n",
    "# else:\n",
    "#     print(\"No actor found with those parameters.\")"
   ]
  },
  {
   "cell_type": "code",
   "execution_count": null,
   "metadata": {},
   "outputs": [],
   "source": [
    "# Funcion Query 4\n",
    "def get_actor(platform:str, year:int):\n",
    "    All = pd.read_csv(\"data/all.csv\")\n",
    "    Q4_1 = All[(All['platform'] == platform) & (All['release_year'] == year)]   # Filtra por plataforma y anio\n",
    "    if len(Q4_1) > 0: \n",
    "        Q4_2 = Q4_1.assign(actor=Q4_1.cast.str.split(',')).explode('cast')          # Divide 'cast', crea y cuenta una fila por cada elemento.\n",
    "        Q4_3 = Q4_2.cast.value_counts()  \n",
    "        max_actor = Q4_3.index[0]                                                   # Obtiene el actor con más apariciones y número de apariciones\n",
    "        max_count = int(Q4_3.iloc[0])\n",
    "        Q4 = dict({'actor': max_actor, 'appearances': max_count})\n",
    "        return Q4\n",
    "    else:\n",
    "        return (\"No actor found with those parameters.\")\n",
    "    \n",
    "get_actor(platform, year)"
   ]
  },
  {
   "cell_type": "code",
   "execution_count": null,
   "metadata": {},
   "outputs": [],
   "source": [
    "# All = pd.read_csv(\"data/all.csv\")\n",
    "# All = All.loc[All['release_year'] == year]\n",
    "# All = All.loc[All['platform'] == platform]\n",
    "# All = All.loc[All['duration_type'] == duration_type]\n",
    "# All['duration_int'].max()\n"
   ]
  },
  {
   "cell_type": "code",
   "execution_count": null,
   "metadata": {},
   "outputs": [],
   "source": [
    "# year = 2020\n",
    "# platform = 'amazon'\n",
    "# duration_type = 'season'\n",
    "# get_max_duration(year,platform,duration_type)"
   ]
  },
  {
   "attachments": {},
   "cell_type": "markdown",
   "metadata": {},
   "source": [
    "## Carga"
   ]
  },
  {
   "cell_type": "code",
   "execution_count": null,
   "metadata": {},
   "outputs": [],
   "source": [
    "All.to_csv('data/all.csv', index=False)"
   ]
  }
 ],
 "metadata": {
  "kernelspec": {
   "display_name": "Python 3",
   "language": "python",
   "name": "python3"
  },
  "language_info": {
   "codemirror_mode": {
    "name": "ipython",
    "version": 3
   },
   "file_extension": ".py",
   "mimetype": "text/x-python",
   "name": "python",
   "nbconvert_exporter": "python",
   "pygments_lexer": "ipython3",
   "version": "3.10.10"
  },
  "orig_nbformat": 4
 },
 "nbformat": 4,
 "nbformat_minor": 2
}
